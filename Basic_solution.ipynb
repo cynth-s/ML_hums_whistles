{
 "cells": [
  {
   "cell_type": "markdown",
   "metadata": {
    "id": "91MsGMTna_P9"
   },
   "source": [
    "# ECS7020P mini-project submission\n",
    "\n",
    "The mini-project consists of two components:\n",
    "\n",
    "\n",
    "1.   **Basic solution** [6 marks]: Using the MLEnd Hums and Whistles dataset, build a machine learning pipeline that takes as an input a Potter or a StarWars audio segment and predicts its song label (either Harry or StarWars).\n",
    "2.   **Advanced solution** [10 marks]: There are two options. (i) Formulate a machine learning problem that can be attempted using the MLEnd Hums and Whistles dataset and build a solution model. (ii) Create a product that uses the functionality provided by a model trained on the MLEnd Hums and Whistles dataset (e.g. a simple App that predicts the label Harry or StarWars when you hum to it).  \n",
    "\n",
    "The submission will consist of two Jupyter notebooks, one for the basic solution and another one for advanced solution. Please **name each notebook**:\n",
    "\n",
    "* ECS7020P_miniproject_basic.ipynb\n",
    "* ECS7020P_miniproject_advanced.ipynb\n",
    "\n",
    "then **zipped and submitted toghether**.\n",
    "\n",
    "Each uploaded notebook should consist of: \n",
    "\n",
    "*   **Text cells**, describing concisely each step and results.\n",
    "*   **Code cells**, implementing each step.\n",
    "*   **Output cells**, i.e. the output from each code cell.\n",
    "\n",
    "and **should have the structure** indicated below. Notebooks will not be run, please make sure that the output cells are saved.\n",
    "\n",
    "How will we evaluate your submission?\n",
    "\n",
    "*   Conciseness in your writing (10%).\n",
    "*   Correctness in your methodology (30%).\n",
    "*   Correctness in your analysis and conclusions (30%).\n",
    "*   Completeness (10%).\n",
    "*   Originality (10%).\n",
    "*   Efforts to try something new (10%).\n",
    "\n",
    "Suggestion: Why don't you use **GitHub** to manage your project? GitHub can be used as a presentation card that showcases what you have done and gives evidence of your data science skills, knowledge and experience. \n",
    "\n",
    "Each notebook should be structured into the following 9 sections:\n"
   ]
  },
  {
   "cell_type": "code",
   "execution_count": 1,
   "metadata": {},
   "outputs": [],
   "source": [
    "\"\"\"\n",
    "Defining the list of libraries that I will be using for the program/model\n",
    "\n",
    "\"\"\"\n",
    "\n",
    "import numpy as np\n",
    "import pandas as pd\n",
    "import matplotlib.pyplot as plt\n",
    "\n",
    "import os, sys, re, pickle, glob\n",
    "import urllib.request\n",
    "import zipfile\n",
    "\n",
    "import IPython.display as ipd\n",
    "from tqdm import tqdm\n",
    "\n",
    "import librosa \n",
    "\n",
    "import scipy.stats as stats\n"
   ]
  },
  {
   "cell_type": "markdown",
   "metadata": {
    "id": "ZaGn4ICrfqXZ"
   },
   "source": [
    "# 1 Author\n",
    "\n",
    "**Student Name**:  Cynthia Alfred Saldanha\n",
    
  },
  {
   "cell_type": "markdown",
   "metadata": {
    "id": "o38VQkcdKd6k"
   },
   "source": [
    "# 2 Problem formulation\n",
    "\n",
    "Here, we will be differentiating if a given audio is a Harry Potter song or a StarWars song.\n",
    "The interesting part is that the audio consists of hums and whistles of people who can or cannot sing rather than using the sound of musical instruments to identify the song. Using the sound of musical instruments would be easy as they have a fixed frequency, pitch and notes making it easier to identify the songs. However, with hums and whistles there can be chances of the pitch being incorrect, notes being incorrect as not everyone can sing or hum or whistle. If we consider an example of the Harry Potter song, this song can have different variations of hums and whistles. The interesting part would be to identify the different variations of hums and whistles of the same song and then use the data to differentiate between the given two songs."
   ]
  },
  {
   "cell_type": "markdown",
   "metadata": {
    "id": "N3BwrtEdLDit"
   },
   "source": [
    "# 3 Machine Learning pipeline\n",
    "\n",
    "Here, i have used pipeline to run two different classifiers for the same model. The first pipeline is for Random Forest classifier. Here, the inputs to the pipeline are as follows : 1) StandardScaler function to scale the features and 2) RandomForestClassifier function to use the random forest classifier model. The pipeline is stored in a variable which can be used to perform various operations.\n",
    "The second pipeline is for the Support Vector machine classifier. Here, the inputs to the pipeline are as follows : 1) StandardScaler function to scale the features and 2) svm function to use the Support Vector machine classifier model. The pipeline is stored in a variable.The pipeline is stored in a variable which can be used to perform various operations.\n",
    "\n",
    "For both the pipelines, I used the fit method to train/model the training data-set. Once the model is trained i calculated the score of the model on the test data-set. The ouput of the score method is the accuracy of the model.\n"
   ]
  },
  {
   "cell_type": "code",
   "execution_count": 37,
   "metadata": {},
   "outputs": [
    {
     "name": "stdout",
     "output_type": "stream",
     "text": [
      "Model Accuracy using Random Forest Classifier is : 0.835\n"
     ]
    }
   ],
   "source": [
    "from sklearn.pipeline import Pipeline\n",
    "from sklearn.preprocessing import StandardScaler\n",
    "from sklearn.ensemble import RandomForestClassifier\n",
    "from sklearn import svm\n",
    "\n",
    "pipeline_rf = Pipeline([('scaler', StandardScaler()),('rf', RandomForestClassifier(n_estimators = 100))])\n",
    "\n",
    "pipeline_rf.fit(X_train, y_train)\n",
    "\n",
    "score_rf = pipeline_rf.score(X_val, y_val)\n",
    "\n",
    "print('Model Accuracy using Random Forest Classifier is : %.3f' % pipeline_rf.score(X_val, y_val))                          "
   ]
  },
  {
   "cell_type": "code",
   "execution_count": 13,
   "metadata": {},
   "outputs": [
    {
     "name": "stdout",
     "output_type": "stream",
     "text": [
      "Model Accuracy using Support Vector Machines is : 0.815\n"
     ]
    }
   ],
   "source": [
    "pipeline_svm = Pipeline([('scaler2',StandardScaler()),('svm', svm.SVC())])\n",
    "                        \n",
    "pipeline_svm.fit(X_train, y_train)\n",
    "                        \n",
    "print('Model Accuracy using Support Vector Machines is : %.3f' % pipeline_svm.score(X_val, y_val))"
   ]
  },
  {
   "cell_type": "markdown",
   "metadata": {
    "id": "j1nDXnzYLLH6"
   },
   "source": [
    "# 4 Transformation stage\n",
    "\n",
    "A function has been defined for feature extraction. The name of the function is 'getXy'. The input for the function is a data-frame. The function returns two values: X - stores the features for the data-set and Y- stores the labels of the songs. The following features have been used for feature extraction :\n",
    "\n",
    "1) tempo - librosa.beat.beat_track(y=y, sr=sr)  - returns the tempo and beat frame for each audio. 'y' stores the value of audio as waveform. 'sr' stores the sampling rate for each sample ( number of samples per second of audio) \n",
    "\n",
    "2) melspectogram - librosa.feature.melspectrogram(y=y, sr=sr) - returns the power spectrogram (amplitude squared) for each melody over time \n",
    "\n",
    "3) harmonic - librosa.feature.melspectrogram(data_h, sr=sr) - returns the harmonic(tonal) portions of the signal.\n",
    "\n",
    "4) percussive - librosa.feature.melspectrogram(data_p, sr=sr) - returns the percussive(transient) portion of the signal.\n",
    "\n",
    "5) chroma - librosa.feature.chroma_stft(y=data_h, sr=sr) - return an numpy-ndarray of shape(12,T) and each row corresponds to a pitch class (e.g., C, C#, etc.).\n",
    "\n",
    "6) pitches - librosa.piptrack(y=y, sr=sr) - returns the pitch of each sample\n",
    "\n",
    "These features have been selected as they focus on the attributes required for distinguishing the hums or whistles for both the songs. As hums or whistles have different variations for one song, these features help in obtaining the tempo, pitch and chroma of audio. As the notes and pitches of hums are different for the same song we can use the mean and standard deviation of the given features to get a cetain range of values."
   ]
  },
  {
   "cell_type": "code",
   "execution_count": 8,
   "metadata": {},
   "outputs": [],
   "source": [
    "def getXy(labels_file):\n",
    "    X,Y =[],[]\n",
    "    temp = []\n",
    "    \n",
    "    for i in range(0, len(labels_file)):\n",
    "        elements = []\n",
    "        y, sr = librosa.load(ml_df['path'][i])\n",
    "        \n",
    "        yi = labels_file['song'][i]=='Potter.wav'\n",
    "\n",
    "        tempo, beat_frames = librosa.beat.beat_track(y=y, sr=sr)\n",
    "        data_h, data_p = librosa.effects.hpss(y)\n",
    "        spec_h = librosa.feature.melspectrogram(data_h, sr=sr)\n",
    "        spec_p = librosa.feature.melspectrogram(data_p, sr=sr)\n",
    "        spec = librosa.feature.melspectrogram(y=y, sr=sr)\n",
    "        chroma = librosa.feature.chroma_stft(y=data_h, sr=sr)\n",
    "        pitches, magnitudes = librosa.piptrack(y=y, sr=sr)\n",
    "        \n",
    "        elements.append(tempo)\n",
    "        elements.append(np.mean(spec_h))\n",
    "        elements.append(np.mean(spec_p))\n",
    "        elements.append(np.mean(spec))\n",
    "        elements.append(np.mean(chroma))\n",
    "        elements.append(np.mean(pitches))\n",
    "        \n",
    "        temp.append(elements)\n",
    "        Y.append(yi)\n",
    "        \n",
    "    X = temp        \n",
    "    \n",
    "    return np.array(X),np.array(Y)"
   ]
  },
  {
   "cell_type": "markdown",
   "metadata": {
    "id": "0F5_kI95LuZ2"
   },
   "source": [
    "# 5 Modelling\n",
    "\n",
    "For this data-set i have used 2 models. I have used SVM as this is a binary classification and it sets a high decision boundary for classification of two classes which reduces the chances of misclassification. Random forest uses n-number of decision tree to predict the lables and the prediction which is predicted by most of number of trees is chosen. Due to these reasons i decided to test/train the data-set between the two models.  \n",
    "\n",
    "1) Support Vector machine - SVM is a supervised machine learning algorithm that is responsible for finding the decision boundary to separate different classes and maximize the margin. It finds the smallest distance between data-points for classification. The SVM model takes the features stored in variable X and the labels stored in variable Y to classify whether a given audio is a Harry Potter song or a StarWars song. Here, Y has two states : True and False, if the audio is a Harry Potter song the label will be set to True and if its a Star Wars song the label would be set to False. SVM has two hyperparameters that can be tuned for improving accuracy and efficency of the model, they are : C and Kernel. \n",
    "\n",
    "2) Random Forest Classifier - Random Forest is a supervised machine learning algorithm for classification based on the training data(knowledge of previous experiments). It handles non-linearity by exploiting correlation between the features of data-point/experiment. Random forest splits the training data-set randomly and generates a decision tree for each training data subset. It compares the predictions of all decision trees and chooses the prediction which is predicted by most number of trees. This technique can be useful in improving the efficiency and accuracy of the model."
   ]
  },
  {
   "cell_type": "markdown",
   "metadata": {
    "id": "bPTSuaB9L2jU"
   },
   "source": [
    "# 6 Methodology\n",
    "\n",
    "Function 'getXy' is defined for feature extraction. This function returns two variables, X - stores the features for the data-set and Y- which stores the lables for the features. I have used these two variables to define my test and training data-set. The train_test_split function from the sklearn library helps in splitting the data for training and testing. The training data-set is stored in X_train, y_train variable and testing data-set is stored in X_val, y_val. The train_test_split function has an attribute called size which is set to 0.3 i.e the size of the test data-set will consist of 30% of the original data-set. \n",
    "\n",
    "Accuracy and confusion matrix have been used as measure to check the efficiency and performance of the model.\n",
    "Confusion matrices are widely used because they give a better idea of a model’s performance than classification accuracy does. For example, in classification accuracy, there is no information about the number of misclassified instances. Imagine that your data has two classes where 85% of the data belongs to class A, and 15% belongs to class B. Also, assume that your classification model correctly classifies all the instances of class A, and misclassifies all the instances of class B. In this case, the model is 85% accurate. However, class B is misclassified, which is undesirable. The confusion matrix, on the other hand, displays the correctly and incorrectly classified instances for all the classes and will, therefore, give a better insight into the performance of your classifier.\n",
    "\n",
    "\n",
    "Below i have plotted the confusion matrix for both the models i.e random forest classifier and support vector machine to compare the predicted labels with the actual labels. This helps in understanding the count or percentage of features that were misclassified which helps in giving an insight of the performance of classifier. A model can be considered good if it has high True positive and true negative rates and low false positive and false negative rates. Let us consider the confusion matrix of Random Forest Classifier, the confusion matrix consisting of 4 values : True positive (TP), False Positive (FP), False Negative(FN), True Negative(TN). Here, values for the model are as follows : TP = 43.78%, TN = 39.6%, FP = 6.02%, FN = 10.44%. \n",
    "We can observe that 6.02% of the data-set is false positive and 10.44% of the data is false negative, these are the sets of class that are misclassified. For Support Vector machine , the values of confusion matrix are as follows : TP = 45.78%, TN = 35.74%, FP = 4.02%, FN = 14.46%. We can observe that 4.02% of the data-set is false positive and 14.46% of the data is false negative, these are the sets of class that are misclassified. Here, we can notice that that random forest classifier is able to correctly identify the lables slightly better than SVM indicating that random forest classifier would be a fit model for the data-set."
   ]
  },
  {
   "cell_type": "raw",
   "metadata": {},
   "source": [
    "# Below is the code for training and validation "
   ]
  },
  {
   "cell_type": "code",
   "execution_count": 9,
   "metadata": {},
   "outputs": [],
   "source": [
    "X,y = getXy(labels_file=ml_df)"
   ]
  },
  {
   "cell_type": "code",
   "execution_count": 10,
   "metadata": {},
   "outputs": [
    {
     "name": "stdout",
     "output_type": "stream",
     "text": [
      "The shape of X is (827, 6)\n",
      "The shape of y is (827,)\n"
     ]
    }
   ],
   "source": [
    "print('The shape of X is', X.shape) \n",
    "print('The shape of y is', y.shape)"
   ]
  },
  {
   "cell_type": "code",
   "execution_count": 11,
   "metadata": {},
   "outputs": [
    {
     "data": {
      "text/plain": [
       "((578, 6), (249, 6), (578,), (249,))"
      ]
     },
     "execution_count": 11,
     "metadata": {},
     "output_type": "execute_result"
    }
   ],
   "source": [
    "\n",
    "from sklearn.model_selection import train_test_split\n",
    "\n",
    "X_train, X_val, y_train, y_val = train_test_split(X,y,test_size=0.3,shuffle=True,stratify=y)\n",
    "X_train.shape, X_val.shape, y_train.shape, y_val.shape"
   ]
  },
  {
   "cell_type": "raw",
   "metadata": {},
   "source": [
    "code for displaying the accuracy for both the models"
   ]
  },
  {
   "cell_type": "code",
   "execution_count": 29,
   "metadata": {},
   "outputs": [
    {
     "name": "stdout",
     "output_type": "stream",
     "text": [
      "Model Accuracy using Random Forest Classifier is : 0.835\n"
     ]
    }
   ],
   "source": [
    "print('Model Accuracy using Random Forest Classifier is : %.3f' % pipeline_rf.score(X_val, y_val))"
   ]
  },
  {
   "cell_type": "code",
   "execution_count": 30,
   "metadata": {},
   "outputs": [
    {
     "name": "stdout",
     "output_type": "stream",
     "text": [
      "Model Accuracy using Support Vector Machines is : 0.815\n"
     ]
    }
   ],
   "source": [
    "print('Model Accuracy using Support Vector Machines is : %.3f' % pipeline_svm.score(X_val, y_val))"
   ]
  },
  {
   "cell_type": "raw",
   "metadata": {},
   "source": [
    "# Below is the code for displaying the confusion matrix"
   ]
  },
  {
   "cell_type": "code",
   "execution_count": 48,
   "metadata": {},
   "outputs": [
    {
     "name": "stdout",
     "output_type": "stream",
     "text": [
      "Confusion matrix for Random Forest Classifier : \n",
      " [[109  15]\n",
      " [ 26  99]]\n"
     ]
    },
    {
     "data": {
      "text/plain": [
       "<AxesSubplot:>"
      ]
     },
     "execution_count": 48,
     "metadata": {},
     "output_type": "execute_result"
    },
    {
     "data": {
      "image/png": "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\n",
      "text/plain": [
       "<Figure size 432x288 with 2 Axes>"
      ]
     },
     "metadata": {
      "needs_background": "light"
     },
     "output_type": "display_data"
    }
   ],
   "source": [
    "from sklearn.metrics import confusion_matrix\n",
    "import seaborn as sns\n",
    "\n",
    "y_pred_rf = pipeline_rf.predict(X_val)\n",
    "\n",
    "cf_matrix_rf = confusion_matrix(y_val, y_pred_rf)\n",
    "print(\"Confusion matrix for Random Forest Classifier : \\n\", cf_matrix_rf)\n",
    "\n",
    "sns.heatmap(cf_matrix_rf/np.sum(cf_matrix_rf), annot=True, \n",
    "            fmt='.2%', cmap='plasma')\n"
   ]
  },
  {
   "cell_type": "code",
   "execution_count": 47,
   "metadata": {},
   "outputs": [
    {
     "name": "stdout",
     "output_type": "stream",
     "text": [
      "Confusion matrix for Support Vector Machine Classifier : \n",
      " [[114  10]\n",
      " [ 36  89]]\n"
     ]
    },
    {
     "data": {
      "text/plain": [
       "<AxesSubplot:>"
      ]
     },
     "execution_count": 47,
     "metadata": {},
     "output_type": "execute_result"
    },
    {
     "data": {
      "image/png": "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\n",
      "text/plain": [
       "<Figure size 432x288 with 2 Axes>"
      ]
     },
     "metadata": {
      "needs_background": "light"
     },
     "output_type": "display_data"
    }
   ],
   "source": [
    "from sklearn.metrics import confusion_matrix\n",
    "import seaborn as sns\n",
    "\n",
    "y_pred_svm = pipeline_svm.predict(X_val)\n",
    "\n",
    "cf_matrix_svm = confusion_matrix(y_val, y_pred_svm)\n",
    "print(\"Confusion matrix for Support Vector Machine Classifier : \\n\", cf_matrix_svm)\n",
    "\n",
    "sns.heatmap(cf_matrix_svm/np.sum(cf_matrix_svm), annot=True, \n",
    "            fmt='.2%', cmap='plasma')"
   ]
  },
  {
   "cell_type": "markdown",
   "metadata": {
    "id": "HZQPxztuL9AW"
   },
   "source": [
    "# 7 Dataset\n",
    "\n",
    "Here, only 2 data-sets have been used - Harry Potter and Starwars. Each data-set consists of hums and whistles in audio format for the songs. Since we need to identify if the given audio is a Harry Potter song or a StarWars song, we have used the audio's from their respective data-sets. To get the data-set in a desired format ( for example : 'C:/Masters/ML/MLAssignment/DataSet\\\\S100_hum_1_Potter.wav') i have applied the split operation on the data and stored the values in MLENDHW_table variable. The data is now stored in a dataframe (ml_df) for better visualization and to perform various operations. On applying the unique function on the song name, i realized that the data consists of a lot of misspelled names. It was important to clean this particular column as it would be used a label for training and testing the model. The code for cleaning the data has been provided below.\n",
    "\n",
    "The chromogram (which is a feature) for the first file i.e Potter.wav (hum) file and third file i.e StarwWars.wav (hum) has been plotted below. The X-axis represents the time whereas the Y-axis represents the pitch class. From the picture we can observe the frequency of each note for a given time. From both the outputs we can visualize which note is more dominant for a given time in each song which can be used as a feature for classification."
   ]
  },
  {
   "cell_type": "code",
   "execution_count": 2,
   "metadata": {},
   "outputs": [
    {
     "data": {
      "text/plain": [
       "834"
      ]
     },
     "execution_count": 2,
     "metadata": {},
     "output_type": "execute_result"
    }
   ],
   "source": [
    "sample_path = 'C:/Masters/ML/ML Assignment/DataSet/*.wav'\n",
    "files = glob.glob(sample_path)\n",
    "len(files)"
   ]
  },
  {
   "cell_type": "code",
   "execution_count": 50,
   "metadata": {},
   "outputs": [
    {
     "data": {
      "text/plain": [
       "['DataSet\\\\S100_hum_1_Potter.wav',\n",
       " 'DataSet\\\\S100',\n",
       " 'hum',\n",
       " '1',\n",
       " 'Potter.wav',\n",
       " 'C:/Masters/ML/ML Assignment/DataSet\\\\S100_hum_1_Potter.wav']"
      ]
     },
     "execution_count": 50,
     "metadata": {},
     "output_type": "execute_result"
    }
   ],
   "source": [
    "\n",
    "MLENDHW_table = [] \n",
    "\n",
    "for file in files:\n",
    "    if(len(file.split('/')[-1].split('_')) == 4):\n",
    "        file_name = file.split('/')[-1]\n",
    "        #print(file.split('/')[-1].split('_'))\n",
    "        participant_ID = file.split('/')[-1].split('_')[0]\n",
    "        interpretation_type = file.split('/')[-1].split('_')[1]\n",
    "        interpretation_number = file.split('/')[-1].split('_')[2]\n",
    "        song = file.split('/')[-1].split('_')[3]\n",
    "        path = file\n",
    "        MLENDHW_table.append([file_name,participant_ID,interpretation_type,interpretation_number, song, path])\n",
    "        \n",
    "    elif(len(file.split('/')[-1].split('_')) == 2):\n",
    "        file_name = file.split('/')[-1]\n",
    "        participant_ID = file.split('/')[-1].split('_')[0]\n",
    "        interpretation_type = file.split('/')[-1].split('_')[1].split(' ')[0]\n",
    "        interpretation_number = file.split('/')[-1].split('_')[1].split(' ')[1]\n",
    "        song = file.split('/')[-1].split('_')[1].split(' ')[2]\n",
    "        path = file\n",
    "        MLENDHW_table.append([file_name,participant_ID,interpretation_type,interpretation_number, song, path])\n",
    "       \n",
    "    elif(len(file.split('/')[-1].split('_')) == 3):\n",
    "        file_name = file.split('/')[-1]\n",
    "        participant_ID = file.split('/')[-1].split('_')[0]\n",
    "        interpretation_type = file.split('/')[-1].split('_')[1][:-1]\n",
    "        interpretation_number = file.split('/')[-1].split('_')[1][-1]\n",
    "        song = file.split('/')[-1].split('_')[2]\n",
    "        path = file\n",
    "        MLENDHW_table.append([file_name,participant_ID,interpretation_type,interpretation_number, song, path])\n",
    "MLENDHW_table[0]"
   ]
  },
  {
   "cell_type": "code",
   "execution_count": 4,
   "metadata": {},
   "outputs": [
    {
     "data": {
      "text/html": [
       "<div>\n",
       "<style scoped>\n",
       "    .dataframe tbody tr th:only-of-type {\n",
       "        vertical-align: middle;\n",
       "    }\n",
       "\n",
       "    .dataframe tbody tr th {\n",
       "        vertical-align: top;\n",
       "    }\n",
       "\n",
       "    .dataframe thead th {\n",
       "        text-align: right;\n",
       "    }\n",
       "</style>\n",
       "<table border=\"1\" class=\"dataframe\">\n",
       "  <thead>\n",
       "    <tr style=\"text-align: right;\">\n",
       "      <th></th>\n",
       "      <th>participant</th>\n",
       "      <th>interpretation</th>\n",
       "      <th>number</th>\n",
       "      <th>song</th>\n",
       "      <th>path</th>\n",
       "    </tr>\n",
       "    <tr>\n",
       "      <th>file_id</th>\n",
       "      <th></th>\n",
       "      <th></th>\n",
       "      <th></th>\n",
       "      <th></th>\n",
       "      <th></th>\n",
       "    </tr>\n",
       "  </thead>\n",
       "  <tbody>\n",
       "    <tr>\n",
       "      <th>DataSet\\S100_hum_1_Potter.wav</th>\n",
       "      <td>DataSet\\S100</td>\n",
       "      <td>hum</td>\n",
       "      <td>1</td>\n",
       "      <td>Potter.wav</td>\n",
       "      <td>C:/Masters/ML/ML Assignment/DataSet\\S100_hum_1...</td>\n",
       "    </tr>\n",
       "    <tr>\n",
       "      <th>DataSet\\S100_hum_2_Potter.wav</th>\n",
       "      <td>DataSet\\S100</td>\n",
       "      <td>hum</td>\n",
       "      <td>2</td>\n",
       "      <td>Potter.wav</td>\n",
       "      <td>C:/Masters/ML/ML Assignment/DataSet\\S100_hum_2...</td>\n",
       "    </tr>\n",
       "    <tr>\n",
       "      <th>DataSet\\S100_hum_3_StarWars.wav</th>\n",
       "      <td>DataSet\\S100</td>\n",
       "      <td>hum</td>\n",
       "      <td>3</td>\n",
       "      <td>StarWars.wav</td>\n",
       "      <td>C:/Masters/ML/ML Assignment/DataSet\\S100_hum_3...</td>\n",
       "    </tr>\n",
       "    <tr>\n",
       "      <th>DataSet\\S100_hum_4_StarWars.wav</th>\n",
       "      <td>DataSet\\S100</td>\n",
       "      <td>hum</td>\n",
       "      <td>4</td>\n",
       "      <td>StarWars.wav</td>\n",
       "      <td>C:/Masters/ML/ML Assignment/DataSet\\S100_hum_4...</td>\n",
       "    </tr>\n",
       "    <tr>\n",
       "      <th>DataSet\\S101_hum_1_Potter.wav</th>\n",
       "      <td>DataSet\\S101</td>\n",
       "      <td>hum</td>\n",
       "      <td>1</td>\n",
       "      <td>Potter.wav</td>\n",
       "      <td>C:/Masters/ML/ML Assignment/DataSet\\S101_hum_1...</td>\n",
       "    </tr>\n",
       "    <tr>\n",
       "      <th>...</th>\n",
       "      <td>...</td>\n",
       "      <td>...</td>\n",
       "      <td>...</td>\n",
       "      <td>...</td>\n",
       "      <td>...</td>\n",
       "    </tr>\n",
       "    <tr>\n",
       "      <th>DataSet\\S99_whistle_1_[Potter].wav</th>\n",
       "      <td>DataSet\\S99</td>\n",
       "      <td>whistle</td>\n",
       "      <td>1</td>\n",
       "      <td>[Potter].wav</td>\n",
       "      <td>C:/Masters/ML/ML Assignment/DataSet\\S99_whistl...</td>\n",
       "    </tr>\n",
       "    <tr>\n",
       "      <th>DataSet\\S9_hum_1_Potter.wav</th>\n",
       "      <td>DataSet\\S9</td>\n",
       "      <td>hum</td>\n",
       "      <td>1</td>\n",
       "      <td>Potter.wav</td>\n",
       "      <td>C:/Masters/ML/ML Assignment/DataSet\\S9_hum_1_P...</td>\n",
       "    </tr>\n",
       "    <tr>\n",
       "      <th>DataSet\\S9_hum_2_Potter.wav</th>\n",
       "      <td>DataSet\\S9</td>\n",
       "      <td>hum</td>\n",
       "      <td>2</td>\n",
       "      <td>Potter.wav</td>\n",
       "      <td>C:/Masters/ML/ML Assignment/DataSet\\S9_hum_2_P...</td>\n",
       "    </tr>\n",
       "    <tr>\n",
       "      <th>DataSet\\S9_hum_3_StarWars.wav</th>\n",
       "      <td>DataSet\\S9</td>\n",
       "      <td>hum</td>\n",
       "      <td>3</td>\n",
       "      <td>StarWars.wav</td>\n",
       "      <td>C:/Masters/ML/ML Assignment/DataSet\\S9_hum_3_S...</td>\n",
       "    </tr>\n",
       "    <tr>\n",
       "      <th>DataSet\\S9_hum_4_StarWars.wav</th>\n",
       "      <td>DataSet\\S9</td>\n",
       "      <td>hum</td>\n",
       "      <td>4</td>\n",
       "      <td>StarWars.wav</td>\n",
       "      <td>C:/Masters/ML/ML Assignment/DataSet\\S9_hum_4_S...</td>\n",
       "    </tr>\n",
       "  </tbody>\n",
       "</table>\n",
       "<p>827 rows × 5 columns</p>\n",
       "</div>"
      ],
      "text/plain": [
       "                                     participant interpretation number  \\\n",
       "file_id                                                                  \n",
       "DataSet\\S100_hum_1_Potter.wav       DataSet\\S100            hum      1   \n",
       "DataSet\\S100_hum_2_Potter.wav       DataSet\\S100            hum      2   \n",
       "DataSet\\S100_hum_3_StarWars.wav     DataSet\\S100            hum      3   \n",
       "DataSet\\S100_hum_4_StarWars.wav     DataSet\\S100            hum      4   \n",
       "DataSet\\S101_hum_1_Potter.wav       DataSet\\S101            hum      1   \n",
       "...                                          ...            ...    ...   \n",
       "DataSet\\S99_whistle_1_[Potter].wav   DataSet\\S99        whistle      1   \n",
       "DataSet\\S9_hum_1_Potter.wav           DataSet\\S9            hum      1   \n",
       "DataSet\\S9_hum_2_Potter.wav           DataSet\\S9            hum      2   \n",
       "DataSet\\S9_hum_3_StarWars.wav         DataSet\\S9            hum      3   \n",
       "DataSet\\S9_hum_4_StarWars.wav         DataSet\\S9            hum      4   \n",
       "\n",
       "                                            song  \\\n",
       "file_id                                            \n",
       "DataSet\\S100_hum_1_Potter.wav         Potter.wav   \n",
       "DataSet\\S100_hum_2_Potter.wav         Potter.wav   \n",
       "DataSet\\S100_hum_3_StarWars.wav     StarWars.wav   \n",
       "DataSet\\S100_hum_4_StarWars.wav     StarWars.wav   \n",
       "DataSet\\S101_hum_1_Potter.wav         Potter.wav   \n",
       "...                                          ...   \n",
       "DataSet\\S99_whistle_1_[Potter].wav  [Potter].wav   \n",
       "DataSet\\S9_hum_1_Potter.wav           Potter.wav   \n",
       "DataSet\\S9_hum_2_Potter.wav           Potter.wav   \n",
       "DataSet\\S9_hum_3_StarWars.wav       StarWars.wav   \n",
       "DataSet\\S9_hum_4_StarWars.wav       StarWars.wav   \n",
       "\n",
       "                                                                                 path  \n",
       "file_id                                                                                \n",
       "DataSet\\S100_hum_1_Potter.wav       C:/Masters/ML/ML Assignment/DataSet\\S100_hum_1...  \n",
       "DataSet\\S100_hum_2_Potter.wav       C:/Masters/ML/ML Assignment/DataSet\\S100_hum_2...  \n",
       "DataSet\\S100_hum_3_StarWars.wav     C:/Masters/ML/ML Assignment/DataSet\\S100_hum_3...  \n",
       "DataSet\\S100_hum_4_StarWars.wav     C:/Masters/ML/ML Assignment/DataSet\\S100_hum_4...  \n",
       "DataSet\\S101_hum_1_Potter.wav       C:/Masters/ML/ML Assignment/DataSet\\S101_hum_1...  \n",
       "...                                                                               ...  \n",
       "DataSet\\S99_whistle_1_[Potter].wav  C:/Masters/ML/ML Assignment/DataSet\\S99_whistl...  \n",
       "DataSet\\S9_hum_1_Potter.wav         C:/Masters/ML/ML Assignment/DataSet\\S9_hum_1_P...  \n",
       "DataSet\\S9_hum_2_Potter.wav         C:/Masters/ML/ML Assignment/DataSet\\S9_hum_2_P...  \n",
       "DataSet\\S9_hum_3_StarWars.wav       C:/Masters/ML/ML Assignment/DataSet\\S9_hum_3_S...  \n",
       "DataSet\\S9_hum_4_StarWars.wav       C:/Masters/ML/ML Assignment/DataSet\\S9_hum_4_S...  \n",
       "\n",
       "[827 rows x 5 columns]"
      ]
     },
     "execution_count": 4,
     "metadata": {},
     "output_type": "execute_result"
    }
   ],
   "source": [
    "ml_df = pd.DataFrame(MLENDHW_table,columns=['file_id','participant','interpretation','number','song','path']).set_index('file_id') \n",
    "ml_df"
   ]
  },
  {
   "cell_type": "code",
   "execution_count": 5,
   "metadata": {},
   "outputs": [],
   "source": [
    "potter = ['Potter.wav','harry potter.wav','Potter.WAV','[Potter].wav','Potter .wav', 'potter.wav', 'Potter.wav.wav',\n",
    "         '(potter).wav', '[Potter] .wav', 'Potter.Wav', 'Potter.wav .wav','Potterwav.wav', '[potter].wav', 'harrypotter.wav']\n",
    "starwars = ['StarWars.wav','Star wars.wav', 'starwars.wav', 'Starwars.WAV','Starwars.wav', '[StarWars].wav', 'star wars.wav',\n",
    "           'StarWars.wav.wav','Imperial.wav','(starwars).wav','[StarWars] .wav','[STARWARS].wav', 'StarWars.Wav',\n",
    "       'StartWars.wav', 'StarWar.wav', '[ Star Wars ].wav','[StatWars].wav', '[Starwars].wav', 'starwar.wav', 'StarsWars.wav']\n",
    "\n",
    "for i in range(0,len(ml_df)):\n",
    "    if ml_df['song'][i] in potter:\n",
    "        ml_df['song'][i] = \"Potter.wav\"\n",
    "        \n",
    "for i in range(0,len(ml_df)):\n",
    "    if ml_df['song'][i] in starwars:\n",
    "        ml_df['song'][i] = \"StarWars.wav\"\n",
    "        "
   ]
  },
  {
   "cell_type": "code",
   "execution_count": 6,
   "metadata": {},
   "outputs": [
    {
     "data": {
      "text/plain": [
       "array(['Potter.wav', 'StarWars.wav'], dtype=object)"
      ]
     },
     "execution_count": 6,
     "metadata": {},
     "output_type": "execute_result"
    }
   ],
   "source": [
    "ml_df['song'].unique()"
   ]
  },
  {
   "cell_type": "code",
   "execution_count": 7,
   "metadata": {},
   "outputs": [],
   "source": [
    "path_files =[]\n",
    "for i in range(0, len(ml_df)):\n",
    "    path_files.append(ml_df['path'][0])"
   ]
  },
  {
   "cell_type": "code",
   "execution_count": 53,
   "metadata": {},
   "outputs": [
    {
     "data": {
      "text/plain": [
       "<Figure size 1440x576 with 0 Axes>"
      ]
     },
     "execution_count": 53,
     "metadata": {},
     "output_type": "execute_result"
    },
    {
     "data": {
      "image/png": "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\n",
      "text/plain": [
       "<Figure size 1296x360 with 2 Axes>"
      ]
     },
     "metadata": {
      "needs_background": "light"
     },
     "output_type": "display_data"
    },
    {
     "data": {
      "text/plain": [
       "<Figure size 1440x576 with 0 Axes>"
      ]
     },
     "metadata": {},
     "output_type": "display_data"
    }
   ],
   "source": [
    "import librosa.display\n",
    "\n",
    "y, sr = librosa.load(ml_df['path'][0])\n",
    "    \n",
    "data_h, data_p = librosa.effects.hpss(y)\n",
    "chroma = librosa.feature.chroma_cqt(y=data_h, sr=sr)\n",
    "\n",
    "plt.figure(figsize=(18,5))\n",
    "librosa.display.specshow(chroma, sr=sr, x_axis='time', y_axis='chroma', vmin=0, vmax=1)\n",
    "plt.title('Chromagram for Potter hum audio')\n",
    "plt.colorbar()\n",
    "plt.figure(figsize=(20,8))\n"
   ]
  },
  {
   "cell_type": "code",
   "execution_count": 54,
   "metadata": {},
   "outputs": [
    {
     "data": {
      "text/plain": [
       "<Figure size 1440x576 with 0 Axes>"
      ]
     },
     "execution_count": 54,
     "metadata": {},
     "output_type": "execute_result"
    },
    {
     "data": {
      "image/png": "iVBORw0KGgoAAAANSUhEUgAAA6UAAAFNCAYAAAD4qcmAAAAAOXRFWHRTb2Z0d2FyZQBNYXRwbG90bGliIHZlcnNpb24zLjMuNCwgaHR0cHM6Ly9tYXRwbG90bGliLm9yZy8QVMy6AAAACXBIWXMAAAsTAAALEwEAmpwYAACGm0lEQVR4nOzdeZwkR3ng/d8TkZl1dPU13XNfGt0SAgQSEmBum9sc9mIbWBtzrLF3F6+vd22/+3p3sb1e7N312uvbrMFgG4OxuW1ABnNJCIQQkhC6RyPNffZZXVce8bx/ZHZPzzCSZiSNWjM838+nPt2VlRURGRkRmVERmSmqijHGGGOMMcYYsxLcSifAGGOMMcYYY8z3LuuUGmOMMcYYY4xZMdYpNcYYY4wxxhizYqxTaowxxhhjjDFmxVin1BhjjDHGGGPMirFOqTHGGGOMMcaYFWOdUmOMOUUi8k4R+ZuVTseZQEQuEpGbRaQtIv9hpdNzJhGRB0TkB1Y6HY+WiLxPRP5b9f9zReTulU6TMcaYJxbrlBpjzAmIyBtF5JsisiAi+0XkMyLynJVO1xnol4Evqeqwqv7Bow1MRMZE5L0icqDq6N4jIr+y7HMVkfMfRfhvEJE7jlv2uQdZ9quPNJ7vVap6rapetNLpMMYY88RinVJjjDmOiPwi8PvAfwfWAluAPwFe8wjCih7TxD2GHqe0bQVufyRffJD0/R7QAi4BRoFXA/c94tQdG58AXwYuEZHVy9LwVKB53LJnAV85xfCfsGXBGGOMWUnWKTXGmGVEZBT4DeDfq+pHVbWjqpmqfkpV/+OyVRMR+atqtO52EblyWRgPiMiviMi3gY6IRCLy6mq9WRH5kohcctz6/1FEvi0iHRF5j4isrUZn2yLyeREZX7b+31cjhXMi8hURedKyzyZE5FMiMi8iN4rIfxOR65Z9riLy70XkXuDeatn/EZHd1XduEpHnLlv/nVV8f1Ol5TYRuVBE/l8ROVR97yUPkpdfAF4I/FE14nyhiIxW+XZYRHaKyK+JiKvWf7OIfFVEfk9EpoF3niDYZwB/q6ozqhpU9S5V/Yfq+4udxFur+H5MRMZF5B+r+Gaq/zctS+OXROS3ROSrQBdoAjuA51WrPJ2yU/3l45Y54Jsi8spqevJ8lRfvXBb2OVV+v01EdgFfEJF6lZdTVVm4UUTWnij/KpdX5WJORP5OROrL8uq65SsuHyWWcsrsn1RlaKHK13Ui8vtVPtwlIk97sEgfpkwsTcet3r9ARPYse/80EflWVV7+Dqg/xLqXVPtgtqofr36IvDDGGHOWsk6pMcYc61mUJ9Efe5j1Xg18CBgDPgn80XGfvwF4ZfX5ucAHgZ8HVgOfBj4lIsmy9f8V8GLgQuBVwGeA/wRMUrbVy6/H/AxwAbAG+BbwgWWf/THQAdYBP1m9jvda4Grg0ur9jcDlwCrgb4G/X+z8VF4F/DUwDtwMXFOlaSNlB/7PTxAHqvoi4FrgHaraUtV7gD+kHOE8F3g+8CbgLcu+djVlp3AN8FsnCPbrwG+JyFtE5ILj4lvsND61iu/vqnT+JeWI7Ragx3fvq58A3g4MAzspR0AXw3petQ3XHbfs66qaUub1myj38yuBfysirz0u/OdTjuy+lHJ/jAKbgQngZ6o0PZgfBV4GbAOeArz5IdY90Xd/jbIMDYCvUZaXSeAfgP/9EN99uDJxQlWZ/jhleVkF/D1l2T7RujHwKeCfKff3zwIfEBGb3muMMd9jrFNqjDHHmgCOqGr+MOtdp6qfVtWC8gT8qcd9/gequltVe8CPAf+kqp9T1Qz4X0ADePay9f9QVQ+q6l7KTtANqnqzqg4oO8hLo1qq+l5VbVefvRN4ajUC6Sk7AP9VVbuqegfw/hOk/V2qOl2lDVX9G1WdUtVcVX8XqAHLOwbXquo1VZ78PWXH+rerbfkQcI6IjD1MflGl78eA/7dK/wPA71J2ChftU9U/rNJyos7az1J2wt8B3CEi20Xk5Q8WZ7VdH6nyo03Z0X3+cau9T1Vvr+LMOHZU9LmU++Pa45Z9uQr/S6p6WzVq+23KHx+OD/+d1Yh7D8goy9j5qlqo6k2qOv9g6acsR/tUdZqyA3f5Q6x7vI9V4fcpy1BfVf+qKrN/x7IydbyTKBMP5plADPx+NcPgHyg7uA+2bouyLKWq+gXgHyl/0DHGGPM9xDqlxhhzrClgUh7++r8Dy/7vAvXjvrN72f8bKEfgAFDVUH2+cdk6B5f93zvB+xaUHTsR+W0RuU9E5oEHqnUmKTuL0XFxL///hMtE5JdE5M5qiugs5Uje5EOk7UjVsVl8z2L6HsYkkLAsL6r/l+fDidK7RFV7qvrfVfUKys7dhylH8VadaH0RaYrIn1dThecpR0HHqg7yg8X5FeApUk6ZfibwNVW9C1hfLXtOtQ4icrWIfLGaHjxHOfI5eVx4y8P/a8qR5g+JyD4R+R/ViOGDOb6cnUw+LzqpMnUiJ1EmHswGYK+q6rJlOx9i3d1VfVi+7sYHWd8YY8xZyjqlxhhzrK8Bfcopro/G8pPyfZTTR4GlG+psBvY+gnDfSHnDpR+g7CicsxgscBjIgU3L1t/8UGmrrhX8FcqpnuOqOgbMVeE91o5QjhRuXbZsC8fmg3KSqhHG/w4MUU5vPZFfohzhu1pVRzg62rl8+46JU1V3UO6ztwO7VHWh+uhr1bIW5TRiKKe2fhLYrKqjwJ/x3Xm3FH41evjrqnop5Uj5D1JO/z1VHcrrX8uNEVn3CMI4oZMoE8fETTlVfNF+YGNVxhdteZCo9gGbpbqmeNm6j6ReGGOMOYNZp9QYY5ZR1TngvwB/LCKvrUbaYhF5uYj8j0cY7IeBV4rI91ejYr9EeY3f9Y8grOHqu1OUHYP/viztBfBR4J1Vui/m4Ts8w5Qd2cNAJCL/BRh5BOl6WFX6Pkx5TeiwiGwFfhE46We+ish/FpFniEhSXeP4c8AssPjsy4OU16suGqYcFZytRlP/60lGdW2VtmuXLbuuWvbNZVOLh4FpVe2LyFWUPxo8VPpfKCJPrkZq5yk76cVDfedB3Ao8SUQur/LhnY8gjAfzcGXiFuAVIrKq6gz//LLPvlZ99z9IeYOvHwauepB4bqDs4P5yVcdeQHn98oceu00xxhhzJrBOqTHGHEdV/zdl5+PXKE/Md1New/jxRxje3cCPU97k5wjliferqhvlnKq/opziuBe4g6MjdoveQTmCeoByqugHKTuxD+Yayhsn3VOF2+dhptA+Sj9L2RHZQdnJ+1vgvafwfaW8cdERypG2FwOvXDaa+U7g/dXdXH+U8tE+jWr9rwOfPcl4vkx5853ld7i9tlq2/FEw/w74DRFpU/6Y8eGHCXcd5U2G5oE7q3hOulO+qLpp1G8An6e8i/J1D/2NU/JwZeKvKTvFD1DepOjvlqUrBX6Y8oZMM5TXEH/0QbYhpbxh2Msp98+fAG+qpkobY4z5HiLHXvZhjDHmbCIivwOsU9UT3YXXGGOMMWbF2UipMcacRUTkYhF5ipSuAt7Gwz/exhhjjDFmxVin1Bhjzi7DlNMlO5RTSX8X+MSKpsgYY4wxZwURea+IHBKR7zzI5yIif1A9su3bIvL0kwrXpu8aY4wxxhhjjHk4IvI8YAH4K1W97ASfv4Ly/hGvAK4G/o+qXv1w4dpIqTHGGGOMMcaYh6WqXwGmH2KV11B2WFVVv075bPD1DxeudUqNMcYYY4wxxjwWNnLsHdv3VMseUnTakvMIiYiWz+c++hIBwSHicRIRUSMiIhEhdoICIhAJBIWimpHsBLyAKgQWP1MEIaAI4EWIq6550KNPOF/8X6r/w/JpzrKUMgAGIRBQlIDgAMVV/X3haJiKLn3HVdvl5OjTyLWKUyl/LZDjHr8uCF6ObtdCrnS0S64DVAMQQI9/8vxiiIshLEZ4/LPdywTogz63XhCRpf0QQrpsXanSuri1i/uu+nTxuegaqn3lQAMsLS/D8S6mJcOcuy5DCyWkSpF5BoUnDUIahCwsz2/FIcTiSLwwHAWGh1JkrA7DraObtecIO6dqdHTAICyU+YRwdOp6qP6W+06QatsEJ57I1cv1CRSaUj5qUav8PPq7jpOISGqM+Tq5KqEK3ovQiJQhX9CcUJgcf5A8fnC7b1tgruhRkBFCStCACNU2LN9ny0ucQ0SqsgHHlANxS9sv4sqSIa7aN2XeqgZUi6W8KPexw0uMk4iYGkM+YjgK5CoEhYlmSgjCoV5CUFhTz9jfjWhGMBIXTKURc3lKQYbD4/DEeBqRwwv0cqWnGYGc1XGTtVuBVouH079nhpk0JiiMJzlzWVSGxYBUu4SQf1c+LdavMhsCi2UcHK5qazzx0f2OLrU/dYlp+LI8dkNOSo8ipFUuH1vnqthYHqFImY81Ggx5TzNSaq7g0MAzCIGcnFx7FFqlW3VZlSrLXeTqJNRpOM9IHBhpphS5Y6qX0MmVPmnVJgkRMR4hcQ631CYqRYAcJRDIGABK0IJQxbu0FcvKSLnfIqIq1GYk9INyXBOJF8E7iERxAoUKebVOJBCLUvOB5nBO1hX2LMR06C61o+Vrsb0s4y3zpU+h2VJ7srjvjrW8LdJl+8ARuyY1atU3lYIchydUjwpVQpUGjxJw+KqtcUvtuwIRHqoli22GFyHX8q9q2VZrVcacQCuG1ZcOw0KHQzuVdqYMyMi0t2ybjm2DRRxOYiJZTHNGUbUB5baf6iU4y46tZQRVu+4IWlTtGxzfXjiJEPHkRX9Znh9ta5x4vEuISNhQixlKcqKGImvHwR/7+/f0HW3mMhhoTkZKodlSW1OWM08kCTE1BEhJybS3dJxTZemYI7ilbVieF6rlfizbs8CxTpRn8hCfLY9r8TjhcC4u6yIxLVdDpDxXiORo+9LJA13aFCGr8jYshVedYSx7f+w2LG83jrbji44v93Lc3+XbcWxdWL6eE1+GtnRcW/7dxbDcMd8+9tjjqvdVG7p0/Fz8/tH6d2zbqJw4/TzEOuV6TqKlfVruh4iIOk1Jvusb5TnW0XOn4bigdcEwuFMbk5m5s82+QcogtKttXTwuHq0/ZRlePMU62n4tbZUW5Xel3PeRqzEZDbPhsoc/xn2X+QW03SftejpZVJ0DK3OZY75IKUgBR6EDguaoBkQEJzEivjq3DQTNEPHL2h5dVr/Kel2TITbWI0YufowfX31omnxB6aUxaRACkAWhmwdyAqFqi7U6vw6aVW3FYv4v39vHl+/jHV/2lx+by21dOg/CkYfOEVVd/dhu8Mp46Uuv0qmpuVP6zk033XM75aPAFr1bVd99CkGcoJPx8AerJ1yntKzktbLSSIRUJ8CRb1KLhhmKVjMhW1mjk2yo11nfdKQFNCJhLFH6BcxnZUdyKBJGYiUPsJALvUJZyMoThn6heIGxmrCmXuZeJy9PnJxANy/DigS6BfSrs6nFEw8nELkyz3ct9MsOj6TUNCGgNKWGAxLnyUJZqTIN+Koj1nQRiXcMRW6pY5oGJS2UQpVm5Jc6y2W8UPPCcAwND2MJfPVgzo3FrUyl95Hm7bKjuHggXvzeUgVePLmpVZ3Eo4GXjWlANa9ORpc/x90v+25CHDWpR2PM93YRdFB9Vu6jMswAOLxLlk4uI99AxJEX5UlF5BsUYUDkG+hio4hjuLae58XP5wM/v5fQzujtVKYPDfHA7Ci7ujV2dz37e7C93aOvKTmBBgmrkzrnjkQ8Z7LHC561m9prLiY87/uWtiD/lffw039zHjcO7uP+7nUUoQ84QvWIyBAGQMC5Mj1OIoIOEImpx6tYXb8YwZHRY3awi0E2t7SdSXT0YNKIV7Han8+rxy9gqq908oBDGK05njymPGNijsvfOEDf9iOnXCv+n3O/wmfadzJX7GV+sJc0n8dJRBFSVLNqrYBIhGoOgHMNvKuTF+2qLOTV/qrhXX1p+yPfxLuE2DVIohGCZuRFjzwMGGSzBM2XTkq9q9OqrWPIT7AxXMAzxsZ5wZqU6TSikwv/+vId9DoJf3LbFtqZ8rOXHOS3bl3DFRPwovVT/O39q/n09G5mOUiDEZo6zAZZxZNX1RiJlVumCu7K99OWaX5m7VP4xT+LCM959sPmzz0v+wgf3bmaTi78q80zfGb/GLdO5dwR7mf34CZ66eGqHhTHlVkImhNCub+9S3AuoZlM0PQTDMsaMhkwm++mCAMa0QRr5Twu8Ot4yqqIPV24rT3D/fJt5gd7ygNnyClCutTJXzxpKk8GHEUYELsGI8kmzg+XcfXEME8bzzhveIE/vnuU+7rzTLkpDhR3sjA4QAg5Wu2DMu0Rka+zpn4pW8OFPGlkmO9fm/KSK3bSPlzjL2/fwjePZNwTdpPJAKeONWEdo67BpqGEVgy9vGxvpvoFc0VKVwfsczsoyOgVM/Sy6TJfqjIT+yFiXydyTepuhBYTTITVrI1aPH0yYvv80bYLIPHCSOyYqAsTSaDuldnMMZuWbeZYoqyrFVw0ssDlLzzCgW/V+cXr13JTuJWBLlCTFpHUiLQ86W/oEC0dYspNcbC4m4XBAfKiW+V3D5HlhzK/1KYt/oUCJzW8r7Oh+XTOCRfgEHqkTLtDDOs4bZkBIJPyh4yatMi0S5NxCslJtEFDmxTkBAmMhzG8OJouKjujQRmJI6bTlFYUkQWlETnyoGRBqXvH89c5/s03no/76tf5g59J+fKBjAf0IHuK22gP9lEU/e9qgyM/TKu2jlXxNhye+bCfuf5u0nyeEHrLOjqL7e+i7z4pLguQWzq2lifTEXHUJHYNBnmbNJ8HimOOG94N0UwmqEdjHOncWdUXt7SOczXq8SrGalsYl8385vkbuHrzASaelOF+6XUwPHxMEj54xRe5Zp+wPZ3igNxPOz/IIJ+nCCnORdSjMcbjrWwstuLx7PYPcHBwx9JxLmhedZLLuuAkJvFD6LJ8S/MOWdElhJQi9I7JI9XimM7T4g8W4KAq87D488NiPsR4N0TkmwTNiX2TVrKW2DUZYwPPa52z9MPaZL38kS1ycMPhLjfptbT7e0nzmep4U4YnEqOht7RfymPQYnvul7YRqI5bBeUxuUBDCsvKfdk++KV24mgntjiuLhy7fi0eA2CQzaLVMZ3F9ao8ca6G4JbOLY4eewY418BJRF60EYlwUltqN44pI9VxdfE4dMwP01WnbnG7yzwIx62zmO4a9WQVWd4FII6aDCVrWePO52nJOaShPLdb/OG/5oWaF0Zioe6VH1jb5urPvggaDU7FR6/6Ar+xYxf3db9MViws5al3dSJfJ3YN0qKzVDa9q+Gr/eNcRAg5adEhyxcQifAuYbxxLm9f/QJ+7RvPPaW0ALgvfIXsS9vZfVOLGw6uJnGB8STnmgMNPj+7hyn2EFFjOr2PXjZDXrTxrsFQbS01P4KIIy06LAwOUItHyYtetU/zpW1YPBZu81fxrovHedFXX3rK6Xwo8qcfYua6AbfuXMvubp1+EPb1HLdODzhUtOm6DhkDCslJtUu7OEC7v69s+zUr62pVRkXio+X3u9pCjpZpqNrA8ke+so45nEuIXJ3YN4hcg8PzX9/5mG7sCpqamuOGb/z5KX0n8i/sq+qVjyLaPcDmZe83UT5X/CHZ9F1jjDHGGGOMOdsoEMKpvR69TwJvqu7C+0xgTlX3P9yXnoAjpcYYY4wxxhhjHh19rDqaS0Tkg8ALgEkR2QP8VyAGUNU/Az5Neefd7UAXeMvJhGudUmOMMcYYY4w5Gz3GnVJVfcPDfK7Avz/VcK1TaowxxhhjjDFnm8W77Z0BrFNqjDHGGGOMMWedx3767ulinVJjjDHGGGOMORtZpxREpABuo3ziSQG8Q1WvP51xGmOMMcYYY8z3vMW7754BTvdIaU9VLwcQkZcC7wKef5rjNMYYY4wxxpjvcTZ990RGgJnHMT5jjDHGGGOM+d5kI6VLGiJyC1AH1gMvOtFKIvJ24O3Vu9OcJGOMMcYYY4w52ymi1imFY6fvPgv4KxG5rHp+zRJVfTfw7nI9d2bct9gYY4wxxhhjnshspPRYqvo1EZkEVgOHHq94jTHGGGOMMeZ7jgLhzBjve9w6pSJyMeCBqccrTmOMMcYYY4z53mQ3Olq0eE0plBeL/qSqFqc5TmOMMcYYY4z53mY3Oiqpqj+d4RtjjDHGGGOMeRB2oyNjjDHGGGOMMSvjzJm+61Y6AcYYY4wxxhhjvnfZSKkxxhhjjDHGnG3s7rvGGGOMMcYYY1bOmTN91zqlxhhjjDHGGHM2sk6pMcYYY4wxxpgVoSDWKX1kRGLqyToi3yByCd7ViF2DmrRoMEpThxkPowxHMYIwm5Z3a2pGsLsDI7Gwpq40vNL0gaCwkDvmMujlkAUQD0OR0Iigk8O3pwOFKrETYifUvOAFCoVBobSzQFoo/VAwF3qMuyYiMBxFpCEwHMfUgwea9IsCJ0LiHP2ioB8KHBAAL46aeBpR+aQcB+zv9clRFrSHq+47FQiM5c0yPxD6mhOLxwGJ8ziExDvuLPYwl++mn84QNEU1QzUgsnj/Kl/l6dH7WSkBrW4NLThEHLpsqnn5vnyUbLneYkF2FBrQLCeEHK2Wq+ao5gQcIvFSOEFTnESAI2h+TFhF6CMSkRd9ICASUYtHqcsoaxse/t2P4Go1hoAhYPMplqEAkOe4G74JOw9w5N46rdixureGdvMi2uk+Cs0JmgHQT6cBiH2rSl+Khh5J1CL2DTphirneTmrx6FLeOJegGoh9g7To0IwnOV+u4rVrJ/ilb10NtdoJ06aA7NxJ9mef56br13HbXIt75oX72xlHig4OYUPSYuuwZ1NTWV/PWV0bcKjXwGtZXUfrZY7UpMXUYAfdwUG02hbVfOnW36HoEIoOyrHXEqh2gYLF8pFmM0vfFwRFEVksOzVEHIKjCD0Aetk0kasx7+bY3x1hLvMMRwVBPY3VgcbqPhu3B749EJqNlMvGhQtafS75d01+/TXP5ddPcV/2/9172LNjjL0LQ5w7PseGp3XYf2uTqYUmlz3zCP7X38SFn/1X/Oqy711+TChvO4UYT871z/s0z/yBg7j/8pZqyWsecVjuE5/l0AcO8z++uZXP9L6AEljPxURSI8sXEHGE0KvqyQTNZJK6G2GhOMQdMsXBha3s756Lcg5fPRzzufkHWGCKTLsklGV6r9/JPhz3dmKCBAbaxhHTDVOkYYGs6FOEQdne+jr1eAzBEbkaWehVbcWxT/galjpv2Ka85obnPeJtX7Tpbz/Olm9H3De/linJmM/3ETSj0HxpncglaBFIiw5B86VyqbJ4GPM4iRCJys+qdk81lPWCss3r6zwL0iWTlPPcOlpFnc3NOolbw7cWDtOhw6hO0qVNzDgAq4o1JET4qs70dMAOdwcANYZxwVFniCxLaTHMwTyjJx18FpNoQkzMudEqrp6YhU6H9nvv4LqD53AbdzKd72Chvx/VwFBtLePJNkZYTUMb7OQ25vq7l9qqxTbASYSTqGp3y20XiZa1s47ID5NELZJoiMg18VU+eWIGYYF+PoeXiCz0KEIKlG0zgHeNpXwXiRiub+Bc9wzOiVbxmeQIvfQwIfSOtjUhMMhmmSFADb4+dQ43Tm/lwh05V3/9n+lkMTODGtNpzA/98G5++PtyrrhnjHtmR0nD03nJZTtpvfctPFry3n9g+99DN4052GtwcBBzaOC5/mDGV7LPAtDPZ8s2XkOZh5pThP7ScXGxtYyjUbxLAGjV1tNyqxlinNVhknOaQ0zWhZEYchUaXllbC9w+7xgUsKdTUPNCOwtlm6rF0jGzFFAdoDoAVRABLY4dzNCU4BIilxD5OjUZJXIJ3XSKvGiDOJyrLR3HRSJ8dVxSAkXRJ2hOHI0SQop39aXtXKwbIhG1aBjvagTNCSHBuYQQ0jIODYirypUsP2coE+pcozzvwOFcAycJQ7XVdAaHy03QHCXDVccR1AP5sm0MSJXHR8tuvpQ2xANFdZ5RIOIRccSuQS59QkgJIaebHma6VmNHf5yW1OnqgLokzDBPhCenYA1jrEoSRuNhzn3TR3jg8BiH+3XauWchd/QKIVdoRcpEkrMqyRhNUoIKhQqf3N1inkNl2jjavuRFmyybord4nrX46I1qn5R8lW9Z+T8BT4JScKCnpD/3Hm741kbu79TZ3XXs6yr7uxmHQ5u2m6PLHBk9Cs1QCgSPUp6LxNKkITPUdYixMMpAFpiVg/TDPHnoApBEw6jmFKHHXHf7MWkER5odqfLcV+WoQeSbNOJVbIiezDNbG3jqpp24b9+G3ngXOtMjLBQU7UB/yhEKocgdc3MNts+Ocvt8nR1t2NtNOVS0mfaHaIdDDIp5vKtRdyOMsIbJsJqIUbwIdZczUYvZ2lJicSy4NrPsYxAWKMIApSDNO+RFt6w3LM/vUNWv5fduXSzjcVmGONo2iriqbi+enUMIOUHypbJ9dlGOOdF/AnvCdUqNMcYYY4wxxjwGbKTUGGOMMcYYY8yKUKxTaowxxhhjjDFmpag9EsYYY4wxxhhjzAqxkVJjjDHGGGOMMSvKOqXGGGOMMcYYY1aG3X3XGGOMMcYYY8xKsem7xhhjjDHGGGNWlN3oyBhjjDHGGGPMylAbKTXGGGOMMcYYs0Js+q4xxhhjjDHGmBV1hkzfdSudAGOMMcYYY4wx37tspNQYY4wxxhhjzjoKatN3jTHGGGOMMcasBOWMmb5rnVJjjDHGGGOMORvZjY6MMcYYY4wxxqwIGyk1xhhjjDHGGLNy7DmlxhhjjDHGGGNWko2UGmOMMcYYY4xZEYrdfdcYY4wxxhhjzEpRGyk1xhhjjDHGGLOCrFNqjDHGGGOMMWZFKHajo0cqcgnrmk+hwQgjOkZd64xIjaHI04odw7EwkggNr8QORqKAArHAIAidArIA/UKYTYXRWNmxADODgjQosQhOoABasWNdQ3naOMQOxuOcui9YP9SlCEJaeJwog8JzeFDDIeTaJHZKKyoQMpwoWXDMZjEAc1nCgb6jUOjkMUU1ap4FUIVMwQGFKt1c8eLIQk5CREqOw1EjYaAFDiERz6qoTuwEEUgLJaDMZykdmSHNO6jmhDAAAmXoAB4A1VAt55jlAEqGPmhBXb68DFPE4VxCLRqmCH0KzaqAAuIiRByqARFHCAPEOSAQNCBL6QIloCEFCpzUgJzu4CB50eOj2mVmW2BXv80+v5tMu+Q6IJEWQ4wzEka5emycp4wF1tZTZtKIff2IIwPoV/v+YDfncN4hJ3BRc5y0GCPTgqeMjLJ58ExSH5jLM6aYQwnsr93L/GAPSmC0toVEGgDUZJiuzlBoxjmt59DVGWIa5AxQAnPpHvKQkuVdekyzt34vXzrQ5Gkv+hKHBwkHB57DfWEmVeYGBSLgRejlgSP5OubcHIf1Fjr5YSLXQAkEzfhO3zOUr0ZnAi0m2KSbSXWBcSZZzZqygQFEHWnSA2CQzQFQhD6q5TJxjXJfFJ0q3wvAIRLjXYPINxFx5EUf1bwqK+V+BodzR5sHJxFpHqo4UgbFPETwC5d0uPKLP4i77nryz99N9LwLoN3l7b/7fPa99oOs/ci/5hfe+w/IOWsIL3oe8t5/YMc/KNceWM2urmf7XEG3KIhdWT7uz6ZoywxHih10syOsqp9X7YsesdZIaHDo+l203BrWFA0uvec8XnjNVzg0iFhXz7lq7WHO+c/n8hs/2eeaQ0fY7+5joAv0smmy0MNJzFA8yajfyKpiDUPU8eJwQI7SkAgvQiNydPKCkTgiduU+u3zC8/IN01z2k8oVl0/T2eH4yNO+xLWH4HA/JRJH5ITLxhMuaOWMxgVelCNpxO6uZyaF/d2CxDmeNiG8bOMhLniDI7zph5l8DfzIC/6R99/SoZdNM6e7yYsuqgO0uh4k6ID+YD+DbIrIDyPiKIo+8343e6Nb2bX9ecQaM+v2MZfuoQgDmvEkg6JNCBlFSJf2H0AcNSlCSggp4PAuIc3bFGGAiCPLu4i4qjyUZQCg56bJki5rdB37+zXcp64hvX4PU/fUue/wODsWmhwcOOYzoZcr7UxZyAKdvKjaNUicZziKGK05zhuGqcEEX5nbz0Huoy4jNKMJesUMeZ4upacejZHm80tpCUDk68S0EBzOxSR+iKAZIeR4VyMtOqgWpPkCzkXE0RCR1GiFJpPRKl603vPlA8JUPyfTQEBxOOraYMHNkWmXWOp0XYe97KMmLRyeug6xNVzEQFL2cR81aYHCurCWHimZZGQyYEGnUAnUpMWabJTdnSHWvflj/M5N53Nd/nnmB3sJVd0LOqCXzSDi6PkZAoGWW02elO1NrgNGdZKejDIT7idoDpqjKIKg5FX9rVX7LFCElDSHhfwgRSiPFSIRrlpnsb0GRwhplZaMIoBqhnM1WslqVvvzWS9jjCQe7RRL8aj2yvg1EDSnCCm9YpbPTe8j0Ro3Tw3xT3vGGU08c2nBIARe94NXUrvsSVwIXLj8KPPt27j5F+7ny4fG2NWBg92CI9mAe+U79EO533Md0M9macSrGPbruJRLefGGGq/YdJDz3tYkvPV1nPfWMrwnLwv7p3/qvbz366+iFQU+t1/5dr6dDjOkYYFuPo3q8NK6g2yOoCmRr7OlfhWvGb+I//6uecLrfpCH8+Erv8COToQi3DlbsKbuuT+bop/PVfV58bha7h+RGMQR+SFq8Tixr5OHlMgl5CGlNzjMqmbZBuZhwLBfx2RyIRNhLaKOEWmyKk4QgZk0ZV77DGRAX7p0mWOU1azTCbw4ZkKXvvQQHAPpk0oPp45zdAubmnW+FN3O/t6tFCGlCCmqBSIe8HiX4FyCamCotppz/TMZ0RaH3RGUwK70m+RFj7zoVnUuJ/JNWrUtiHhmOvdWxx4HRNX5CghS5YenFo9ThD754vFKA2gK4pbSUk/Wlsc0AqONrQTNGORtvEQMinkOxXsJxXr6rkceGsTEDFGn7iIS55jPcr6wH758YD23cSfT2Q7SvFPWJcC7sl54iYhcg5pr0XDjODwHB7fTTQ9ThB6qOWhAFw/GBNBieWkGLVBdrCseDeFoXRVHqhmzPfgnuZ77/+Zp3Cm30skPU4QBWehVbXNe5cVi3XaIRNTiUeLq+N4rpmnLPiLXYNqPkmuffjZLUbUrkUuo+WGCZriQlKmt6vpimx5HLWrRMJFrUnMthlnNaFjFEHU21Zq8eF1KXMv5zE8f4N3bx7lPO0zpTnrZNN10qjx/IFTlu1hKL8vO+0Ti8hxSIkQijriEPX6IyDeIqNHQccb6a9ndW8Uut5O5sJd+PkseBkth50UfqvOYMtCj4R+N6/hz12JZvTtqcZ8vnpt6n+AkwrmoKvdnGRspNcYYY4wxxhizItSuKTXGGGOMMcYYs5Js+q4xxhhjjDHGmBWjNlJqjDHGGGOMMWYlKGfM9F338KsYY4wxxhhjjDmzVNeUnsrrJIjIy0TkbhHZLiK/eoLPR0XkUyJyq4jcLiJvebgwrVNqjDHGGGOMMeZhSXmL4j8GXg5cCrxBRC49brV/D9yhqk8FXgD8rogkDxXuae+UisgPiYiKyMWnOy5jjDHGGGOMMZUQTu318K4CtqvqDlVNgQ8BrzluHQWGRUSAFjAN5DyEx2Ok9A3AdcDrH4e4jDHGGGOMMcYsXlN6atN3J0Xkm8tebz8u1I3A7mXv91TLlvsj4BJgH3Ab8HN6oofGLnNab3QkIi3g+4AXAp8E3nk64zPGGGOMMcYYUzn1Gx0dUdUrH+JzOcGy4yN5KXAL8CLgPOBzInKtqs4/WKCne6T0tcBnVfUeYFpEnn6a4zPGGGOMMcYYo6flRkd7gM3L3m+iHBFd7i3AR7W0HbgfeMhLOU93p/QNlPOMqf6+4UQricjbF4eIQ8hOc5KMMcYYY4wx5uynQU/pdRJuBC4QkW3VzYteTzkjdrldwPcDiMha4CJgx0MFetqm74rIBOWQ7WUiooAHVER+WfXYp7iq6ruBdwMk0fCZ8TAdY4wxxhhjjHki08e2a6WquYi8A7iGsn/3XlW9XUR+pvr8z4DfBN4nIrdRTvf9FVU98lDhns5rSl8H/JWq/vTiAhH5MvAc4NrTGK8xxhhjjDHGfG9bvNHRYx2s6qeBTx+37M+W/b8PeMmphHk6p+++AfjYccs+ArzxNMZpjDHGGGOMMQZOxzWlp8VpGylV1RecYNkfnK74jDHGGGOMMcZUdGU7mqfitD4SxhhjjDHGGGPMCrFOqTHGGGOMMcaYlXKSd9RdcdYpNcYYY4wxxpizzWm60dHpYJ1SY4wxxhhjjDkbWafUGGOMMcYYY8yKsBsdGWOMMcYYY4xZUWqd0kfEETHCalphmJbUqXtPLA4vghPwDrwoaYB2Jsxnnlak1L3SL4RIoOZABMbiQMMrL16XMxzljCYpY80+cZxTq+fUR3KiIdBQxj2YcUwdHmLP/DAH+jX6haNbCN1CmEmF+VSZGhT0i0DNRdS8o1DFi5AHpVCl0EA7HwDQ1ZScQIRDcLRcQtN7IicA9ItAN2QUFAiOhAjBoQR65DgcnjqZBgiORuQYisvv1pyjnrdwLkbEIRKjmgGgGhAB1bzcOCkfRysS4STCuQQnEUoghBwRh5MI7xKUQBFSVANaZYxquY53derxKPVojEHeRiSq1stxLqERjxM4+r286FGLhgkEIpfgpba0n3vZNEFzmskkqoGFwQHyosvsYBefJ6OTH6HfnSHydYqQ4l1Cli9QhB5fX3BE+4ePiRtguL6Bll9NTYYZuDajrOMnttV47rUv++5y9s9f5JvvavCJvWN8eGYaX49pyjh1HeJguIduPs1YsoWL9XIm4xrdosA7YWdxmIPch4hnfe3JeI3Ypd8gzec51L2d2WgXd999AfPFPvrZLABZ0UU14FxEEg0TuwZBM4o8RzVQi4aJXI0s9EjzDkk0VJWPOcQ7DkmD/3r+Ora1Oow2uoyO92iuKXBDwjs/+AL+evorHCk6ABQBkAgRRy0eK+OvHkdchB4ijnqymuFkPXU3QixNRsMkscZEeA75/XiNaOowDseCzNHmMIVmzA/2EPsG9WiMWJokmvDlQyNc9ZnPE17+A7jnPJuqKjH4D+9hw8ffhuzehb71dShwzbM+x7+9dweHureTF128q5PlM9Ti1VxefzUbo1EKcvamt1KPxnhW8sP8m201fn/HDM8dW83eTsGFoxEj8RY6OcxnsLYO1x2O2N/NGEk8Ozrref1v7uCDU7Psy25FxLG2dikTyTlM626y0EXE0QlHmNYHaA/2Ebk6sW+Qh5TIJTiJ2RaeQYTn4ACeOjRJB3jvoTu59uC5vPhgjXY2wcEeXLewhwN6D5NyLj84vg1Fuf7wAtcfhowcwbE2ifBSthuXjiXcNjPgQ3vafHCvcNVdk7z63ddw0eop/mH3JgDWNC7hlzc+g8Qp1x0SunnBoaxHX/psi1fRih1zacFcnrFLdjGrexlx63lafS3DsfCZ+Ql6fgZ1DYb8BJGrEUmduXQPAD6U9WW8vo1+MUc3O4LgiFyNPAyoV+WmEa8CIC065EUP1UAR+hQhZbbocWs8y6692/jEmy/iXpmhG2ZJ83nSokPQnBBynCvbnMV2ybuE2DeIXIM87VEbjLCpfRkAHZkjocEoqwG4r9hTtVtl+1lzLQpXtq2F5KR5GycxQTOC5jjK/7vpFAAh5ECo2qmcvCjbtbbsY0fsOFys4Y49YanNzWQAAp1whBkXkxYLFJqhBGLXoNCcTLpEUmde9zMlMQBDMglArAkd+nRdh5rWaeoIk2E9KgEfIqJI+Oz+mE/t3cy/9G5mqnM3ReiABpQCVElDb6luRL7ObHE/Io5GPM6h7A46yRQaCrxLyItu2bZrgVbHEDQQdAFUKYBMyuPF0gmJeFQLVAKyeFwgJvYt4miIEDLSfIEkatHPpnGS4F2NiBpeBIHquDFYOt5AQAF0ALTIQo8QBbrSKdu9YoT7uocAeFpzPdmHb+DLP72Hrxxuct98znSWMscC++Q+5tM9eFcjLTp0BweJoxZJNMxIvJ4x2UgmA7yPaOgQrTDEQAo+tafDfe21/Js/m+bCb76HHTePcc/sKDdO13jyaMaP/kqX5v99K++oUvuCV36Y6/ZfQD8I7Vy4c1a5uzvLTvkOTmL68TxeIi7nWfzw5hpv/pEdhNe9Gfe1G2j/xe18/jtbmUhSnn7pPlrfN44OcrIdbeJzWsxm63ACaRAKhUP9gp50US3wrl7tCrd0jBRxaEjJiw7OJWRFh8jVUTl6ajYmG7nEnctTV8e86YL9bH1DjfDG137XMe3ROPivPsAvfvUS7qmPMcM+pgY76KWHq7rrgLBULjuDw+xqfJu6G2E+3UMeBuShX21befz3vl62s+khguZL8Rzd7hgIy5aV4ZfnMm5pmaIIIAhoeW6ypfUszg3nscPdx2y+m7HaFuoyQl1bPD3ZwrZhT90pmUIsUPdQ90pQcAKRKL1C6O69gDzqM6d76GdzFCGlCClAtd1z9H2DQbRAoQN62Qx50UE1QxCUxZP8gOAR10BDr1wkDpGIOBpdav+KkJIX3fL7Vd3Liy4z/fu5ow5HundThD6uqtuqWXUuFwPFUp4stmc9LeuwcwkhpICjGzWX8rSZTLLan8823cp5w3X2d3MO5gvMuGk6zDDQBXIdkBULxL7FOXI5Vw+v4SXrB7zwil00X9qE8WE4ME3YP4/bsp5L/u80bvsk8xyikx0hzdsETau0Fcfs46V2bWnfl/kWqvzJcKRufqmMeZcwl4xzwI/QT2cZ5G3yor9UHiJfX3olfoiRZBObw0WMSoNIHPNhwBF3mENhO+3+XpSAk6g6n82Pns9Wy+OoRRHSpXPgEHLSsEDQHO/6j65CPcEoR/s5T3RupRNgjDHGGGOMMeZ71xNupNQYY4wxxhhjzKNkd981xhhjjDHGGLOirFNqjDHGGGOMMWalnCnXlFqn1BhjjDHGGGPONjZ91xhjjDHGGGPMirKRUmOMMcYYY4wxK0IVtZFSY4wxxhhjjDErxkZKjTHGGGOMMcasmDNjoNQ6pcYYY4wxxhhz1lFs+q4xxhhjjDHGmBVk03eNMcYYY4wxxqwUe06pMcYYY4wxxpiVodhIqTHGGGOMMcaYlaHYSKkxxhhjjDHGmJViI6XGGGOMMcYYY1aSnhk337VOqTHGGGOMMcacjWz6rjHGGGOMMcaYlXEGTd91K50AY4wxxhhjjDHfu2yk1BhjjDHGGGPOQjZ91xhjjDHGGGPMirEbHRljjDHGGGOMWRkKBFnpVJyUJ1yntEad89x6mrGnEQmxExoRNLwwHCtNr4zEgUjAi1L3gbX1PhdsnML5QGN1IFodIZHgNo3BU84nXHrpQ8bpvnQtHJol2TtHfF+bsZkeF6WeEIQs93T6Cfs7Q3Rzz65ezELmCUAWoFcIsykspEq/CCyEjBnmcTgGrg9AqK4wPkQGBWRhQKw1YmoEF8gZAOCJqWl9KV1BAgu0QaEW6rhC8BpRSE5d68zKPoowQDWgmrH8SubyVxFXLXPVsgBS/lUJhJACDtVAIKfI+wTNq7Cq9QE0B3EUIS1fmlf/94EC1ZygA9pFFwARh5MI5xIGeRsloH6IjD5FGOAkoggpQXM6g0NVXDlF6DHIAs7F9NMZitAn8mV+5EW/CjsGCkL1fYBQ5ES+SREGpK7HXLYH1cBwsoaZNCL8xl9y17Xj7Gi3WFvvc8WLDsN/eQtPfwk8HfjFn7iPP7rxMu6YLbg/m2KTXMau6Nus0XPItKCTF+xgDxvDegTHWs4jEPAhoi9dIlcjdwkh5KR5m1m3k342R150AUfQtNqh0E+n6AMiR6temreXthPASYwSyIoOY9Fm3rJuC6++4XknLLvP+dzn+Nz0BfRr8wTN6Gggy+dQDcvyLAICIjEijrzo4yRmnA3kmnOAeykkwxOzMDhI5BskrkUkNUJVFhyOVrKWhhtnXTiHSD3n1EdQha/99oBz/uIDrDq3j6ZQf/MV3HP7JNuv+hdeftUDvOufL6TuldumPe1sH1m+QAgLhDBANSPNZ9gp3+FgGMG7mLzo0QkDeknKN6aGmHFHuH9+nLkiZajjaCfCwW7g0nGHAns6KV/Nr4EMvjCY4JMHL2Bn73qyfAEnEVNuO05ietk0TmK8RES+UeV1hHPxUrkFCJoxJXuZy3cTQs6+7ibG2cB08QBf0+3cvX8bkcb0WaAXZlhIDxLXmxzpb2VNw3Hp6BB1D6uSozVyagCra5772oEduo+en+dA7zbumRnii+3Lad0xzKy7myz0+JGxq7hsdIH//J2Cb/Q/WpX/LkrgjtpaWvFaLtDL+bHNI3i5kKn0InZ14Me2dElcwddum6Tvy7Q1GMVJTJ0WbfaRhR55UdYrwTHkJyh0QD+bY5CnRL5BP5slzedRDTiXVO0EZT3WDPCIOIrQJw8p89E+uumRqrwFitBDq7opoYZI2caIOLICitAi6BSqOR0O0omP4CWiGa+mmx3GJTFOPHnRWyrDcdSkm0+RFh0G2Uy1n3KKkCztt7zoVW1hwFVlfjHvvEuWPgOoyTA95vHEBAoA+jpPoRlZKOu0k5hcBziJaQ/241xMEQYMJWvJQ3eprvZDWffm/QginjyU7fmQTDDj9pFIk0Qb1PKYXQtT9KXL/u4tFEUbpSgba/E43ySJRvAuoZWsZdxtZlf/GxQhZZC3qUXDFGFA0AzvakttgCAoDpEIJa8a/wJEEHwZh3hEPCK1pfwq292wVPaLMCDLuxShT1Y4VDOcbxK7Bg1tUvcO7+ToceE4IhFOIprRKtbrJBubNQ71M2Jx+CKioTUO9TL+7XvP4zO9LzLb20lWLOAkwbuEQTaFiMO7BpFvIuIIISXN26TRGEd0B1no0fBjHA4LeIkZ5PMA3DwT87mbL+Scb20h08B2dwvz+T6efOSF7H7nKJf973/mhc/fTfTOH+ecf/pRzlme7j//O7Z/3POZPc/lhsMF65ueS0cDz113hPN/pI2+9c24932EXR/L+PM7LuArU9PsdfcS39Vk8u+FzfEkNb+GdU3HVF9pRBA75ZKxiNlU6c1vwNWfS5spejpDWnRIiw550SuPoa5BHLVoxKvKsu4atNwaprP7yXyTn914IW992XaSK9YQXvmDhKEh+MO/5QPvW883pzy7Oil7wzSz7hC59pfONwCGGKfDDONs4BxZhypsbSWcNwzntQZcsmqGNZva3LZ/M7NZyhHZRa59Ej9EV/eRFx2cH6IWj1GPxnASEbsmXmIiaqxKziOjR4sJOswQNKMgI5I6ETW8xMxkO+ll07Rq6+ll02RFh6LoE7Q8d/GuQRF6eF/HSURedPCuUe5/zfGuTl60Ac94YxujYZKuDrggnM8Rt4Y5maKpw6zTCcZrjv3dQOSEXq54Kc/TNg45ClUEoRkpiSvPigRfnc/0KUIPkbg8P9EAhKqNGeBdjRDSsu6oLKt3WrWNBeigeh9AC9BAms3gXA0nUXVuNQANS/V1cRu7+RR50a3WCYQwqI7Z5XmCd40yr3yd4doGJv25CI42h+kXc7QH+46pl4kfYr1/EtvYwLuunOeia15ywjr7UI6v5QGQv/g79odZFooDVfvcRTVbau/LbVvMAwVZ7Agtu32NuHIuqZRtTAAEh1bdEU9M7FvleVBcIHhqfoQr5VlctTphc7PgRVv2s/Hfrie85IUnsSGB9lvfzxfu3EI781w8usBTrzxI/D/f9pBfi/xJhH2GUGz6rjHGGGOMMcaYFSOo2kipMcYYY4wxxpiVoDZSaowxxhhjjDFmBVmn1BhjjDHGGGPMilCw6bvGGGOMMcYYY1aIgtrdd40xxhhjjDHGrJQz5Tml7uFXeeREZK2I/K2I7BCRm0TkayLyQ6czTmOMMcYYY4wx5fTdU3mtlNM2UioiAnwceL+qvrFathV49emK0xhjjDHGGGNMyabvwouAVFX/bHGBqu4E/vA0xmmMMcYYY4wx3/NUz5zpu6ezU/ok4FunMXxjjDHGGGOMMSe0slNyT8XjdqMjEflj4DmUo6fPOO6ztwNvB6jLyOOVJGOMMcYYY4w5a4UzZPru6bzR0e3A0xffqOq/B74fWH38iqr6blW9UlWvTFzzNCbJGGOMMcYYY74H6NEpvCf7Wimns1P6BaAuIv922TLrcRpjjDHGGGOMWXLaOqWqqsBrgeeLyP0i8g3g/cCvnK44jTHGGGOMMcaAcnoeCSMiLxORu0Vku4j86oOs8wIRuUVEbheRLz9cmKf1mlJV3Q+8/nTGYYwxxhhjjDHmuz3WNzoSEQ/8MfBiYA9wo4h8UlXvWLbOGPAnwMtUdZeIrHm4cB+3Gx0ZY4wxxhhjjHn8hMf+7rtXAdtVdQeAiHwIeA1wx7J13gh8VFV3AajqoYcL9HReU2qMMcYYY4wxZiWooOHUXidhI7B72fs91bLlLgTGReRLInKTiLzp4QK1kVJjjDHGGGOMOcuU15Se8tcmReSby96/W1Xfvez9iXqux8cSAVdQPnmlAXxNRL6uqvc8WKTWKTXGGGOMMcaYs9AjmL57RFWvfIjP9wCbl73fBOw7wTpHVLUDdETkK8BTgQftlD7s9F0R+R8iMiIisYj8i4gcEZEff7jvGWOMMcYYY4xZOafh7rs3AheIyDYRSShvavvJ49b5BPBcEYlEpAlcDdz5UIGezDWlL1HVeeAHKXu9FwL/8WRSbIwxxhhjjDHm8aeUI6Wn8nrYMFVz4B3ANZQdzQ+r6u0i8jMi8jPVOncCnwW+DXwD+AtV/c5DhXsy03fj6u8rgA+q6rTIY34XJ2OMMcYYY4wxjxV97B8JA6CqnwY+fdyyPzvu/f8E/ufJhnkyndJPichdQA/4dyKyGuifbASnKhJhVS2i5oXhGFoRTNaUNbWUTc0eG1fNs+qcPq4uSMPhhiLcRBNWb4S5LtRiaPcA0M6A4qPf4MB/upW7Dq9iX6/Gnp6jXwjdXBGBtIBD/QJoUffDxE7w1b5rxcJEDTq50M6U4Vjo5UonVwYF5EHxDooAB9MyS/qaohIoCBTk5TJZwBNTkAFQaEZBRio9BrqA4Mh1QNCMQjNEPA6Hq34PqEkLlQKA2DWpa4t9ch+DfJ4s7xI0X8o/kQjVgEg5CK5EQAANAATN8eIIofyO6uJfUEIVigeKoztFHOBwEhFHTUaTTSR+iF42TZYvUIS0Wr9ANUeVMqTC4VwN1UCWz6EajgYp7th0akAkxvs6kUuW1suLcvvK75bho4FCqm3WgLgGRegzyNuIOIbjDdSkRSM0uWZ/zJf+8jzumOswI0eIiTn37nP4oX/8F176tAcYetdrGX/VBFfd12d1rcbk3BquW9gFCvcXN/JU90I2DSXMt1eTUdB1bQ4X24lcjYaM4yUm8g186OEkql4xQfOldKtmiDiKavv9su3zLiHxQzTiVURSR7Ug1R7dfIrhZANP95fw7Mk52m/+S265bz23zzdYFRc8dWKWS35CePLaPi8+sonrpr6Pvf5+QsgJISXogCL0cRIRdLBsP5f53c0OczCGSGqIeLJinoHOk4UeIo4MBw42cQlNbRCLp+Y8l43XuGI8IwuComxuLjBWH/CtfWuYfSDiR19+P7f/yv18eNckt88M2Nu7gLtnM7wT9mcLZEUPKBCJgYBIjWZtA2vlPGJNOMAOEj9EINCXHlesGuFN564lDwusavZoNg+TphE37l/D01YfZGS0z+u21fnZr72Ee2UHM8VupvzBMl/r6+mnU2RFn8gFnMR4iRBxBM3KvNKcfjpFHLXKuprP4FyEdzVCyIn9EKOsI9IIEU/DtZbqSSS18uVq9MM8n+99i1ZvggWm8BIz0AU8EbE0GQ9ryCRlij0c7t6JdwlZ0UUJ7OM2Ej9EJz1Cp7+H39v9h/z97NVMyCaUgJMIpSxHRRiQhgW+mX2Sr9/Tp5lMMJlcSC/MML/92UzUPBGzjLCayNfIyUjDAikLZb2jrHdpNs+B/GZUA0HzqpzkpPk83iVLdbrIe8fUVzQHiQCH4kirOrdYT0MYIOIQqZV1wSV4l5R5HnKKkJIXXbyvI5IgOCZq57I+nIcSWEjaxCT0tcPaxmV0whRpPk9RpTErOhQhRaRsj0QcgsP7GlneKdtI3yy3ySXkRRfVAXlRtr3OJ+U2UyA4Uu0y0AW0au8iqeP9KIOwAFX7HTSjmawmKxZI4iGyYoFCcyKXkBc9vKvhpUYWetTdCDXXWsrrhowSa41AwYJ0ySRljgNVs9pAw+J+EVTLvBupbWJMNjAeJunUL1g6NgQCLbeabphiUMwT+SYFjqCDcr8sta3+6N0mxCEKSnG0LcJXHyWAL48/RVmWavVhsqJPEQZ4N0EzmWSV28o6xljT8CSOpTa7PK4cva+FhpQipHTzaR5IdnN/LzCko4zpMBMyTEbgcGizr5cx3b2PLJ9BtSCIJy8cqoMqOE8ctfCuvrQvizDA+yGcROQ6YFC0y+NK0SHLyzycl13c7+vlOkWfInT4mtvP7Xu30DgwztPuuZKnf+wbDEXKleNdnvHkvTR+7eXoT/8Y5/10+ZP/OziWArJzJx/4w1V8Zh9cn93AXLGHbm8K7xIOuBrbdZQhP8HV4QrGax4vEDvIApw/rFw8ErOzs5V93U0c6A+Y8W0GUZ9AICJiQI9zdDPbhuuMJULsYFCAkyfTy5W3vuJeone9benozO/+NR/+4Ea+cECInXLecMLGYh1Tg9WoKt2iINPAoCoTNdnCIZmiG3Lule9w/dxh4naDITfJxmIra+PJst5IwaZwEQuuzX65vWyjnce7OgCDfL48Jvse4/E21ugmzk1WsabheeZEzmicM5akbFszw67DY9w53+KmaU8vfzLDsbChCdcfyrgrPMCM7qaTHWGQzVGEPpEfWmp3Ij9UldWy7Yt9k+H6BsaizZwXLuC5axq8/twD7JitMZbUuPj8mEP7IqJohnrtEH9751YKLUeG2ll5rgfQ8NAvYGpQThGc1S4Z3TIel+BdnSc1Xs4axlAUQShQBppTUHCkdpCZsJuF9CBK2YYWoWwfnavhJMG5iKLoE/km3iUogWY8WZbT0KMITQS31H4BjNQ2MeQm6GXT1fuN9PNZAFrxWobcJE4dPeboh3kKzRjQZX04B3WBrk4RuTqRq7E1uYp1uhoAr8L5owmz/Rr9d7yHL3xzK9ceSbhvPmNPMcM+7qaTHwag0BxfnbuIOGLXwBMzIVu5wG3g4rGYrUMF97bXsyA7iFwTkTZOEsTV8VVbe/RcrTy3KfOhhojDS0TkGiiBQd4u2/KiXx0vovKY7Vqs5Txyl5O5AZkMqGuLK2pb+ZMf3U7ye29bqpsB+NYLP8U1B0b51pGMmaLPZNRgrOYZTYSnjBW86kkPMPJXb2H4fW/hNcfVbfeZz9P91E6uu2Uz35yp88CC0skCIjAUnX0PJgkPv8oTwsN2SlX1V0Xkd4B5VS1EpAPftX+NMcYYY4wxxjxhnPR1oivuZG509CNAXnVIfw34G2DDaU+ZMcYYY4wxxphH5HRcU3q6nMwY9X9W1baIPAd4KfB+4E9Pb7KMMcYYY4wxxjwap+Huu6fFyXRKFy8ufCXwp6r6CSB5iPWNMcYYY4wxxqywoKf2Wiknc6OjvSLy58APAL8jIjVOrjNrjDHGGGOMMWYF6Gm6++7pcDKdyx+lfA7Ny1R1FliFPafUGGOMMcYYY57QAnJKr5XysJ1SVe2q6keBORHZQvnc0rtOe8qMMcYYY4wxxpz1Tubuu68WkXuB+4EvV38/c7oTZowxxhhjjDHmkSun8J78a6WczPTd3wSeCdyjqtsory396mlNlTHGGGOMMcaYR0w5tcfBPNEfCZOp6hTgRMSp6heBy09vsowxxhhjjDHGPBpnyjWlJ3P33VkRaQFfAT4gIoeA/PQmyxhjjDHGGGPMo7GSU3JPxcmMlL4G6AG/AHwWuA941elMlDHGGGOMMcaYR07hjJm++7AjparaWfb2/acxLcYYY4wxxhhjHiO6glNyT8WDdkpFpE3ZwZbq79JHgKrqyGlOmzHGGGOMMcaYR0IhnCHTdx+0U6qqw49nQowxxhhjjDHGPDYWp++eCU7mOaXPFJHhZe9bInL16U2WMcYYY4wxxphHTtBTfK2Uk7nR0Z8CC8ved6tlxhhjjDHGGGOeoIKe2mulnMwjYUT16M2EVTWIyMl8zxhjjDHGGGPMCjlTbnR0MiOlO0TkP4hIXL1+DthxuhNmjDHGGGOMMeaRKa8pPTNGSk+mU/ozwLOBvcAe4Grg7aczUcYYY4wxxhhjHp2z6Tmlh4DXPw5pMcYYY4wxxhjzGDlDnghzUteUPq7qXrh8FayKc9Y3UtY0u6yZaDOyrSC+ZBwuu4xw6SXlyp0OJAkhiqDfx91xF8wvwCCjeGCG3v05R/a22DU3wmwWs6/vmM+gXyh5gMhBI4KtLY8CWYB+AUU1dp0FmM+g7mEsEUZiZSQGVUEEvAh5gMMDGIob1XcazKctnJRD4GkIZKEgRyk0ABBQHEJAOeQOoAQG0iWXAZl2UQ0UmhFJjVia1GkxpKOMaIuaeOouou43M60p97buol0cIGiOUgCQhxTVQNCMLO8StHzvXYJ3dYrQBwLgEClfrrpMuAgpzkdErk7kanhXo+ZHaLpxEm1Qo8HF0Xo2jXnum8+4J+xmb3YL3XQK1RzVUIUZ4SRCxKEayIsuCCiBJBqhHo8ieJQCLzVqrkUsTdbqFrZE43xBrmFhcIAQUryrL5WPxfAW4/K+/MxJhHc1QsiZGTxA7OvMyE7a3fOpM8R+7mKQz5MVPfbKNnr3P4PZ7Dze8v7PoL/w47z4Rx+8TMqRw+R/8Cn8b7z1uz5z99zDA794M7ccnuCO+YTpQVmu/nH2Xo6E+0nzefIwICu6AEtpL0IXKMjyQJ/DLAz2IziC5kCBdw2KZMA97OdDOzcRdo5y91yPWZ0mwjP+wAgv2pcgAns6BT3pk9Er8zYaI5IadTeK4NjbvQmAkdpGtshTeO3aNfzSD23H/9Zbkekp0nd9nBu+/lQODxIArlhzhM3PG+CfeR7hed/33dt8110c+fVv0O0mbHhGH3Gw/q450n5E/PqrudDdwEVHxplLE374vL3s6mzkmZM5/7R3hDt1jH42DXgi32SkvolJfy4TYZyxqMZ5boJ79RwaWufy4TFum4N/2jtKvwj0izrnDde5YlXg61OOm2c2APBAuyDTAVPFDhLXohOmyPIuE60L2Bh9P+v8CEORZzpNWZUkJF5IvLCnM8DXhNX1GAEWssBQ7FhVE+ZSZT4NPHuN4yUbD7NqvMP+w1fyn24eYjJJuHWwFxTmdB/Pil/J969v8JL107TTmA0jNdZsWyDZMIx/6kbIy3rJ1AJhZgN3fPpCrtm/ii/u75MRmGOBTFJmk1E6/f0ATKcP0I/muaL+wwxkQCE5M+zjSP9eIqlRi4bxrkahOQf632E4Wc9N+T38yvqLWNsY42BvjCP9gtksZZ8cZo4DRL5BIJBELYqQUoQUJUekLHdOIpSyjUqikao96FOEHlq1XeISwFd1OyL2TWp+mCIa4F0Nh8NX7Ub5/QFKQeJaNNw4kdRweAB6OkevmOGlzWfw/z19HwBrnxTwv/l6cA73Nx/jM398GR/bk3Bzdz/7uKuq53WCpuRFmzyfA1mc8OMYZFRtG1ClmaU2rkbk64wn25gIa6lpQkzERFKnk+f0Q06mOfOuTYsW824eh6NPB09M7BLaMk3QAi8xuZbbFkkdwS3l3WiYJJecWBMi9UvxrIprdIuCgpwpuRfVwWKjhmoOCr3+bnr93ewXQfCIa+BdQtCcyDdps5d6PMq50TPpxR1mdR+9fIp+NlftqxTVAYKg6FIeSJXni/vQSW2pnY58nbX1y3hm/BTq3nGknzEfBnSlR1MbbIqHuHTcce5QThaE5PAQA1cDaqhmS20+QOTr1Pwwa8I6GhIxHMVsbkWkBcwMAlOpY0EHS+uL+CoNw2wYejprdQt1rbPT3cNq3UwmKRkpk2E15zdb5AHqkZAHpZOFMj9V+Ub4Mi23moVwmG56GIBaPAHAbHcHMxrYLzfx+V557Bk9sJlNt5/HRZ+6l8n6diZqsKZWsLaW8al9db4zP8c+v5tOmCINC3TTI1Wd6ZclTSKKUB6PsqKD8+vwAl4gEigCZCh5EF7/lPtpbcrJ29CdiclSDwirn1zg3vmm72pfv8vv7WLmje/nS9s3cetsws6FzXw9u4ODgzsowoAQ8rJua0bsyjoeQkbQqm6HnCL08a5Oms9U+yvGu4S5xl5W64t5xuqI78w4knyEQodZ59bwlE2v5PmrU175tmn0px7iAHkCk8DTgX993PKXv/SjfGL3BXz90Fburt3HIbmTPKSIOIowwElUnn/4BmPJFibYxJPiDVw+4XjphikuftEB/HMvIjz9VZzTaCyFe86yOP7NT7+HQTvCeUVEqU8Eko0xbtsEJBHkAdo93vt7q/j03mdyW/1uprLt9LM57uhfwz2+gcMR+yEafpzENRkNkwQJZTsWZ+ShR+wax7RzIo5+NreUjlo0woboyVwabeai0YgNjUC/EA72hZlU6eWBdlawpRVzzhD8zr5D9PNZ0rDAIG9ThP5SWV5qfyUCAv14jsPcTV70yIsukW/SStZyRX0zV07AfCZEDnoFfGLvMH+5o8VNvb3McZgmo3iJiCjbgIX+QZKohUogclCEnH42SxINEUU1pvNVQMwFrR6bG54d81sIFJBAl8Ok+TxZni7bAwWqOXneI8/nynaoIkjVXpdtsncNnEuI/RBD8SSb5DIuqa1hLs05oLMM6PPM5mbecl6b+os2wc23MPt7N3PD9o3cPFvnrw8dYCrcQD+fJcs75EV3qR1mD/AdcB/+PBDK+lDFG0ctnMQEzSjCV/AuoRGvou5GiKXJWLb2lMr7E53qmfNImCdcp9QYY4wxxhhjzKMXVjoBJ+lkrik1xhhjjDHGGGNOi4cdKRWRGvCvKGdILK2vqr9x+pJljDHGGGOMMebR0LNo+u4ngDngJmBwepNjjDHGGGOMMebRUs6c6bsn0yndpKovO+0pMcYYY4wxxhjzmFnJZ4+eipO5pvR6EXnyaU+JMcYYY4wxxpjHiKCn+FopDzpSKiK3UY76RsBbRGQH5fRdAVRVn3IyEYhIAdy2bNFrVfWBR5xiY4wxxhhjjDEPSTlzRkofavruDz5GcfRU9fLHKCxjjDHGGGOMMSdhJUc/T8WDdkpVdSeAiDwTuF1V29X7YeBSYOfjkkJjjDHGGGOMMafsTBkpPZlrSv8UWFj2vlMtO1kNEbmlen3slFJnjDHGGGOMMeaUqZad0lN5rZSTufuuqOpSElU1iMjJfG/Rw07fFZG3A28HGI1GTyFoY4wxxhhjjDEncqZM3z2ZkdIdIvIfRCSuXj8H7HgsE6Gq71bVK1X1yiE/9FgGbYwxxhhjjDHfk86UkdKT6ZT+DPBsYC+wB7ga+KnTmShjjDHGGGOMMY+cAuEUXyvlZKbhXqCqr1++QES+Dzh8epJkjDHGGGOMMebRUj17pu/+4UkuOyFVbZ18cowxxhhjjDHGPFpnxUipiDyLctruahH5xWUfjQD+dCfMGGOMMcYYY8wjd6Y8Euahpu8mQKtaZ3jZ8nngdaczUcYYY4wxxhhjHp0zpE/64J1SVf0y8GUReZ+q7nwc02SMMcYYY4wx5lFQIJwh15Q+1PTd31fVnwf+SES+q5Otqq8+nQkzxhhjjDHGGHP2e6jpu39d/f1fj0dCjDHGGGOMMcY8ds746bvA7SLy88D5wG3Ae1Q1f1xSZYwxxhhjjDHmkdOz40ZH7wcy4Frg5cClwM89HokyxhhjjDHGGPPILT4S5kzwUJ3SS1X1yQAi8h7gG49HgtKg3L8gzCQRU6lnuFNneHaU4Z05Q9flDCf3M9K8kzgqCEFIkoJ6K0McDDqeQb/cpLyoEYo6vSymHhWEPqyuBYYjIVOh6RUvShbKi3+9gBMlFkhcYFOzz1gtZbzVpdlKCYXQWp8jCfjRCILiJhoQe8QJmhWQl7u9ONhD6o7QLRAnS0+DlUjACdKIkMSj3YxiWtDckc21CNkweVquLKKIA1+rwhx08PHC0YxySn2z544vbWU+vaBcRx0zacR9nYTdHZgZBI4MBownCU9d5XnzZTuZ+LufeDx246P2jq0Rfz/3KbrpEQAi30C1oAgpRejjfZ0QcoqiT9AcEUctHqOVrCELPQZ5m1oUM6cHmAP6+SyF5gTN6RUzfFW+yK27V/Op33oSQ7/zRRIvrGk4sgA72xmZBi4dq/GzT97D+o+9Ef8bb4Xf+xu++ckx9nYbDEc533fFHmp/8Da2/OOFbAGWX2QdXyh8cjrmYHQPWXoQ1UAStXAuxktEWnRwEpMXPYLmOIkQOfrY4MQPMZxsoKY17m9n3K0PsCBTJK7JkI7xtOEx3vGTD8D/86ZHmMPPg7k5dNUE8f98G885wRoB0N9+P9M3OwaDiFWbujSfuYrw4z/Eqg9ezKrFFfOc0fd8hEOfzwhfvBU/ErG2nhKo860Dq2lnyqAQRhNH3G/gJCIPbfKi4Ej7FqbkNu7zwyTRCINsFu/rpNkMN/bH2dB8Ohk92uk+6tEYN85l3NC+gt18h3pnlEhqzOa76WXTRK5GL5tmpLYR7xIOLNzMAW5GNSDiUA0oocrrCO8SIt/ApxF5SPES4V0NbRdkRZ/IJXx931Y+sHcLPfGcIy3WNWKCwlNrGylUydOcO7mNew/Wee+BBqn0GAtrWH39JjY16zQiYV8nZ65ISTVhr9/PXH47Ndei4cYBGA2TnCNruVdTavEYaxuX8fKhK7i5PcWd4css9A8u7RHv6gyKecbirZyvl/CaTQ2ODBz3zOU8dZXnJz9xDrp5S7l6r4d0FiAv4NPXMfelCb5092Zuma3xzSM9pmmzT+4DYHO4iF3uTi4IT2HYJ9yj9zMVduIloiHjeInp6zyFZjgcTmISabIqrGOdjLHXHSGXnDkO0M4P0kkPIjhEPCKOPEyzEA5ShBStDo9OIhrxKn5wY8qGj7/hmLInO3cSfvyHeOmPw8s/dQ3p9R16+7fy/ptexF/s38Ge9Fv0shlU86X9W3IETZf2ceTrxK5BEo0w6jdwkV7As9fUuHg45ba5hO3zgUEROHe4xlwaM58WjNFAHYzTpKc5XR0iECikYJWuY0HmyBjgJQZighbEElPXERraoKYJXj0OIRbHUBRT9471Q4751JN11rPLNxCJEKkR+SaqgaBpWUY1K7fE1XCSAFCLx3ASM5ysp+nG+amN6xFgKr2AmRQO95SD/T6HmWNK9tIJU2RFebyo+RHSsEAIOc5FXOFfwhWrmjx3csBFq2ZYf16bxos3EV71QtyNN6Hf2k6+u0P7fs+hKeFIV5jLYlYlKWtbHT5YewVP33qAVR+s2p65OdwN34JNa9Gv3U52zzzR77zymP2Z/dJ7OHBPi28enGR3r8H2fduYCilBc0Yam9kQPYWBdPl279Nk+QIijl3hurIsiGO4vpFvzvRI8wVUc7yvl3kWUurJBLVomH3dbyE4itCnCD1q8SiXxy9j68gInx98genuvQyyKQbZLB1/mJn4frrdZ7NtsIapmodRz2SSM54ITUmoaZNcBgx0nlZtPc90L2Ao8ozWPPcv9KiJ54LRhCzAMydyXv/rOcQQvr27PC9oJchwnfCjPwmUJ1v14xvZmRkOvO3T/NOOTdw9L+zvFojApiHPlatyXnzpTobf9xYm/uZj7HhXzOenDrGLO1jIymPKULKWphvDUdbPoBmFZgSXkxYd6tEodT9KoRlpWCDyDYowIC/6xFGTSX8ur9sKr7vxeQ96pFDAfeoa7vyjDp/aPcnnD3TY6e8n1wFrdQujtNjYqHPJmHBRK2U4zvm/22ssZAWRE7a0Yl6xvseL/vk5XHTND/PLSyH/ALJ3D3z6egZ3tLn15rV8+dAIu7swHMNQBOvrgeevP8x5Pz9JeMkPLR2XAIr/8l7u+OoE/3JwnHvnlQtGhJesn2ZvZzNelGZU0IhykgMFQ/emRNfNI6LkuaeXRdw57zicz9N380ttSBFS0ryNk4iimhi4wZ3H27ZM0PRr2df3DArY2iy4YvU0F7/JE9742gfNu5Ml//fD/PavBJzEBM2q9swBgVC1cQBeHJFv4iUiEPAuwbuERryKZ0fP5w9evZ36n7ztu8J3n/8S7/2PG/j7XRPcKbcyM3iAQTZDqLaxlx7BydHugEiEEujIFDN+ljS0WN/q4ERZ21zLrvYobdcij7rkoU8IZThCQHEEPAhAwbG31ymfJukkwrlkKc4iDOjm0xyI76XVHyIWzzjDrEkmuXpS2bZmBoa2wp6D7D84yn2dGns6MKcH6KQH6afTS+2miEMkxkmCiMNJRNC8Or6XcUauxiBvL20/gGqgIMOR0afzqPfpE42ehpFSEXkZ8H8od+xfqOpvP8h6zwC+DvyYqv7DQ4X5UJ3SbPEfVc1Fzow7NxljjDHGGGOMEQKPbR9ORDzwx8CLgT3AjSLySVW94wTr/Q5wzcmE+1Cd0qeKyPxiuECjei+AqurIKW6DMcYYY4wxxpjHyWkYKb0K2K6qOwBE5EPAa4A7jlvvZ4GPAM84mUAf6jml/pGl0xhjjDHGGGPMSjpN15RuBHYve78HuHr5CiKyEfgh4EU82k6pMcYYY4wxxpgz1yO4++6kiHxz2ft3q+q7l70/0Xzg42P5feBXVLU42UtArVNqjDHGGGOMMWehRzB794iqXvkQn+8BNi97vwnYd9w6VwIfqjqkk8ArRCRX1Y8/WKDWKTXGGGOMMcaYs4xyWp5TeiNwgYhsA/YCrwfeeEy8qtsW/xeR9wH/+FAdUngcOqUiUgC3LVv0oQe7bbAxxhhjjDHGmMeAPvY3OqqeyvIOyrvqeuC9qnq7iPxM9fmfPZJwH4+R0p6qXv44xGOMMcYYY4wxpnIabnSEqn4a+PRxy07YGVXVN59MmDZ91xhjjDHGGGPOMqdp+u5p4R6HOBoicsuy1489DnEaY4wxxhhjzPc0PcXXSnlCTN8VkbcDbwdo+dHHIUnGGGOMMcYYc3azkdJToKrvVtUrVfXKumuudHKMMcYYY4wx5oxWjn7KKb1Wil1TaowxxhhjjDFnoTNlpPTx6JQ2ROSWZe8/q6q/+jjEa4wxxhhjjDHmCe60d0pV1Z/uOIwxxhhjjDHGHMtGSo0xxhhjjDHGrIiVvqPuqbBOqTHGGGOMMcacbdRGSo0xxhhjjDHGrCA9Q8ZKrVNqjDHGGGOMMWcZxUZKjTHGGGOMMcasoDOkT2qdUmOMMcYYY4w5G9lIqTHGGGOMMcaYFaPWKX1k8gD3tzMcgneCAyLn8RIRO6h7YSQRYleuX3dlTh/ol+8XMmVQKGlQhiLHZF3IAwwCzA0CkYNCA16E2JVhOYF2Vsbd8MLahqNbNBkf1BjuNpiYH5AFx8bePFEUGFk/QAR8t4PUHQRFB4rmSt6G7kyMiFLkMc6X6QuF4LxS5I5+v8z2hUGLQ90G7TxiLvN0csd8JrRzoV8o82n53cX54IUqQaHmhdFE+B83PonLfm3imPyTI4eRm74NaU541Uu/K3/dddfzT/+xw43TdTq54gSyAGkB82mgneeogkhZiBuRZ2PTc/6wsqmRsaqWsrrZ5T33ruG2mR473ANM5w9Q6AAnMQDj0Va2FtvYNtRkOBayAHu7GTuLwyy4OQDWFOsZljqtKOLS8ZjnTHa5cHKayW1d6levpu7HGI020fBjLGQH6WUzhJASNEc1I2iOdwnOJRBApCwQg2Kemh+hVVtNqj2abpxCM6KkxgSbePHYJr4z0+cb4V84PLibf9HvkBd9QkgRcTiXIDi8S/jyQc8fH8iQ1pdpxKvK/BWPwxG7Jqvu3sST//5LrKo7tgzBcKRkCmtrOd+YyjgQ7qSTHiIv+hShTz9LiXyTejTKULIWh6NeG0HweInxlPk3HMbpyBy5ZBxiD1nISF2PIR0n0QbnynoO9wre94EtbPv4ZylUGIpyJhp9drVbfOFQg5umu8wwTyE5CzJLoRkZPfrFHEqg7kYQ8XTzKYowIA+DspxqDkAtGsa7GpHUcBKX2yxNJj44zJZf/Bea3jPZcDxpNLC5kdKKh2lEOatZQNNA7JSxBF7+kl3s+Nj5bG722dcfot4eRSQCHBrSslBqoAgpaT5P0AFF1gMCIaT0dIZx2UyzNs5omKCQnK4s0GCcWOq0wigbZDO3RV8kK/qM187hEq7g5lqPzuAQRehX8S2W6VBGqYE0nyfLF1DKZWVrU9UjcWQuQTXQi2YoQsYevZWmTnBeeHJVLwN9v0Ann0IJrPEXErRge3Yd304PM1xsQsQhOAodEEJOQ1YRuRrT/R3UomHWxU9ii59g23BMf3Y9B5JJZtL7+evBvWRFhyxfAArAAwVFVQeyoseMu5+bdzWouxE2cBHPi1cj/3IjsuE+wrOuhOFhtNEot+fVz2es9XVesX4na7++DhhhalBnW38VD6SzHPEHiLXBYXeEOKzlha2LuGT0Qp67ZoYkKmjVU0TG6PYTZvp1DvTq7OvFBMry/qfbR5iSaQIBJxH1aAylwElM4loAZKFLoYOlPI5ckwm3lX7hcB/5J/pfOcCRnU2aQyk+Doy+6TzCi55HeNVLiV4Fw8BP/MT7WMjPZXpwbllege3zA2JxbBiKOacFTx3tccmaKVZf2CN++wvQ8847thHMc+T9H+NJ/yD8897VHOzHzKVK7ITJeoR3Qh4UAdIQUYQ6nbygUKWnOc3QICOnLz2a2izrCzF1F+FEEAd178lCoOnLx3T3i0A/dxzu50wxh8OxfvgZXC5X8Vev2MPIX73lu9rqpTb7S9fChrWwax9f+80OD3SavOFX2xBH9P5lL1O7mhyaH2LHQou72+uYTdcxUYMrx3s856o9JL/3tgcNe1EA5P77Cc+4Ap5xBR4Yq14XHrfuOYv/pCn6vz+I/OpPEl7ywnLZpZcSAe47t5N9+Ab8//evod9HIuimMV6UVXEgliYiERpS5ro7mWMnGnooioiHqp4iEaqBdn/vUvyCI4SynQqa0x3sozsAqY4/JU+nv4frB+/lhm6DWjxO0ByRGNWMIvTpZTN8J/snbheH60Qkc0PEfoheNk2aL1CEPlCgGhBx/KN+G5EY7xK8q9NIxrltbjOJNNm5cB7rf7tg88gMY2NKbbhPPNpH83lqa65l7//ZzVf3rOOudszeTuBIP6ddpCxIl4NyiL7eS11G2RouZNTXONRz/PN+z67uebz9p97LPfdNcu+8ckj20M9n2Jg8latqF9CKHYd7OaOJZ6wmNLzQK5QsQBHKNm/3QsZEI2IkFmZT5Tu9w9wx+Bx56DOre7m7fRHubz+O9jLo58iGMbqf28cvfOp8pgY5hSqzRcpev4+F4hYAJvVcRnWSnvTwIeLubp8d3YgPSZtVjLFdbqEgYzxs4J75nLvn1jP4getZXR+wdXKWyWcE/IufQnja5fBTP0oCPOP/fID7/7rJ5qbwY9984XeVT/e3H2fHB1IOLgzRySNumD6fQz3o5MqO7gLtrMklw0N4UfqFp1DhYL9Gv3AMRwWxCwxFOYU6siBM9ZUpd5hc+3hXIwGGaueUbZY08cQ0dZhnj6zmbb80RfjxHzphvXHv+wgf+ZMxPrHb8/nBF5jr76YIKZGvk/gh6tEYk+5ctugGWlGEF0EE6t6xoek4t1WQhrVMui5z7gC5lieziS/LY92PUpcRYq3h8HSZw4lnMqwnI+OQPEBMgzwo196ymWe99S9Je57OQo3pboPEF9w7N8yn9wr3uXtZyA4QNAMcqgHVQXkMBsQ1SKIRRMo6loce7WiaHfPr+Oe9qwHY3u6xIHMUmqEaiP0QPoro53O46lirGnAuwrsaDoeIWzqfiKQGQK4DstAr814aDMsaLpRtPGt1wnQKwzE8dTTlyaunGNmSwkyb/lcO8Jm9F3DtwZS7uI+Z3g5EHHHUIi+6aJUmyCiqeqtVG6KE8nwAR1qd6/nqGA+QhR5KgbpAw4+euKE8QylUZzlPfE+4TqkxxhhjjDHGmEfPpu8aY4wxxhhjjFkZatN3jTHGGGOMMcasEJu+a4wxxhhjjDFmRdlIqTHGGGOMMcaYFWMjpcYYY4wxxhhjVoSi6BkyVGqdUmOMMcYYY4w5C50pd991D7+KMcYYY4wxxhhzethIqTHGGGOMMcachc6QgVLrlBpjjDHGGGPM2UY5c6bvWqfUGGOMMcYYY842ap1SY4wxxhhjjDErSM+QCbzWKTXGGGOMMcaYs4xN3zXGGGOMMcYYs6LOkMeUWqfUGGOMMcYYY85GwabvGmOMMcYYY4xZKTZSaowxxhhjjDFmRSgQVjoRJ8k6pcYYY4wxxhhzFtIzZKjUOqXGGGOMMcYYc7ax55QaY4wxxhhjjFkp5fTdM6NXap1SY4wxxhhjjDkLnSGzd5En2jzjrc0N+r8u/TeMxRmragNG6wNaQwOGxlJqayDaMoRcsqlcud2F3gC6KZoV6EIKgEQO7WVoAIkdBCU7kNI94AmFABAlgagekAhCBnELNIdQQLLO4yfqyJrhck+mOdld07hWRJjLwYNrevy6FjQTGKqX6RhrQRLDTLtc5lyZzkatHDsfHYbIo7UaJDFyeAru2kk42Cbb0yedFhZma2S5Z5BGqApZcHSymDw4urmnUCF2yubhNud95nW4r3wV9hwu47hkG+Hii5fyUg4cYO6XP8Nn79jKt+ci9ncD+/p9budGFrKDpHkb1fLy58W/i5dDi0REvo53NSKX0PQTrJZtbHNr2dKK+cT8Tczn+xjk8xQhpRYN412NoBmF5vTTGVRzRMrfPSJfx0mEEhAcSqARr6LlV9NglIga63QNTxlr8iNb5vnju1vcnD5AhxkKMvphnqAZg7yNakERUpyLiF0D5yIEz0i0gUSabAlbmWOBWGNaUucIM8y5IwzrKvp0SGhQ0zqjtJhjgXuyr9BND+NcUqZRQ5W+cWLfouVWE0sdp44+C/TCDLkOSFyLRBrkOiCWJiOsZiKs4uLhFjcs7GMfd9HPZ0mLDgBOYobiSVp+DaNhklxyOjLLocFdhJARuRpJNMK58jRWMcwu2UdMQjMMsdvdzTo9l5Y2mZN59uodNNw4c/luVAOF5gyyOVTzMi6X4F2C4MiKLqr50j4WcTiX0Ez+//buPMqOs7zz+Pd5q+ouvbfULamtzZK8gGyDMcasAUOAsAzjwMkCk4EcQsJwEs+ZmT9mDmcmQ5icyclMllmSIfg4CTHJhDBkAsSAMSRs2VhsE+NdXmRLaklWq1ut7r77rXqf+eNetYVtLIuxfFvy7+Nzj24tXfXcqvettx6/tawnWEYR23SK+up+ORFrYikh9PZfHnt1ayhdx8ZwEZt8mvOHK7xxJufqiw6wslyh1c644PV1bLLKF35/kq/Olfjpbcv84UOjvHASvnk08uXWzSw395MX9dWyliajlLNJqtk6itimlR8HoJJO8NLkDRy0OVZYYGPcxvowwmQpo9YtABhOE4522vyj/y3uBaPJJl6WvYCvdb5BrTNHKRnmeeFVjFiFZW8wYlVGQkYtdtkf9hE8kJBhBFpWI/WMlDLTcYqyJTS8w2io8K7zU741n3D/SpOXTg3RjbDcdW5fXuRgeIBRNrDFN2IYh22eRQ5RkGMEpn0bCSkrtsiGuImKlThkR6j6EJHI+ckUW0ZSjredr7S/SbNYJHqXZmeRInYoYgv3LgBJqK7WzywdwghkSZWp0kVsLc7nQ5cY2yeW2fIjbZLzJ2HTOnzzJnzXrtXjQvibv+eR35jl04/McMt8we3F/Szke9mUPJ+dbOGfbk1520UHmHp9Gf+FnzrlMTvcdTdXveZuFuwgLV+i8JxuUaNT1KmkEyShTCCQe5u8aK7W1+hdyskYL7RXsmOkyr5ak0pIeeXGjFdOLXPp844wdNkQnkfClgni614Bk5OnjOcJ8f3fz9P8myO0FhPGLjHsgz+Lzc3R+c3Pcfdt0xxpVlnqJjSK3vG6FY08GrnDYsfoRKeRw3InUs8LAkYwaBQFidnqejqxIAIJvXFZCAynSW+/mTFWCpQDPNosuLN7gF/asp03bT/Mtg/uoPuFu/mzm3Zi5mwbajNW6nDRhUep/t57H2tHAHvoIbp/8HXSX3/faW2DR9/xp/zxfVu5db7L7fEuJn0jM7aeLcNlfmS64O2v3EvlvVdS+8htfP3Obcw2M1rRGE0j0+Wc6XKbmdEaM8+v8YFP7GJPa4HFMM9CvpfJdDtbi/O5ZGyEC8bgRRM1XvU7mzn2m7fzyOFJtm9a5ODcOJ2i134dalb5tw/dxaHGd+nm/WOWR7CUNBmlUprEPVJJx2nlSwxnUwTLaBWLDCXrKdkIXZoYgehd6vlR6u2jZOkQWaiSxzbt7nGK2Oz/+gj0tqFZ6B8jA1k6jlmgmy9hlvWmE4jexj1i1vubJFTJ8yWwE8tICVamlI0xlE0xlezksmQX117cYijNif12u1UkdGLgoXqZz822uNe+x0r3EK3u0mr7BZAXDYxAmgwxXN5A6McynpzHVDHDj05N0Y7OPxxbZH+4l1GmOdy9k2Z3kSSU6OYNKqVJEkupt48Aod/2Biql9bQ6i4SQUhQtYn/8ibYgS0c4b+gKLrNLWCraNKxJw2rMx73UOkdW5+9tl7w3TGCoNEUSyr1yny8D0I1NklAmL5p089pqO2MEklAiDWXy2GaysoNd8TJevn6M125o8OKdh5m89hLiS1+yWl5rP/dH/MmtO7ltAQ62miyyzLztpxWX2WYvYMUWiRbJvBfD88I2Voouu0aqVNPeaVsaIBhMlWE865XjAGQhsqHa4qZDE3xvIefhYo4Fm6UgZ6PvZMJHmS5V2DmWMpw6AfiZi2fpdhMeXJzg/lqFw83AXDOy2C44mC9xODxEJFLLH2W52WuTk1AiS0cYL2/rnS9YlXas0S5WSEOJUhhhKKznyuQyrt6U8OkDDY6GBRq2TNtr1POjtPNloucUsYN7JISUSjrOWGkLw0xSosoGn2LncJWtw8YFIzkHmikPr0A1hfVlONyA2XqXu9jDZNzATJigEwsqIWWynNKNTjkxqomx3I3c25pnlnsZCpNUfYzpOMWV60Z41/ZFujFww95xHq41OcoSK2GRhi/iXmCWUHiXbmzQLlbo5CsURatXfiwlCSVKyTBZMsxwsp71voXtyTRjWcpQakyWjVesb/Hm31lHfMmLn/Q4Fn/1j/ifn9rFVw832WezNFlmpXgUIzCebiZ6QS0eJXq3t70sJQtDtItlOkUd94IQMkayjVzCS1iiRuIJgUDAmEqGiTjucOPir93m7lee1oF2jZpIZ/zq8dNrM/7y2GB+v3pKRUREREREzkFrrP/xB1JSKiIiIiIicg46W+4pDaeeRUREREREROTMUE+piIiIiIjIOcaBeJZcv6ukVERERERE5BzkZ8nlu0pKRUREREREzkHx1LOsCWcsKTWzArgTyIAc+DjwP/yxd4+IiIiIiIjIGeCcPQ86OpM9pU13vxzAzDYAnwDGgV85g+sUERERERERHD9L7il9Vp6+6+5zwPuBa81Oetu4iIiIiIiInBERP63PoDxrr4Rx97399W14ttYpIiIiIiLyXHTi8t1nOik1szeZ2R4ze9DMPvgk03/GzO7of/7BzF54qmU+2w86etJeUjN7P72eVNZl489qQCIiIiIiIucif4YfdWRmCfAR4A3ALHCLmd3o7vecNNvDwGvcfdHM3gxcD7z0qZb7rPWUmtlOoADmHj/N3a939yvd/cqRdOjZCklEREREROQcdXq9pE+zp/Qq4EF33+vuHeCTwDXft1b3f3D3xf7gt4Atp1ros9JTambTwHXA//Kz5W5bERERERGRs9QP+fTdKTO79aTh6939+pOGNwMHThqe5al7Qd8HfPFUKz2TSWnVzG7nsVfC/Anw387g+kRERERERKQvnv7lu/PufuVTTH+y2zGfNPM1s9fSS0pfdaqVnrGk1N2TM7VsEREREREReSqO2zN7Tym9ntGtJw1vAQ49fiYzewHwB8Cb3X3hVAt9th90JCIiIiIiImfYD3n57qncAlxoZjuAg8A7gX928gxmtg34NPBud7//6SxUSamIiIiIiMg56Ie4fPcpuXtuZtcCXwIS4GPufreZfaA//TrgQ8B64PfMDCA/xSXBSkpFRERERETOPf6MvxIGwN1vAm563LjrTvr+88DPn84ylZSKiIiIiIicYxyIz/w9pWfEs/aeUhEREREREZHHU0+piIiIiIjIOeiZvqf0TFFSKiIiIiIics5xJaU/rOndo7zjO6/7gdO9/wn33AOHFoizx4mNgtbBSHnK8Ogk4ylWTUnWD8H4EJRLlGeWKK20sQ1jsNTAm12smkEpgWoZigLyCK0uHh2r9DdNdOgUhJGUZMMwyZYEtm+CDeuJU1NQqUC1evo/NM/x6Q3YlvOwlRrlZpNyXjC6vAL1Jqw0e+vOUmi28Wa3F18wyCPeKfjGq27mhr0V7ujUOMZ9dOM3KbxL4W3cI+6RTlEnL76Me69AhlDCPcc9YhZwj0TPgQJICJb2x+d0usv9bR5Z4SBHw308nE0yEbex0N5Lt6iTFw3cI3nRIEkqq8tNQgknpZKOE4mr6+9NTzAS2vkK0bvU7CjukZV0I93F5zNRGuNwq04tzGMk5N6miO3eci0lJBXSME1qZZr5AnnsUEqGMQJDPgrAjmw9AZiuJozWM74T9wPraFHjuB9ksfkwwVKGSxvoFHXSZIjdlR+jax2OMUs71hgKE7yh+hIW2jkPxyNMxgmWbJlDtsRImMZIGGaSw8XdNFiglSzRSmYYqe+ibS3ME5JQpgTksUNiKd3YpB1qHLUGgUAnNtlY3s1YXEfDVlYL+UiaclW2g250KolRa55H2Uvca9+h2T1GlgzTjIt08jrdooFZwCwAKXnRoIgdSEf65SDvDVMAkFiVUjpKjDlukWAZQH8eiJ4TLCeGFC/iSfu0TLCM1FMSjGpqbB+uM3oxjIUWxVIde8/boNvh0s/8PffXZtg0WmcsG2MiK1hfTih1RnjsroGAe5e8qJOlI3SLGrXW4dXyWM3WMZKm/PT6bdyzuIWNQ4HJEhQOrSJhNHNGU6ealFne92KWkmNs9y28fDpQP/wqHirPcswP8JDfRhF79cJIKDFMahXMA1UbJ6dBICH1jISMgi4HkkdIPWOjn8f6csZf7C8YzYwXraty7RUPM3pel6INN31nB5965AruiQ/zQHhgtXoHz3rrILBsx6jHBVLK7OEARsBjZGO4iEuyzbxukzFTaTNdafFb581QmZym+qG34Rs2POUhxPbtY/lXvkpInNEf30x89csIt/wj3/hPxn2fDRgwki1hHCcL97DcLbHUTbn1WIn7jk/R9TbRnavKF7N54vlcMlbwlt37mPzF5xNf/u7eA+RjpPjQDXzv76f56yPj7FmKGMaGqrFrxLly/RIX7pxnzDfRsDEqNkLdFkksZTidpqBLQkZmQySWUbM5zAIVG6egyxgb2FAq08wjw0nG8bzNC8ZzjrYq3Hr3Zqp7cg41KoxlBZd/+kaq63PuuGMjX350jHuOFxzpNJgPR5mPe+nGJk5BO1+hkk4QvdvbF5aRhSrjyWZe+OUL+cUvfJGXv/Yw3ePG+TOLbO4sk2YFZtBsZBQxEAsjJL1H6Cch4m5EN5IQMXPyIln93umktPKUUlIQzAmJE8xJkkhRBMyc4dE2QzMRj3D0gSEarWEuuPk1vfoGHPjP+7hxtuCBeJAF30f0LtXvTXLBn3+ZN84M8a/euZfw79+D79pF+uu7sI9+kts+Ncytx8Z4qGbMNSPL3ZxGzGl5h1qo0aJOmwYdr3G8vZ9Ovtyv2ylH0hEOlma4oz7Cd2s7+csDO1j32SXuXZnmfvs7mt1jve3Zr/tZqFJKxxj51jRHWn9KN6+tHjMW2cO+MMydvo2NtYuZObiJj/6HPYyOBHZfdhQrwa6xBSyFkMGFcykzD5zP8dI+moR+fQezQF40qLcO496mYSlmGe3u4mocK36QEEqrdcA9J4RS7/hH7xjo9OYNoczE0E6MwFLzEeJqu9f7u7xoUErHmBl9CYvtR6hm63r1tTWLe045m8S9oJPXsFBiuLKFi7JXsxIW2VxspUvOltIohzsNdk6mXDyzQJ4H0jRSHs5JK5Fsyhj++iZumk1xTrTHDaK3yYvHThKTUCUvGtTaj/a2BYFlDnA4VHh4fiORSCfvtcfz+R7a3QXMAl0gWJl66zBQ4P1tiUewQL3VO6bnRbt33PW8fw5VYCR0ul1ma9/iSHoXedGiiC2SUKGbL64uwywlCcOEkJKE0mrdKtsYubdX910WqqRJleFsarX8xJjjxP4pcSSPLeYbe1iwB7j9yDB/uDBGec8Io18sGPP9JJ4SMA4ndZaLv6KVH6fdXSLGDmYpIaR0S01enr6RA36EgpznhW1MVVPetznnx353hPjiK57yuHnC2Fv+nHaxiXh8mo3FOrIQ2DSUMZwaGyqwuZozU+0wVWli5lx33wzfPrbE/nAPtWKud/4T2+SxtXoe1CuTXcx65bqb11iMe1fL9omyHqxElq5QZF3m44Ws5CMk1msXc2/T9QbRu73t1v+bJJSoZONMZju42J/H5qEK5w0FNlUib9g8x9bLlik9f4Kv/cEwf3ckZaXo0LAm8+Ewba9xrPUQ+/IGtwNpUiFYSmdlebVenNiPJ+pRmgwxVJqiSC7iSHMX3Ri49PI53tEtcddSlQdWqszW13GP3U/TF2kWi3SKOt283j+XeOycLwkp5XSU0ew8pn0b28M0uydKvH5jjZmRRUppQZJERidaxJe8AZs/in3jO+T3HqV1oGBprsr88jBfOLSLz88dZZb76MQmxxsPkxe986Zjdj9pMkSwlOg5MXYoZxOUyyMMp9OMp1vIrELFhyl7hRXq1GyJpi2zUjxKO1+h7KNkoUpC9rTK0NmiV+eVlIqIiIiIiMhAOLHfKbHWKSkVERERERE5B6mnVERERERERAbC8bPmlTBKSkVERERERM5BunxXREREREREBsR1+a6IiIiIiIgMhgPR1VMqIiIiIiIiA6GeUhERERERERkg1z2lIiIiIiIiMhhOVE+piIiIiIiIDIKj95SKiIiIiIjIwDiuBx2JiIiIiIjIoOjyXRERERERERkQP2sedBQGHYCIiIiIiIg8d6mnVERERERE5BzjgLsu3xUREREREZGB0CthREREREREZFAcPX1XREREREREBsX1nlIREREREREZDN1TKiIiIiIiIgN09rwSRkmpiIiIiIjIOUg9pSIiIiIiIjIwSkp/SPnDCyy9+wbMnJBCWolkk0ayqULYOQ0XbidedBFx927YvRuAAAw9ybJWd8HKCjY/j+2bhWoFdpRgdIS4dSukKYTwhL/1xw3byct7/LS5OezRIxAjtDswOwejQ73v0SFYb8bJUdg4jY+P4xs29NYzNQ1T009Y39Mx/fnPkliVgpxubNAulukWTfLYIsYc95zobdxz8AgWKGKzF7OFJ/5ICqIX4ElvOmAEgpVIkwrldJSRbBPrfQvHbT8djxgBrLc894h7jjuYpbhHWvlSbxkhJca895stYhYIltHJ6wBkSRWAIcvYNZwzOzJEu3YR8+EILZYAaHWP9x5sneckoU4IGTF2SUOZUhhhlPVssw2sr2RcMGbsHM7ZObLEtxfGODh7IQfsHobDFMe7+yilo3TyFVbah4ixQwgl7mt/hTSUGcqmCQRSq3Bz85vM+AXUwnESSzlq+8kYIhLpxGU8FJSSYYyEso1Q8WHGspTJ9jpaSQ2nwD2SJYHEypTDCAkpubeJQGplCu9yzA7jFKRWoetdFvMOk+UqL1pnTGSRhx5ex4PhLtr5MpFI4W3MEkLIsBgoila/3EagABJi7Kzuh2BpvyimpMkQWagSLMXp7cNKOvF9JeHEtHa+Qreo9/ZtEal1j3A4g+Wwns7xHXxmdpL5myqUk17tePUFX6f5vRVuP7qdPUtOrV0id9hbT6imULExklCiiAGPHQDSZLi/jUbYNPoiVjqHKDxnJrmEvfk8D8z1ys0tyyvs5gJ2T5aYrRdUEqOaGu0CqpQpxQ3MDFW4bLzBoeYIjWObSCylsBwjUNAlkKyW6zqLAJR9iIzS6m+PRDYVM0ykZTaPZLxyOud4N+Vo27hios3Uf7ySuHs3GfBP/s0f8nD9QqZqFwKQR+fu+jGOJgepFXNkYYhRprmcl7ISW1w4NM7xTs7+YoHzWMdrNgZ+5nUPkv3qO2F4eDUGBw687f/wxw/M8LW5FY6EQ5SocnFyHs+byLj2iodZ92fvYfSG9/Zj7sf++quZ/C+f5a8fXUc9h/OHCzaUu7zi+bNUdwTSt17ONS+6/CmPKxEIN/wFd38icNv8JF95dCcHWnUOJnexUjxKsIzx9iZmjm3m2/Pj7Dg0QWSFMlUatgIORkLubcwCZglGICFjMmxl2McZiyNULGVDpczl64wjLePbCw0WwjH+6KHN7BpLmSqXGMsimTkbK22OH6/y3UfGuflwlW8eX+BgeIAONWqtI4SQEQgUnpOEMu18mSyp9o5L/cuWSl5lqpLyooseIfnVn2OIJ7YbE5x5W77+t8Srf4Rw23epXXc7t9x7Hr997wTfzD9HJZ1gk13EJtazHFvUaPK1w4FjH9/FNV+5iUONCvetlPj20Snu8Ds53t1Hs7u4Wv97x/t4Yi/2j+MJ7l1OlBK3lKLToZs3CCFlJTvEo3Ye4/VNLIVHaXaO0Y1Nin79DP3ThMRSEsvIi1Z/WtFrWwgUsUW9M8dcOaGdNLh+z6W8bH2H1w0fYOwnt1IOBiPD+PlbKFvgld9+kPbiyzhU3UMzX6Cdr5AXDYKllLIxmp0jJGGYIrbAAhND5zOabKJLk1axxGiyiUZcoJEfo9VZJHoH90gRO4SQEkKJWOQs1h8kCaXecTA2CVamiF3wiHuTdrfNoe4CZhmd7jJmaX9ZXRrtE78xYpZRb81ye/vPSUKFY5UtJJbR7F7KpdWNXDGZM/WRN/Xa88d56S9/jG37LuCR+jT1dI68aEHstYNJqFDOxqmkE+SxsdpGjpbOIyGlVhyllR+n8Jwitunmtd4+CWXGqls5L30BBV1GfZKCnIatkJDRshqFdyno0orLDIUJWrHXdiw195EXjX4bXKJSmqSUDFOPc7il/TITgIhZSimdZLyylcmwlRJVRuIokUjLmrStSaO0yHLeO2a3usfphDp50TvPyNJhAoFOvw2JMV/dvu3uAtA71zhiKWaPnY7G2DmpLPeYBaJnNLvH+E74Bu4FWRjiTm8zUhuns3+Gyr+eYzj9HI08pZwU1POMZhEoh0gpRLaNL7P58jrZWy+hGwPjJWfLcEY5yagmxrqSM10u2DrUZMf640zONCFAyCDcCfvDgxyqf5e8WFk9r/L+iZRZr23pjeudP0WA2CKEEiGUIAaid4jeoZtDTHPG0zJXrWuwvz7EUH2G+WKMprUospyQBtYxwfahKs8bN141vcwVPzpP8oErnrSsRWDDJz7DSlHmDv8G9dYcRWz160Zz9RhQxN55V++crY1Z1o/7xMbunSvmRYOi3OZeH+eupSmu2HKcyw7NUUnWM5ENMV0pU8xfyKI3WE6WqCeL5KU2gYD129rUykwVM8ykY+way7h8ouDq7YeY+efriG9/8xMPkEtLNH75Rr555xbur+1grhVY7jrN3HmgVmO/3cNye5Zu0Vj9Hb3f0qabt/tlt1demp15Ovky0fMnlKVgJU4+TvbOkbp0QpnhbOqJcZ3FXK+EERERERERkUFST6mIiIiIiIgMhrveUyoiIiIiIiKDo/eUioiIiIiIyIC4Lt8VERERERGRwXB0T6mIiIiIiIgM0Nly+e4T34XyDDOzTWb2STN7yMzuMbObzOyiM71eERERERGR5y7vv/7n6X8G5Yz2lJqZAZ8BPu7u7+yPuxzYCNx/JtctIiIiIiLyXKbLd3teC3Td/boTI9z99jO8ThERERERETlLnOmk9FLgtlPNZGbvB94PsGVo+AyHJCIiIiIicq5z0D2lT5+7X+/uV7r7lesrlUGHIyIiIiIicnZzzpp7Ss90Uno38OIzvA4RERERERE5idN7+u7pfAblTCelXwXKZvYLJ0aY2UvM7DVneL0iIiIiIiLPYWfP03fPaFLq7g68HXhD/5UwdwMfBg6dyfWKiIiIiIhIcZqfwTjTDzrC3Q8BP3Wm1yMiIiIiIiInuF4JIyIiIiIiIoOkpFREREREREQGwuEs6SldE6+EERERERERkWeWn+Z/T4eZvcnM9pjZg2b2wSeZbmb2O/3pd5jZFadappJSERERERGRc1I8zc9TM7ME+AjwZmA38C4z2/242d4MXNj/vB/46KmWq6RURERERETkXOR+ep9Tuwp40N33unsH+CRwzePmuQb4Y+/5FjBhZjNPtVAlpSIiIiIiIuec071492klpZuBAycNz/bHne4838f86WXEzxozWwH2DDoOkTVuCpgfdBAia5zqicipqZ6IfL/t7j496CCeCWZ2M706fjoqQOuk4evd/fqTlvmTwI+5+8/3h98NXOXu//Kkeb4A/Lq7/11/+CvAv3P3237QStfi03f3uPuVgw5CZC0zs1tVT0SemuqJyKmpnoicu9z9TWdgsbPA1pOGtwCHfoh5vo8u3xUREREREZGn4xbgQjPbYWYl4J3AjY+b50bgPf2n8L4MWHL3w0+10LXYUyoiIiIiIiJrjLvnZnYt8CUgAT7m7neb2Qf6068DbgLeAjwINID3nmq5azEpvf7Us4g856meiJya6onIqameiMhpcfeb6CWeJ4+77qTvDvzS6SxzzT3oSERERERERJ47dE+piIiIiIiIDMyaSUrN7E1mtsfMHjSzDw46HpG1ysweMbM7zex2M7t10PGIrAVm9jEzmzOzu04at87M/srMHuj/OznIGEUG7QfUkw+b2cF+m3K7mb1lkDGKyHPTmkhKzSwBPgK8GdgNvMvMdg82KpE17bXufrke4y+y6gbg8Y++/yDwFXe/EPhKf1jkuewGnlhPAP57v025vH+vmIjIs2pNJKXAVcCD7r7X3TvAJ4FrBhyTiIicJdz9b4Bjjxt9DfDx/vePAz/+bMYkstb8gHoiIjJwayUp3QwcOGl4tj9ORJ7IgS+b2W1m9v5BByOyhm088V60/r8bBhyPyFp1rZnd0b+8V5e5i8izbq0kpfYk4/RYYJEn90p3v4Le5e6/ZGavHnRAIiJy1voosAu4HDgM/PZAoxGR56S1kpTOAltPGt4CHBpQLCJrmrsf6v87B3yG3uXvIvJER8xsBqD/79yA4xFZc9z9iLsX7h6B30dtiogMwFpJSm8BLjSzHWZWAt4J3DjgmETWHDMbNrPRE9+BNwJ3PfVfiTxn3Qj8bP/7zwJ/OcBYRNakE//jpu/tqE0RkQFIBx0AgLvnZnYt8CUgAT7m7ncPOCyRtWgj8Bkzg179/YS73zzYkEQGz8z+DLgamDKzWeBXgP8CfMrM3gfsB35ycBGKDN4PqCdXm9nl9G6begT4F4OKT0Seu8xdt26KiIiIiIjIYKyVy3dFRERERETkOUhJqYiIiIiIiAyMklIREREREREZGCWlIiIiIiIiMjBKSkVERERERGRglJSKiMiaZWbrzez2/udRMzvY/14zs98bdHwiIiLy/0+vhBERkbOCmX0YqLn7bw06FhEREXnmqKdURETOOmZ2tZl9vv/9w2b2cTP7spk9YmbvMLPfMLM7zexmM8v6873YzL5hZreZ2ZfMbGawv0JERERASamIiJwbdgFvBa4B/jfwNXe/DGgCb+0npr8L/IS7vxj4GPBrgwpWREREHpMOOgAREZFnwBfdvWtmdwIJcHN//J3A+cDFwKXAX5kZ/XkODyBOEREReRwlpSIici5oA7h7NLOuP/bAhEivrTPgbnd/+aACFBERkSeny3dFROS5YA8wbWYvBzCzzMwuGXBMIiIigpJSERF5DnD3DvATwH81s+8BtwOvGGhQIiIiAuiVMCIiIiIiIjJA6ikVERERERGRgVFSKiIiIiIiIgOjpFREREREREQGRkmpiIiIiIiIDIySUhERERERERkYJaUiIiIiIiIyMEpKRUREREREZGCUlIqIiIiIiMjA/D97VEHkEryIgQAAAABJRU5ErkJggg==\n",
      "text/plain": [
       "<Figure size 1296x360 with 2 Axes>"
      ]
     },
     "metadata": {
      "needs_background": "light"
     },
     "output_type": "display_data"
    },
    {
     "data": {
      "text/plain": [
       "<Figure size 1440x576 with 0 Axes>"
      ]
     },
     "metadata": {},
     "output_type": "display_data"
    }
   ],
   "source": [
    "import librosa.display\n",
    "\n",
    "y, sr = librosa.load(ml_df['path'][3])\n",
    "    \n",
    "data_h, data_p = librosa.effects.hpss(y)\n",
    "chroma = librosa.feature.chroma_cqt(y=data_h, sr=sr)\n",
    "\n",
    "plt.figure(figsize=(18,5))\n",
    "librosa.display.specshow(chroma, sr=sr, x_axis='time', y_axis='chroma', vmin=0, vmax=1)\n",
    "plt.title('Chromagram for StarWars hum audio')\n",
    "plt.colorbar()\n",
    "plt.figure(figsize=(20,8))"
   ]
  },
  {
   "cell_type": "markdown",
   "metadata": {
    "id": "2qf7GN1aeXJI"
   },
   "source": [
    "# 8 Results\n",
    "\n",
    "In this section, I have played with the hyperparameters for the both the models to see which combination would give better results. \n",
    "\n",
    "***Random Forest Classifier*** :\n",
    "I have adjusted the n_estimators (n_estimators indicates the number of decision trees that will be used for the model) value for the random forest classifier and have noted the score respectively. The default value of n_estimators is 100, i have updated the values to 50 and 200 and noted that it decreased the performance of the model. When n_estimators is set to 100 we get the highest accuracy of 0.835.\n",
    "\n",
    "***Support Vector Machines*** :\n",
    "For support vector machines, i have tuned C (reguralization parameter) and kernel values to enhance the model performance. When the data set is linearly inseparable or in other words, the data set is non-linear, we set kernel to RBF. For a linearly separable dataset (linear dataset) one could use linear kernel function (kernel=”linear”). I have tuned the values of C to 0.5 , 1.5 and 2 , kernel values to linear and polynomial. On inspecting the outputs, it can be observed that the accuracy is maximum when C is set to 1.5 and kernel is set to RBF. The accuracy is : 0.823\n",
    "\n",
    "Here, the accuracy for random forest classifier is the highest between both the classifiers.\n",
    "\n",
    "Therefore, we can conclude that random forest classifier is a better model for the data-set with an accuracy of 0.835."
   ]
  },
  {
   "cell_type": "code",
   "execution_count": 21,
   "metadata": {},
   "outputs": [
    {
     "name": "stdout",
     "output_type": "stream",
     "text": [
      "Model Accuracy using Random Forest Classifier is : 0.835\n"
     ]
    }
   ],
   "source": [
    "pipeline_rf = Pipeline([('scaler', StandardScaler()),('rf', RandomForestClassifier(n_estimators = 100))])\n",
    "pipeline_rf.fit(X_train, y_train)\n",
    "print('Model Accuracy using Random Forest Classifier is : %.3f' % pipeline_rf.score(X_val, y_val))"
   ]
  },
  {
   "cell_type": "code",
   "execution_count": 22,
   "metadata": {},
   "outputs": [
    {
     "name": "stdout",
     "output_type": "stream",
     "text": [
      "Model Accuracy using Random Forest Classifier is : 0.827\n"
     ]
    }
   ],
   "source": [
    "pipeline_rf1 = Pipeline([('scaler_1', StandardScaler()),('rf1', RandomForestClassifier(n_estimators = 50))])\n",
    "pipeline_rf1.fit(X_train, y_train)\n",
    "print('Model Accuracy using Random Forest Classifier is : %.3f' % pipeline_rf1.score(X_val, y_val))   "
   ]
  },
  {
   "cell_type": "code",
   "execution_count": 28,
   "metadata": {},
   "outputs": [
    {
     "name": "stdout",
     "output_type": "stream",
     "text": [
      "Model Accuracy using Random Forest Classifier is : 0.823\n"
     ]
    }
   ],
   "source": [
    "pipeline_rf2 = Pipeline([('scaler_2', StandardScaler()),('rf2', RandomForestClassifier(n_estimators = 200))])\n",
    "pipeline_rf2.fit(X_train, y_train)\n",
    "print('Model Accuracy using Random Forest Classifier is : %.3f' % pipeline_rf2.score(X_val, y_val))   "
   ]
  },
  {
   "cell_type": "code",
   "execution_count": 17,
   "metadata": {},
   "outputs": [
    {
     "name": "stdout",
     "output_type": "stream",
     "text": [
      "Model Accuracy using Support Vector Machines setting C= 1 and kernel =rbf is : 0.815\n"
     ]
    }
   ],
   "source": [
    "pipeline_svm = Pipeline([('scaler',StandardScaler()),('svm', svm.SVC())])\n",
    "pipeline_svm.fit(X_train, y_train)\n",
    "print('Model Accuracy using Support Vector Machines setting C= 1 and kernel =rbf is : %.3f' % pipeline_svm.score(X_val, y_val))"
   ]
  },
  {
   "cell_type": "code",
   "execution_count": 18,
   "metadata": {},
   "outputs": [
    {
     "name": "stdout",
     "output_type": "stream",
     "text": [
      "Model Accuracy using Support Vector Machines setting C= 0.5 and kernel =polynomial  is : 0.723\n"
     ]
    }
   ],
   "source": [
    "\n",
    "pipeline_svm1 = Pipeline([('scaler4',StandardScaler()),('svm1', svm.SVC(C= 0.5, kernel = 'poly'))])\n",
    "pipeline_svm1.fit(X_train, y_train)\n",
    "print('Model Accuracy using Support Vector Machines setting C= 0.5 and kernel =polynomial  is : %.3f' % pipeline_svm1.score(X_val,\n",
    "                                                                                                                    y_val))"
   ]
  },
  {
   "cell_type": "code",
   "execution_count": 19,
   "metadata": {},
   "outputs": [
    {
     "name": "stdout",
     "output_type": "stream",
     "text": [
      "Model Accuracy using Support Vector Machines setting C= 2 and kernel =linear  is : 0.783\n"
     ]
    }
   ],
   "source": [
    "\n",
    "pipeline_svm2 = Pipeline([('scaler5',StandardScaler()),('svm2', svm.SVC(C= 2, kernel = 'linear'))])\n",
    "pipeline_svm2.fit(X_train, y_train)\n",
    "print('Model Accuracy using Support Vector Machines setting C= 2 and kernel =linear  is : %.3f' % pipeline_svm2.score(X_val,\n",
    "                                                                                                                    y_val))"
   ]
  },
  {
   "cell_type": "code",
   "execution_count": 58,
   "metadata": {},
   "outputs": [
    {
     "name": "stdout",
     "output_type": "stream",
     "text": [
      "Model Accuracy using Support Vector Machines setting C= 1 and kernel =polynomial  is : 0.823\n"
     ]
    }
   ],
   "source": [
    "\n",
    "pipeline_svm3 = Pipeline([('scaler6',StandardScaler()),('svm3', svm.SVC(C= 1.5))])\n",
    "pipeline_svm3.fit(X_train, y_train)\n",
    "print('Model Accuracy using Support Vector Machines setting C= 1 and kernel =polynomial  is : %.3f' % pipeline_svm3.score(X_val,\n",
    "                                                                                                                    y_val))"
   ]
  },
  {
   "cell_type": "code",
   "execution_count": 55,
   "metadata": {},
   "outputs": [
    {
     "name": "stdout",
     "output_type": "stream",
     "text": [
      "Model Accuracy using Support Vector Machines is : 0.815\n"
     ]
    }
   ],
   "source": [
    "pipeline_svm = Pipeline([('scaler2',StandardScaler()),('svm', svm.SVC())])\n",
    "pipeline_svm.fit(X_train, y_train)\n",
    "print('Model Accuracy using Support Vector Machines is : %.3f' % pipeline_svm.score(X_val, y_val))"
   ]
  },
  {
   "cell_type": "markdown",
   "metadata": {
    "id": "fSrJCR_cekPO"
   },
   "source": [
    "# 9 Conclusions\n",
    "\n",
    "For the given data-set Random Forest Classifier is a better pick for modelling between Random Forest and Support Vector Machines. However, there are many more models like the knn model or decision tree algorithm that can be used and tested for a better fit. I believe a more deeper knowledge on the features could help in increasing the efficiency and performance of the model. The features i have used are not enough for classifying the audios and more features like mfcc, spectral centroid can be used. While checking the outputs for the chromogram and pitches i noticed that in some cases the values for both the songs are overlapping which have led to misclassification of a number of songs. Most of the audios contain background noise which has further led to incorrect values being generated by the features. Reading on how to reduce such errors over the internet led to Neural networks i believe neural networks can assisting in digging depper in the features and reduce the miscassification caused by the model."
   ]
  }
 ],
 "metadata": {
  "colab": {
   "collapsed_sections": [],
   "name": "ECS7020P_miniproject_submission.ipynb",
   "provenance": []
  },
  "kernelspec": {
   "display_name": "Python 3",
   "language": "python",
   "name": "python3"
  },
  "language_info": {
   "codemirror_mode": {
    "name": "ipython",
    "version": 3
   },
   "file_extension": ".py",
   "mimetype": "text/x-python",
   "name": "python",
   "nbconvert_exporter": "python",
   "pygments_lexer": "ipython3",
   "version": "3.8.8"
  }
 },
 "nbformat": 4,
 "nbformat_minor": 1
}
