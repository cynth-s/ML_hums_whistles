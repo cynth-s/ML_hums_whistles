{
 "cells": [
  {
   "cell_type": "markdown",
   "metadata": {
    "id": "91MsGMTna_P9"
   },
   "source": [
    "# ECS7020P mini-project submission\n",
    "\n",
    "The mini-project consists of two components:\n",
    "\n",
    "\n",
    "1.   **Basic solution** [6 marks]: Using the MLEnd Hums and Whistles dataset, build a machine learning pipeline that takes as an input a Potter or a StarWars audio segment and predicts its song label (either Harry or StarWars).\n",
    "2.   **Advanced solution** [10 marks]: There are two options. (i) Formulate a machine learning problem that can be attempted using the MLEnd Hums and Whistles dataset and build a solution model. (ii) Create a product that uses the functionality provided by a model trained on the MLEnd Hums and Whistles dataset (e.g. a simple App that predicts the label Harry or StarWars when you hum to it).  \n",
    "\n",
    "The submission will consist of two Jupyter notebooks, one for the basic solution and another one for advanced solution. Please **name each notebook**:\n",
    "\n",
    "* ECS7020P_miniproject_basic.ipynb\n",
    "* ECS7020P_miniproject_advanced.ipynb\n",
    "\n",
    "then **zipped and submitted toghether**.\n",
    "\n",
    "Each uploaded notebook should consist of: \n",
    "\n",
    "*   **Text cells**, describing concisely each step and results.\n",
    "*   **Code cells**, implementing each step.\n",
    "*   **Output cells**, i.e. the output from each code cell.\n",
    "\n",
    "and **should have the structure** indicated below. Notebooks will not be run, please make sure that the output cells are saved.\n",
    "\n",
    "How will we evaluate your submission?\n",
    "\n",
    "*   Conciseness in your writing (10%).\n",
    "*   Correctness in your methodology (30%).\n",
    "*   Correctness in your analysis and conclusions (30%).\n",
    "*   Completeness (10%).\n",
    "*   Originality (10%).\n",
    "*   Efforts to try something new (10%).\n",
    "\n",
    "Suggestion: Why don't you use **GitHub** to manage your project? GitHub can be used as a presentation card that showcases what you have done and gives evidence of your data science skills, knowledge and experience. \n",
    "\n",
    "Each notebook should be structured into the following 9 sections:\n"
   ]
  },
  {
   "cell_type": "code",
   "execution_count": 1,
   "metadata": {},
   "outputs": [],
   "source": [
    "import numpy as np\n",
    "import pandas as pd\n",
    "import matplotlib.pyplot as plt\n",
    "\n",
    "import os, sys, re, pickle, glob\n",
    "import urllib.request\n",
    "import zipfile\n",
    "\n",
    "import IPython.display as ipd\n",
    "from tqdm import tqdm\n",
    "import librosa \n",
    "import scipy.stats as stats\n",
    "\n",
    "from sklearn import neighbors\n",
    "from sklearn.preprocessing import StandardScaler\n"
   ]
  },
  {
   "cell_type": "markdown",
   "metadata": {
    "id": "ZaGn4ICrfqXZ"
   },
   "source": [
    "# 1 Author\n",
    "\n",
    "**Student Name**:  Cynthia Alfred Saldanha\n",
    "\n",
    "**Student ID**:  200445151\n",
    "\n"
   ]
  },
  {
   "cell_type": "markdown",
   "metadata": {
    "id": "o38VQkcdKd6k"
   },
   "source": [
    "# 2 Problem formulation\n",
    "\n",
    "Describe the machine learning problem that you want to solve and explain what's interesting about it.\n",
    "\n",
    "Here, i will be classifying multiple songs based on their genre. In this case, I have manually assigned Genre's to 6 datasets and used supervised machine learning algorithms to classify them. Considering a real world scenario where there are 100's of songs, it'll be a tedious, lengthy and time consuming task to classify each and every song using audio features. This can be reduced if we first train the model to assign a song to a specific genre, in this way we will search for the details of the song in the data-set of the genre the song belongs to. For eg, if we want to identify if a given audio is a Mamma Mia song, in this case, the model would identify the genre of the audio and once identified, it'll classify for the song in that specific genre data-set. There are not a lot of libraries available for genre classification and with further guidance and knowledge we can build a package for genre classification.\n"
   ]
  },
  {
   "cell_type": "markdown",
   "metadata": {
    "id": "N3BwrtEdLDit"
   },
   "source": [
    "# 3 Machine Learning pipeline\n",
    "\n",
    "Here, i have used pipeline to run two different classifiers for the same model. The first pipeline is for Random Forest classifier. Here, the inputs to the pipeline are as follows : 1) StandardScaler function to scale the features and 2) RandomForestClassifier function to use the random forest classifier model. The pipeline is stored in a variable which can be used to perform various operations. The second pipeline is for the knn classifier. Here, the inputs to the pipeline are as follows : 1) StandardScaler function to scale the features and 2) neighbors function to use the knn classifier model. The pipeline is stored in a variable.The pipeline is stored in a variable which can be used to perform various operations.\n",
    "\n",
    "For both the pipelines, I used the fit method to train/model the training data-set. Once the model is trained i calculated the score of the model on the test data-set. The ouput of the score method is the accuracy of the model."
   ]
  },
  {
   "cell_type": "code",
   "execution_count": 11,
   "metadata": {},
   "outputs": [
    {
     "name": "stdout",
     "output_type": "stream",
     "text": [
      "Model Accuracy for genre classification using RandomForest Classifier : 0.471\n"
     ]
    }
   ],
   "source": [
    "from sklearn.pipeline import Pipeline\n",
    "from sklearn.preprocessing import StandardScaler\n",
    "from sklearn.ensemble import RandomForestClassifier\n",
    "from sklearn import neighbors\n",
    "k_values = range(2,12,2)\n",
    "\n",
    "pipeline_rf_genre = Pipeline([('scaler1_genre', StandardScaler()),\n",
    "                             ('rand_forest_genre' , RandomForestClassifier(n_estimators = 100))])\n",
    "pipeline_rf_genre.fit(X_genre_train, Y_genre_train)\n",
    "\n",
    "print('Model Accuracy for genre classification using RandomForest Classifier : %.3f' % pipeline_rf_genre.score(X_genre_test, \n",
    "                                                                                                             Y_genre_test))"
   ]
  },
  {
   "cell_type": "code",
   "execution_count": 13,
   "metadata": {},
   "outputs": [
    {
     "name": "stdout",
     "output_type": "stream",
     "text": [
      "The training accuracy for k= 2 is  0.7126436781609196\n",
      "The validation accuracy for k= 2 is  0.40401785714285715\n",
      "\n",
      "\n",
      "The training accuracy for k= 4 is  0.6340996168582376\n",
      "The validation accuracy for k= 4 is  0.40625\n",
      "\n",
      "\n",
      "The training accuracy for k= 6 is  0.5795019157088123\n",
      "The validation accuracy for k= 6 is  0.4107142857142857\n",
      "\n",
      "\n",
      "The training accuracy for k= 8 is  0.5517241379310345\n",
      "The validation accuracy for k= 8 is  0.43080357142857145\n",
      "\n",
      "\n",
      "The training accuracy for k= 10 is  0.5555555555555556\n",
      "The validation accuracy for k= 10 is  0.421875\n",
      "\n",
      "\n"
     ]
    }
   ],
   "source": [
    "k_values1 = range(2,12,2)\n",
    "\n",
    "accuracy_t1 = dict.fromkeys(k_values1)\n",
    "accuracy_v1 = dict.fromkeys(k_values1)\n",
    "\n",
    "for k1 in k_values1:\n",
    "    pipeline_knn_genre = Pipeline([('scaler2_genre', StandardScaler()),\n",
    "                             ('knn_class_genre' , neighbors.KNeighborsClassifier(n_neighbors=k1))])\n",
    "    pipeline_knn_genre.fit(X_genre_train,Y_genre_train)\n",
    "    \n",
    "    y_val_pred1 = pipeline_knn_genre.predict(X_genre_test)\n",
    "    accuracy_v1[k1] = np.sum(Y_genre_test==y_val_pred1)/len(Y_genre_test)\n",
    "\n",
    "    # Training accuracy\n",
    "    y_train_pred1 = pipeline_knn_genre.predict(X_genre_train)\n",
    "    accuracy_t1[k1] = np.sum(Y_genre_train==y_train_pred1)/len(Y_genre_train)\n",
    "\n",
    "    print(\"The training accuracy for k=\", k1, \"is \", accuracy_t1[k1])\n",
    "    print(\"The validation accuracy for k=\", k1, \"is \", accuracy_v1[k1])\n",
    "    print(\"\\n\")"
   ]
  },
  {
   "cell_type": "markdown",
   "metadata": {
    "id": "j1nDXnzYLLH6"
   },
   "source": [
    "# 4 Transformation stage\n",
    "\n",
    "A function has been defined for feature extraction. The name of the function is 'getXy'. The input for the function is a data-frame. The function returns two values: X - stores the features for the data-set and Y- stores the labels of the songs. The following features have been used for feature extraction :\n",
    "\n",
    "1) mfcc - librosa.feature.mfcc(y=y, sr=sr) - returns the envelope of the time power spectrum of the speech signal.'y' stores the value of audio as waveform. 'sr' stores the sampling rate for each sample ( number of samples per second of audio)\n",
    "\n",
    "2) melspectogram - librosa.feature.melspectrogram(y=y, sr=sr) - returns the power spectrogram (amplitude squared) for each melody over time\n",
    "\n",
    "3) harmonic - librosa.feature.melspectrogram(data_h, sr=sr) - returns the harmonic(tonal) portions of the signal.\n",
    "\n",
    "4) percussive - librosa.feature.melspectrogram(data_p, sr=sr) - returns the percussive(transient) portion of the signal.\n",
    "\n",
    "5) chroma - librosa.feature.chroma_stft(y=data_h, sr=sr) - return an numpy-ndarray of shape(12,T) and each row corresponds to a pitch class (e.g., C, C#, etc.).\n",
    "\n",
    "6) mfcc_delta -librosa.feature.delta(mfcc) - computes (smoothed) first-order differences among columns of the mfcc input\n",
    "\n",
    "These features have been selected as they focus on the attributes required for distinguishing the hums for both the songs. As hums have different variations for one song, these features help in obtaining the tempo, pitch and chroma of audio. As the notes and pitches of hums are different for the same song we can use the mean and standard deviation of the given features to get a cetain range of values."
   ]
  },
  {
   "cell_type": "code",
   "execution_count": 8,
   "metadata": {},
   "outputs": [],
   "source": [
    "#y stores the value of audio as waveform\n",
    "# sr stores the sampling rate for each sample ( number of samples per second of audio)\n",
    "\n",
    "def get_genre_features():\n",
    "    X_genre_predictor =[]\n",
    "    Y_genre_label =[]\n",
    "    temp = []\n",
    "    \n",
    "    for i in range(0, len(ml_df)):\n",
    "    #for i in range(0, 15):\n",
    "        elements = []\n",
    "        y, sr = librosa.load(ml_df['path'][i])\n",
    "        \n",
    "        yi1 = ml_df['Genre'][i]\n",
    "\n",
    "        data_h, data_p = librosa.effects.hpss(y)\n",
    "        spec_h = librosa.feature.melspectrogram(data_h, sr=sr)\n",
    "        spec_p = librosa.feature.melspectrogram(data_p, sr=sr)\n",
    "        spec = librosa.feature.melspectrogram(y=y, sr=sr)\n",
    "        chroma = librosa.feature.chroma_stft(y=data_h, sr=sr)\n",
    "        mfcc = librosa.feature.mfcc(y=y, sr=sr)\n",
    "        mfcc_delta = librosa.feature.delta(mfcc)\n",
    "       \n",
    "        elements.append(np.mean(spec_h))\n",
    "        elements.append(np.mean(spec_p))\n",
    "        elements.append(np.mean(spec))\n",
    "        elements.append(np.mean(chroma))\n",
    "        elements.append(np.mean(mfcc))\n",
    "        elements.append(np.mean(mfcc_delta))\n",
    "        \n",
    "        \n",
    "        temp.append(elements)\n",
    "        \n",
    "        Y_genre_label.append(yi1)\n",
    "        #Y_genre_label.append(yi2)\n",
    "    X_genre_predictor = temp\n",
    "    \n",
    "    return np.array(X_genre_predictor), np.array(Y_genre_label)\n"
   ]
  },
  {
   "cell_type": "markdown",
   "metadata": {
    "id": "0F5_kI95LuZ2"
   },
   "source": [
    "# 5 Modelling\n",
    "\n",
    "For this data-set i have used 2 models. I have used Knn as this is a multi-class classification and the algorithm has no explicit training step as all the work happens during prediction.Since there is no explicit training step we keep adding new data to the dataset the prediction is adjusted without having to retrain a new model. Random forest uses n-number of decision tree to predict the lables and the prediction which is predicted by most of number of trees is chosen.In this way it reduces overfitting problem in decision trees and also reduces the variance and therefore improves the accuracy. Due to these reasons i decided to test/train the data-set between the two models.\n",
    "\n",
    "1) knn neighbors - K-nearest neighbors (KNN) algorithm uses ‘feature similarity’ to predict the values of new datapoints which further means that the new data point will be assigned a value based on how closely it matches the points in the training set. There are a number of distance metrics that can be used to calculate the distance between the two points. The default distance metric used is \"Minkowski distance\" which is a generalization of both the Euclidean distance and the Manhattan distance. \n",
    "\n",
    "2) Random Forest Classifier - Random Forest is a supervised machine learning algorithm for classification based on the training data(knowledge of previous experiments). It handles non-linearity by exploiting correlation between the features of data-point/experiment. Random forest splits the training data-set randomly and generates a decision tree for each training data subset. It compares the predictions of all decision trees and chooses the prediction which is predicted by most number of trees. This technique can be useful in improving the efficiency and accuracy of the model."
   ]
  },
  {
   "cell_type": "markdown",
   "metadata": {
    "id": "bPTSuaB9L2jU"
   },
   "source": [
    "# 6 Methodology\n",
    "\n",
    "Function 'getXy' is defined for feature extraction. This function returns two variables, X - stores the features for the data-set and Y- which stores the lables for the features. I have used these two variables to define my test and training data-set. The train_test_split function from the sklearn library helps in splitting the data for training and testing. The training data-set is stored in X_genre_train, y_genre_train variable and testing data-set is stored in X_genre_test, y_genre_test. The train_test_split function has an attribute called size which is set to 0.3 i.e the size of the test data-set will consist of 30% of the original data-set.\n",
    "\n",
    "Accuracy and confusion matrix have been used as measure to check the efficiency and performance of the model. Confusion matrices are widely used because they give a better idea of a model’s performance than classification accuracy does. For example, in classification accuracy, there is no information about the number of misclassified instances. Imagine that your data has two classes where 85% of the data belongs to class A, and 15% belongs to class B. Also, assume that your classification model correctly classifies all the instances of class A, and misclassifies all the instances of class B. In this case, the model is 85% accurate. However, class B is misclassified, which is undesirable. The confusion matrix, on the other hand, displays the correctly and incorrectly classified instances for all the classes and will, therefore, give a better insight into the performance of your classifier.\n",
    "\n",
    "Below i have plotted the confusion matrix for both the models i.e random forest classifier and knn to compare the predicted labels with the actual labels. This helps in understanding the count or percentage of features that were misclassified which helps in giving an insight of the performance of classifier. A model can be considered good if it has high True positive and true negative rates and low false positive and false negative rates. \n",
    "\n",
    "In the confusion matrix for both the models, the diagonal values represent the correct predictions. The upper and lower part of the diagonal represent the misclassified predictions. In the case of confusion matrix for random forest classifier we see that 14.29% of the data should have been classified as 0 however it was misclassified as 2. This indicates that there is a need for more distant features to classify between the two audio's.\n",
    "\n",
    "I have also provided the classification report which gives the details of the precision, recall and f1 score of each class."
   ]
  },
  {
   "cell_type": "raw",
   "metadata": {},
   "source": [
    "# Below is the code for training and validation "
   ]
  },
  {
   "cell_type": "code",
   "execution_count": 9,
   "metadata": {},
   "outputs": [
    {
     "data": {
      "text/plain": [
       "((1492, 6), (1492,))"
      ]
     },
     "execution_count": 9,
     "metadata": {},
     "output_type": "execute_result"
    }
   ],
   "source": [
    "X_genre_predictor, Y_genre_label= get_genre_features()\n",
    "X_genre_predictor.shape, Y_genre_label.shape"
   ]
  },
  {
   "cell_type": "code",
   "execution_count": 10,
   "metadata": {},
   "outputs": [
    {
     "data": {
      "text/plain": [
       "((1044, 6), (448, 6), (1044,), (448,))"
      ]
     },
     "execution_count": 10,
     "metadata": {},
     "output_type": "execute_result"
    }
   ],
   "source": [
    "from sklearn.model_selection import train_test_split\n",
    "\n",
    "X_genre_train, X_genre_test, Y_genre_train,Y_genre_test = train_test_split(X_genre_predictor,Y_genre_label, \n",
    "                                                                      test_size=0.3,shuffle=True)\n",
    "X_genre_train.shape,X_genre_test.shape, Y_genre_train.shape,Y_genre_test.shape"
   ]
  },
  {
   "cell_type": "code",
   "execution_count": null,
   "metadata": {},
   "outputs": [],
   "source": [
    "# Below is the code for displaying the confusion matrix"
   ]
  },
  {
   "cell_type": "code",
   "execution_count": 22,
   "metadata": {},
   "outputs": [
    {
     "name": "stdout",
     "output_type": "stream",
     "text": [
      "Confusion matrix for Random Forest Classifier : \n",
      " [[ 96  19  64]\n",
      " [ 35  12  28]\n",
      " [ 77  14 103]]\n"
     ]
    },
    {
     "data": {
      "text/plain": [
       "<AxesSubplot:>"
      ]
     },
     "execution_count": 22,
     "metadata": {},
     "output_type": "execute_result"
    },
    {
     "data": {
      "image/png": "[encoded data removed]",
      "text/plain": [
       "<Figure size 432x288 with 2 Axes>"
      ]
     },
     "metadata": {
      "needs_background": "light"
     },
     "output_type": "display_data"
    }
   ],
   "source": [
    "from sklearn.metrics import confusion_matrix\n",
    "import seaborn as sns\n",
    "\n",
    "y_pred_rf = pipeline_rf_genre.predict(X_genre_test)\n",
    "\n",
    "cf_matrix_rf = confusion_matrix(Y_genre_test, y_pred_rf)\n",
    "print(\"Confusion matrix for Random Forest Classifier : \\n\", cf_matrix_rf)\n",
    "\n",
    "sns.heatmap(cf_matrix_rf/np.sum(cf_matrix_rf), annot=True, \n",
    "            fmt='.2%', cmap='plasma')\n"
   ]
  },
  {
   "cell_type": "code",
   "execution_count": 56,
   "metadata": {},
   "outputs": [
    {
     "name": "stdout",
     "output_type": "stream",
     "text": [
      "              precision    recall  f1-score   support\n",
      "\n",
      "   Animation       0.46      0.54      0.50       179\n",
      "         Pop       0.27      0.16      0.20        75\n",
      "      Sci-Fi       0.53      0.53      0.53       194\n",
      "\n",
      "    accuracy                           0.47       448\n",
      "   macro avg       0.42      0.41      0.41       448\n",
      "weighted avg       0.46      0.47      0.46       448\n",
      "\n",
      "(0.4188034188034188, 0.4090802280711858, 0.4085623376709644, None)\n"
     ]
    }
   ],
   "source": [
    "from sklearn.metrics import precision_recall_fscore_support\n",
    "from sklearn.metrics import classification_report\n",
    "\n",
    "print(classification_report(Y_genre_test, y_pred_rf))\n",
    "print(precision_recall_fscore_support(Y_genre_test, y_pred_rf, average='macro'))"
   ]
  },
  {
   "cell_type": "code",
   "execution_count": 25,
   "metadata": {},
   "outputs": [
    {
     "name": "stdout",
     "output_type": "stream",
     "text": [
      "Confusion matrix for knn Classifier : \n",
      " [[ 99  27  53]\n",
      " [ 39  13  23]\n",
      " [106  11  77]]\n"
     ]
    },
    {
     "data": {
      "text/plain": [
       "<AxesSubplot:>"
      ]
     },
     "execution_count": 25,
     "metadata": {},
     "output_type": "execute_result"
    },
    {
     "data": {
      "image/png": "[encoded data removed]",
      "text/plain": [
       "<Figure size 432x288 with 2 Axes>"
      ]
     },
     "metadata": {
      "needs_background": "light"
     },
     "output_type": "display_data"
    }
   ],
   "source": [
    "from sklearn.metrics import confusion_matrix\n",
    "import seaborn as sns\n",
    "\n",
    "y_pred_knn = pipeline_knn_genre.predict(X_genre_test)\n",
    "\n",
    "cf_matrix_knn = confusion_matrix(Y_genre_test, y_pred_knn)\n",
    "print(\"Confusion matrix for knn Classifier : \\n\", cf_matrix_knn)\n",
    "\n",
    "sns.heatmap(cf_matrix_rf/np.sum(cf_matrix_knn), annot=True, \n",
    "            fmt='.2%', cmap='plasma')"
   ]
  },
  {
   "cell_type": "code",
   "execution_count": 58,
   "metadata": {},
   "outputs": [
    {
     "name": "stdout",
     "output_type": "stream",
     "text": [
      "              precision    recall  f1-score   support\n",
      "\n",
      "   Animation       0.41      0.55      0.47       179\n",
      "         Pop       0.25      0.17      0.21        75\n",
      "      Sci-Fi       0.50      0.40      0.44       194\n",
      "\n",
      "    accuracy                           0.42       448\n",
      "   macro avg       0.39      0.37      0.37       448\n",
      "weighted avg       0.42      0.42      0.41       448\n",
      "\n",
      "(0.3879692131861852, 0.3744377251755009, 0.3727461157714392, None)\n"
     ]
    }
   ],
   "source": [
    "from sklearn.metrics import precision_recall_fscore_support\n",
    "from sklearn.metrics import classification_report\n",
    "\n",
    "print(classification_report(Y_genre_test, y_pred_knn))\n",
    "print(precision_recall_fscore_support(Y_genre_test, y_pred_knn, average='macro'))"
   ]
  },
  {
   "cell_type": "markdown",
   "metadata": {
    "id": "HZQPxztuL9AW"
   },
   "source": [
    "# 7 Dataset\n",
    "\n",
    "I will be working on 6 data-sets in this project. The 6 datasets are : Potter, StarWars, Hakuna, Mamma, Frozen, Showman\n",
    "\n",
    "Each data-set consists of hums in audio format for the songs. Since we need to identify if the given audio is a Harry Potter song or a StarWars song, we have used the audio's from their respective data-sets. To get the data-set in a desired format ( for example : 'C:/Masters/ML/MLAssignment/advancedSolution\\S100_hum_1_Potter.wav') i have applied the split operation on the data and stored the values in MLENDHW_table variable. The data is now stored in a dataframe (ml_df) for better visualization and to perform various operations. On applying the unique function on the interpretation column, i realized that the data consists of a lot of misspelled names. It was important to clean this particular column as i would be working only the humming part of the dataset.On applying the unique function on the song name, i realized that the data consists of a lot of misspelled names. The song names needed to be unique as i would be assigning genre's for each song. The genre classification for the used data-set is provided below :\n",
    "\n",
    "Genre is assigned to each song in the 'Genre column'\n",
    "\n",
    "a) Potter.wav will be represented by 'Sci-Fi' \n",
    "\n",
    "b) Starwars.wav will be represented by 'Sci-Fi' \n",
    "\n",
    "c) Hakuna.wav will be represented by 'Animation' \n",
    "\n",
    "d) Frozen.wav will be represented by 'Animation'\n",
    "\n",
    "e) Mamma.wav will be represented by 'Pop'\n",
    "\n",
    "f) Showman.wav will be represented by 'Pop'\n",
    "\n",
    "The harmonic (which is a feature) for the first file i.e Potter.wav (hum) file has been plotted below. The X-axis represents the time whereas the Y-axis represents the frequency(in dB) class. From the graph we can observe the harmonic frequency of the given audio for a given time. This can help in distinguishing one song from another. "
   ]
  },
  {
   "cell_type": "code",
   "execution_count": 2,
   "metadata": {},
   "outputs": [
    {
     "data": {
      "text/plain": [
       "2088"
      ]
     },
     "execution_count": 2,
     "metadata": {},
     "output_type": "execute_result"
    }
   ],
   "source": [
    "sample_path = 'C:/Masters/ML/ML Assignment/advancedSolution/*.wav'\n",
    "files = glob.glob(sample_path)\n",
    "len(files)"
   ]
  },
  {
   "cell_type": "code",
   "execution_count": 3,
   "metadata": {},
   "outputs": [],
   "source": [
    "    MLENDHW_table = [] \n",
    "\n",
    "    for file in files:\n",
    "        if(len(file.split('/')[-1].split('_')) == 4):\n",
    "            file_name = file.split('/')[-1]\n",
    "            #print(file.split('/')[-1].split('_'))\n",
    "            participant_ID = file.split('/')[-1].split('_')[0]\n",
    "            interpretation_type = file.split('/')[-1].split('_')[1]\n",
    "            interpretation_number = file.split('/')[-1].split('_')[2]\n",
    "            song = file.split('/')[-1].split('_')[3]\n",
    "            path = file\n",
    "            MLENDHW_table.append([file_name,participant_ID,interpretation_type,interpretation_number, song, path])\n",
    "        elif(len(file.split('/')[-1].split('_')) == 2):\n",
    "            file_name = file.split('/')[-1]\n",
    "            #print(file.split('/')[-1].split('_')[1].split(' '))\n",
    "            participant_ID = file.split('/')[-1].split('_')[0]\n",
    "            interpretation_type = file.split('/')[-1].split('_')[1].split(' ')[0]\n",
    "            interpretation_number = file.split('/')[-1].split('_')[1].split(' ')[1]\n",
    "            song = file.split('/')[-1].split('_')[1].split(' ')[2]\n",
    "            path = file\n",
    "            MLENDHW_table.append([file_name,participant_ID,interpretation_type,interpretation_number, song, path])\n",
    "            #print(\"in2\")\n",
    "        elif(len(file.split('/')[-1].split('_')) == 3):\n",
    "            file_name = file.split('/')[-1]\n",
    "            participant_ID = file.split('/')[-1].split('_')[0]\n",
    "            interpretation_type = file.split('/')[-1].split('_')[1][:-1]\n",
    "            interpretation_number = file.split('/')[-1].split('_')[1][-1]\n",
    "            song = file.split('/')[-1].split('_')[2]\n",
    "            path = file\n",
    "            MLENDHW_table.append([file_name,participant_ID,interpretation_type,interpretation_number, song, path])"
   ]
  },
  {
   "cell_type": "code",
   "execution_count": 4,
   "metadata": {},
   "outputs": [
    {
     "data": {
      "text/html": [
       "<div>\n",
       "<style scoped>\n",
       "    .dataframe tbody tr th:only-of-type {\n",
       "        vertical-align: middle;\n",
       "    }\n",
       "\n",
       "    .dataframe tbody tr th {\n",
       "        vertical-align: top;\n",
       "    }\n",
       "\n",
       "    .dataframe thead th {\n",
       "        text-align: right;\n",
       "    }\n",
       "</style>\n",
       "<table border=\"1\" class=\"dataframe\">\n",
       "  <thead>\n",
       "    <tr style=\"text-align: right;\">\n",
       "      <th></th>\n",
       "      <th>participant</th>\n",
       "      <th>interpretation</th>\n",
       "      <th>number</th>\n",
       "      <th>song</th>\n",
       "      <th>path</th>\n",
       "    </tr>\n",
       "    <tr>\n",
       "      <th>file_id</th>\n",
       "      <th></th>\n",
       "      <th></th>\n",
       "      <th></th>\n",
       "      <th></th>\n",
       "      <th></th>\n",
       "    </tr>\n",
       "  </thead>\n",
       "  <tbody>\n",
       "    <tr>\n",
       "      <th>advancedSolution\\S100_hum_1_Hakuna.wav</th>\n",
       "      <td>advancedSolution\\S100</td>\n",
       "      <td>hum</td>\n",
       "      <td>1</td>\n",
       "      <td>Hakuna.wav</td>\n",
       "      <td>C:/Masters/ML/ML Assignment/advancedSolution\\S...</td>\n",
       "    </tr>\n",
       "    <tr>\n",
       "      <th>advancedSolution\\S100_hum_1_Potter.wav</th>\n",
       "      <td>advancedSolution\\S100</td>\n",
       "      <td>hum</td>\n",
       "      <td>1</td>\n",
       "      <td>Potter.wav</td>\n",
       "      <td>C:/Masters/ML/ML Assignment/advancedSolution\\S...</td>\n",
       "    </tr>\n",
       "    <tr>\n",
       "      <th>advancedSolution\\S100_hum_2_Frozen.wav</th>\n",
       "      <td>advancedSolution\\S100</td>\n",
       "      <td>hum</td>\n",
       "      <td>2</td>\n",
       "      <td>Frozen.wav</td>\n",
       "      <td>C:/Masters/ML/ML Assignment/advancedSolution\\S...</td>\n",
       "    </tr>\n",
       "    <tr>\n",
       "      <th>advancedSolution\\S100_hum_2_Hakuna.wav</th>\n",
       "      <td>advancedSolution\\S100</td>\n",
       "      <td>hum</td>\n",
       "      <td>2</td>\n",
       "      <td>Hakuna.wav</td>\n",
       "      <td>C:/Masters/ML/ML Assignment/advancedSolution\\S...</td>\n",
       "    </tr>\n",
       "    <tr>\n",
       "      <th>advancedSolution\\S100_hum_2_Mamma.wav</th>\n",
       "      <td>advancedSolution\\S100</td>\n",
       "      <td>hum</td>\n",
       "      <td>2</td>\n",
       "      <td>Mamma.wav</td>\n",
       "      <td>C:/Masters/ML/ML Assignment/advancedSolution\\S...</td>\n",
       "    </tr>\n",
       "    <tr>\n",
       "      <th>...</th>\n",
       "      <td>...</td>\n",
       "      <td>...</td>\n",
       "      <td>...</td>\n",
       "      <td>...</td>\n",
       "      <td>...</td>\n",
       "    </tr>\n",
       "    <tr>\n",
       "      <th>advancedSolution\\S9_hum_2_Potter.wav</th>\n",
       "      <td>advancedSolution\\S9</td>\n",
       "      <td>hum</td>\n",
       "      <td>2</td>\n",
       "      <td>Potter.wav</td>\n",
       "      <td>C:/Masters/ML/ML Assignment/advancedSolution\\S...</td>\n",
       "    </tr>\n",
       "    <tr>\n",
       "      <th>advancedSolution\\S9_hum_3_Mamma.wav</th>\n",
       "      <td>advancedSolution\\S9</td>\n",
       "      <td>hum</td>\n",
       "      <td>3</td>\n",
       "      <td>Mamma.wav</td>\n",
       "      <td>C:/Masters/ML/ML Assignment/advancedSolution\\S...</td>\n",
       "    </tr>\n",
       "    <tr>\n",
       "      <th>advancedSolution\\S9_hum_3_StarWars.wav</th>\n",
       "      <td>advancedSolution\\S9</td>\n",
       "      <td>hum</td>\n",
       "      <td>3</td>\n",
       "      <td>StarWars.wav</td>\n",
       "      <td>C:/Masters/ML/ML Assignment/advancedSolution\\S...</td>\n",
       "    </tr>\n",
       "    <tr>\n",
       "      <th>advancedSolution\\S9_hum_4_Frozen.wav</th>\n",
       "      <td>advancedSolution\\S9</td>\n",
       "      <td>hum</td>\n",
       "      <td>4</td>\n",
       "      <td>Frozen.wav</td>\n",
       "      <td>C:/Masters/ML/ML Assignment/advancedSolution\\S...</td>\n",
       "    </tr>\n",
       "    <tr>\n",
       "      <th>advancedSolution\\S9_hum_4_StarWars.wav</th>\n",
       "      <td>advancedSolution\\S9</td>\n",
       "      <td>hum</td>\n",
       "      <td>4</td>\n",
       "      <td>StarWars.wav</td>\n",
       "      <td>C:/Masters/ML/ML Assignment/advancedSolution\\S...</td>\n",
       "    </tr>\n",
       "  </tbody>\n",
       "</table>\n",
       "<p>2077 rows × 5 columns</p>\n",
       "</div>"
      ],
      "text/plain": [
       "                                                  participant interpretation  \\\n",
       "file_id                                                                        \n",
       "advancedSolution\\S100_hum_1_Hakuna.wav  advancedSolution\\S100            hum   \n",
       "advancedSolution\\S100_hum_1_Potter.wav  advancedSolution\\S100            hum   \n",
       "advancedSolution\\S100_hum_2_Frozen.wav  advancedSolution\\S100            hum   \n",
       "advancedSolution\\S100_hum_2_Hakuna.wav  advancedSolution\\S100            hum   \n",
       "advancedSolution\\S100_hum_2_Mamma.wav   advancedSolution\\S100            hum   \n",
       "...                                                       ...            ...   \n",
       "advancedSolution\\S9_hum_2_Potter.wav      advancedSolution\\S9            hum   \n",
       "advancedSolution\\S9_hum_3_Mamma.wav       advancedSolution\\S9            hum   \n",
       "advancedSolution\\S9_hum_3_StarWars.wav    advancedSolution\\S9            hum   \n",
       "advancedSolution\\S9_hum_4_Frozen.wav      advancedSolution\\S9            hum   \n",
       "advancedSolution\\S9_hum_4_StarWars.wav    advancedSolution\\S9            hum   \n",
       "\n",
       "                                       number          song  \\\n",
       "file_id                                                       \n",
       "advancedSolution\\S100_hum_1_Hakuna.wav      1    Hakuna.wav   \n",
       "advancedSolution\\S100_hum_1_Potter.wav      1    Potter.wav   \n",
       "advancedSolution\\S100_hum_2_Frozen.wav      2    Frozen.wav   \n",
       "advancedSolution\\S100_hum_2_Hakuna.wav      2    Hakuna.wav   \n",
       "advancedSolution\\S100_hum_2_Mamma.wav       2     Mamma.wav   \n",
       "...                                       ...           ...   \n",
       "advancedSolution\\S9_hum_2_Potter.wav        2    Potter.wav   \n",
       "advancedSolution\\S9_hum_3_Mamma.wav         3     Mamma.wav   \n",
       "advancedSolution\\S9_hum_3_StarWars.wav      3  StarWars.wav   \n",
       "advancedSolution\\S9_hum_4_Frozen.wav        4    Frozen.wav   \n",
       "advancedSolution\\S9_hum_4_StarWars.wav      4  StarWars.wav   \n",
       "\n",
       "                                                                                     path  \n",
       "file_id                                                                                    \n",
       "advancedSolution\\S100_hum_1_Hakuna.wav  C:/Masters/ML/ML Assignment/advancedSolution\\S...  \n",
       "advancedSolution\\S100_hum_1_Potter.wav  C:/Masters/ML/ML Assignment/advancedSolution\\S...  \n",
       "advancedSolution\\S100_hum_2_Frozen.wav  C:/Masters/ML/ML Assignment/advancedSolution\\S...  \n",
       "advancedSolution\\S100_hum_2_Hakuna.wav  C:/Masters/ML/ML Assignment/advancedSolution\\S...  \n",
       "advancedSolution\\S100_hum_2_Mamma.wav   C:/Masters/ML/ML Assignment/advancedSolution\\S...  \n",
       "...                                                                                   ...  \n",
       "advancedSolution\\S9_hum_2_Potter.wav    C:/Masters/ML/ML Assignment/advancedSolution\\S...  \n",
       "advancedSolution\\S9_hum_3_Mamma.wav     C:/Masters/ML/ML Assignment/advancedSolution\\S...  \n",
       "advancedSolution\\S9_hum_3_StarWars.wav  C:/Masters/ML/ML Assignment/advancedSolution\\S...  \n",
       "advancedSolution\\S9_hum_4_Frozen.wav    C:/Masters/ML/ML Assignment/advancedSolution\\S...  \n",
       "advancedSolution\\S9_hum_4_StarWars.wav  C:/Masters/ML/ML Assignment/advancedSolution\\S...  \n",
       "\n",
       "[2077 rows x 5 columns]"
      ]
     },
     "execution_count": 4,
     "metadata": {},
     "output_type": "execute_result"
    }
   ],
   "source": [
    "MLEND_df = pd.DataFrame(MLENDHW_table,columns=['file_id','participant','interpretation','number','song','path']).set_index('file_id') \n",
    "MLEND_df"
   ]
  },
  {
   "cell_type": "code",
   "execution_count": 5,
   "metadata": {},
   "outputs": [
    {
     "data": {
      "text/plain": [
       "array(['Hum'], dtype=object)"
      ]
     },
     "execution_count": 5,
     "metadata": {},
     "output_type": "execute_result"
    }
   ],
   "source": [
    "hum =['Hum','Hun','hum']\n",
    "\n",
    "ml_df = pd.DataFrame()\n",
    "for i in range(0,len(MLEND_df)):\n",
    "    if  MLEND_df['interpretation'][i] in hum:\n",
    "        MLEND_df['interpretation'][i] = \"Hum\"\n",
    "MLEND_df['interpretation'].unique()\n",
    "\n",
    "ml_df = MLEND_df[MLEND_df['interpretation'] == \"Hum\"]\n",
    "ml_df['interpretation'].unique()"
   ]
  },
  {
   "cell_type": "code",
   "execution_count": 6,
   "metadata": {},
   "outputs": [
    {
     "name": "stderr",
     "output_type": "stream",
     "text": [
      "C:\\Users\\cynth\\anaconda3\\lib\\site-packages\\IPython\\core\\interactiveshell.py:3437: SettingWithCopyWarning: \n",
      "A value is trying to be set on a copy of a slice from a DataFrame\n",
      "\n",
      "See the caveats in the documentation: https://pandas.pydata.org/pandas-docs/stable/user_guide/indexing.html#returning-a-view-versus-a-copy\n",
      "  exec(code_obj, self.user_global_ns, self.user_ns)\n"
     ]
    },
    {
     "data": {
      "text/plain": [
       "array(['Hakuna.wav', 'Potter.wav', 'Frozen.wav', 'Mamma.wav',\n",
       "       'StarWars.wav', 'Showman.wav'], dtype=object)"
      ]
     },
     "execution_count": 6,
     "metadata": {},
     "output_type": "execute_result"
    }
   ],
   "source": [
    "ml_df['song'].unique()\n",
    "\n",
    "potter = ['Potter.wav','harry potter.wav','Potter.WAV','[Potter].wav','Potter .wav','potter.wav','(potter).wav','Potter.Wav',\n",
    "         'Potter.wav .wav', 'Potter.wav.wav','[potter].wav','harrypotter.wav', '[Potter] .wav', 'Potterwav.wav']\n",
    "starwars = ['StarWars.wav','Starwars.WAV', 'Starwars.wav','[StarWars].wav','star wars.wav','StarWars.wav.wav', 'Imperial.wav',\n",
    "           '(starwars).wav','[StarWars] .wav','starwars.wav','[STARWARS].wav','StarWars.Wav','StartWars.wav', 'StarWar.wav',\n",
    "           '[ Star Wars ].wav','[StatWars].wav', '[Starwars].wav', 'StarsWars.wav', 'Star wars.wav','starwar.wav']\n",
    "hakuna = ['Hakuna.wav','HakunaMatata.wav', 'hakuna matata.wav', 'Hakuna.WAV','[Hakuna].wav', 'hakuna.wav','HaKuna.wav', \n",
    "'[Hakuna] .wav','Hakuna.wav.wav','Hakana.wav','Haknua.wav','[hakuna].wav', 'Hakuna.Wav','[ Hakuna ].wav','[Hukuna].wav' ,\n",
    "          'hakunamatata.wav']\n",
    "frozen = ['Frozen.wav','Frozen.WAV', '[Frozen].wav', 'frozen.wav', 'Frozen.wav.wav','(Frozen).wav', '[Frozen] .wav', \n",
    "          '[frozen].wav', 'Frozen.Wav', '[ Frozen ].wav', 'letitgo.wav' ]\n",
    "mamma = ['Mamma.WAV', '[Mamma].wav', 'mamma.wav', 'Mamma.wav','mamamia.wav', '[ Mamma ].wav','Mumma.wav',\n",
    "         'mummamia.wav', '[Mama].wav', '[mamma].wav']\n",
    "showman = ['Showman.wav', 'Showman.wav.wav', 'showman.wav','[Showman].wav', 'ThisIsMe.wav', '(Showman).wav', '[Snowman].wav',\n",
    "       '[showman].wav', 'Showman.Wav',]\n",
    "\n",
    "for i in range(0,len(ml_df)):\n",
    "    if ml_df['song'][i] in potter :\n",
    "        ml_df['song'][i] = \"Potter.wav\"\n",
    "\n",
    "for i in range(0,len(ml_df)):\n",
    "    if ml_df['song'][i] in starwars :\n",
    "        ml_df['song'][i] = \"StarWars.wav\"\n",
    "\n",
    "for i in range(0,len(ml_df)):\n",
    "    if ml_df['song'][i] in hakuna :\n",
    "        ml_df['song'][i] = \"Hakuna.wav\"\n",
    "\n",
    "for i in range(0,len(ml_df)):\n",
    "    if ml_df['song'][i] in frozen :\n",
    "        ml_df['song'][i] = \"Frozen.wav\"\n",
    "\n",
    "for i in range(0,len(ml_df)):\n",
    "    if ml_df['song'][i] in mamma :\n",
    "        ml_df['song'][i] = \"Mamma.wav\"\n",
    "        \n",
    "for i in range(0,len(ml_df)):\n",
    "    if ml_df['song'][i] in showman :\n",
    "        ml_df['song'][i] = \"Showman.wav\"\n",
    "        \n",
    "ml_df['song'].unique()"
   ]
  },
  {
   "cell_type": "code",
   "execution_count": 7,
   "metadata": {},
   "outputs": [
    {
     "name": "stderr",
     "output_type": "stream",
     "text": [
      "<ipython-input-7-397912e03326>:11: SettingWithCopyWarning: \n",
      "A value is trying to be set on a copy of a slice from a DataFrame.\n",
      "Try using .loc[row_indexer,col_indexer] = value instead\n",
      "\n",
      "See the caveats in the documentation: https://pandas.pydata.org/pandas-docs/stable/user_guide/indexing.html#returning-a-view-versus-a-copy\n",
      "  ml_df['Genre'] = ' '\n"
     ]
    },
    {
     "data": {
      "text/html": [
       "<div>\n",
       "<style scoped>\n",
       "    .dataframe tbody tr th:only-of-type {\n",
       "        vertical-align: middle;\n",
       "    }\n",
       "\n",
       "    .dataframe tbody tr th {\n",
       "        vertical-align: top;\n",
       "    }\n",
       "\n",
       "    .dataframe thead th {\n",
       "        text-align: right;\n",
       "    }\n",
       "</style>\n",
       "<table border=\"1\" class=\"dataframe\">\n",
       "  <thead>\n",
       "    <tr style=\"text-align: right;\">\n",
       "      <th></th>\n",
       "      <th>participant</th>\n",
       "      <th>interpretation</th>\n",
       "      <th>number</th>\n",
       "      <th>song</th>\n",
       "      <th>path</th>\n",
       "      <th>Genre</th>\n",
       "    </tr>\n",
       "    <tr>\n",
       "      <th>file_id</th>\n",
       "      <th></th>\n",
       "      <th></th>\n",
       "      <th></th>\n",
       "      <th></th>\n",
       "      <th></th>\n",
       "      <th></th>\n",
       "    </tr>\n",
       "  </thead>\n",
       "  <tbody>\n",
       "    <tr>\n",
       "      <th>advancedSolution\\S100_hum_1_Hakuna.wav</th>\n",
       "      <td>advancedSolution\\S100</td>\n",
       "      <td>Hum</td>\n",
       "      <td>1</td>\n",
       "      <td>Hakuna.wav</td>\n",
       "      <td>C:/Masters/ML/ML Assignment/advancedSolution\\S...</td>\n",
       "      <td>Animation</td>\n",
       "    </tr>\n",
       "    <tr>\n",
       "      <th>advancedSolution\\S100_hum_1_Potter.wav</th>\n",
       "      <td>advancedSolution\\S100</td>\n",
       "      <td>Hum</td>\n",
       "      <td>1</td>\n",
       "      <td>Potter.wav</td>\n",
       "      <td>C:/Masters/ML/ML Assignment/advancedSolution\\S...</td>\n",
       "      <td>Sci-Fi</td>\n",
       "    </tr>\n",
       "    <tr>\n",
       "      <th>advancedSolution\\S100_hum_2_Frozen.wav</th>\n",
       "      <td>advancedSolution\\S100</td>\n",
       "      <td>Hum</td>\n",
       "      <td>2</td>\n",
       "      <td>Frozen.wav</td>\n",
       "      <td>C:/Masters/ML/ML Assignment/advancedSolution\\S...</td>\n",
       "      <td>Animation</td>\n",
       "    </tr>\n",
       "    <tr>\n",
       "      <th>advancedSolution\\S100_hum_2_Hakuna.wav</th>\n",
       "      <td>advancedSolution\\S100</td>\n",
       "      <td>Hum</td>\n",
       "      <td>2</td>\n",
       "      <td>Hakuna.wav</td>\n",
       "      <td>C:/Masters/ML/ML Assignment/advancedSolution\\S...</td>\n",
       "      <td>Animation</td>\n",
       "    </tr>\n",
       "    <tr>\n",
       "      <th>advancedSolution\\S100_hum_2_Mamma.wav</th>\n",
       "      <td>advancedSolution\\S100</td>\n",
       "      <td>Hum</td>\n",
       "      <td>2</td>\n",
       "      <td>Mamma.wav</td>\n",
       "      <td>C:/Masters/ML/ML Assignment/advancedSolution\\S...</td>\n",
       "      <td>Pop</td>\n",
       "    </tr>\n",
       "    <tr>\n",
       "      <th>advancedSolution\\S100_hum_2_Potter.wav</th>\n",
       "      <td>advancedSolution\\S100</td>\n",
       "      <td>Hum</td>\n",
       "      <td>2</td>\n",
       "      <td>Potter.wav</td>\n",
       "      <td>C:/Masters/ML/ML Assignment/advancedSolution\\S...</td>\n",
       "      <td>Sci-Fi</td>\n",
       "    </tr>\n",
       "    <tr>\n",
       "      <th>advancedSolution\\S100_hum_3_Mamma.wav</th>\n",
       "      <td>advancedSolution\\S100</td>\n",
       "      <td>Hum</td>\n",
       "      <td>3</td>\n",
       "      <td>Mamma.wav</td>\n",
       "      <td>C:/Masters/ML/ML Assignment/advancedSolution\\S...</td>\n",
       "      <td>Pop</td>\n",
       "    </tr>\n",
       "    <tr>\n",
       "      <th>advancedSolution\\S100_hum_3_StarWars.wav</th>\n",
       "      <td>advancedSolution\\S100</td>\n",
       "      <td>Hum</td>\n",
       "      <td>3</td>\n",
       "      <td>StarWars.wav</td>\n",
       "      <td>C:/Masters/ML/ML Assignment/advancedSolution\\S...</td>\n",
       "      <td>Sci-Fi</td>\n",
       "    </tr>\n",
       "    <tr>\n",
       "      <th>advancedSolution\\S100_hum_4_Frozen.wav</th>\n",
       "      <td>advancedSolution\\S100</td>\n",
       "      <td>Hum</td>\n",
       "      <td>4</td>\n",
       "      <td>Frozen.wav</td>\n",
       "      <td>C:/Masters/ML/ML Assignment/advancedSolution\\S...</td>\n",
       "      <td>Animation</td>\n",
       "    </tr>\n",
       "    <tr>\n",
       "      <th>advancedSolution\\S100_hum_4_StarWars.wav</th>\n",
       "      <td>advancedSolution\\S100</td>\n",
       "      <td>Hum</td>\n",
       "      <td>4</td>\n",
       "      <td>StarWars.wav</td>\n",
       "      <td>C:/Masters/ML/ML Assignment/advancedSolution\\S...</td>\n",
       "      <td>Sci-Fi</td>\n",
       "    </tr>\n",
       "  </tbody>\n",
       "</table>\n",
       "</div>"
      ],
      "text/plain": [
       "                                                    participant  \\\n",
       "file_id                                                           \n",
       "advancedSolution\\S100_hum_1_Hakuna.wav    advancedSolution\\S100   \n",
       "advancedSolution\\S100_hum_1_Potter.wav    advancedSolution\\S100   \n",
       "advancedSolution\\S100_hum_2_Frozen.wav    advancedSolution\\S100   \n",
       "advancedSolution\\S100_hum_2_Hakuna.wav    advancedSolution\\S100   \n",
       "advancedSolution\\S100_hum_2_Mamma.wav     advancedSolution\\S100   \n",
       "advancedSolution\\S100_hum_2_Potter.wav    advancedSolution\\S100   \n",
       "advancedSolution\\S100_hum_3_Mamma.wav     advancedSolution\\S100   \n",
       "advancedSolution\\S100_hum_3_StarWars.wav  advancedSolution\\S100   \n",
       "advancedSolution\\S100_hum_4_Frozen.wav    advancedSolution\\S100   \n",
       "advancedSolution\\S100_hum_4_StarWars.wav  advancedSolution\\S100   \n",
       "\n",
       "                                         interpretation number          song  \\\n",
       "file_id                                                                        \n",
       "advancedSolution\\S100_hum_1_Hakuna.wav              Hum      1    Hakuna.wav   \n",
       "advancedSolution\\S100_hum_1_Potter.wav              Hum      1    Potter.wav   \n",
       "advancedSolution\\S100_hum_2_Frozen.wav              Hum      2    Frozen.wav   \n",
       "advancedSolution\\S100_hum_2_Hakuna.wav              Hum      2    Hakuna.wav   \n",
       "advancedSolution\\S100_hum_2_Mamma.wav               Hum      2     Mamma.wav   \n",
       "advancedSolution\\S100_hum_2_Potter.wav              Hum      2    Potter.wav   \n",
       "advancedSolution\\S100_hum_3_Mamma.wav               Hum      3     Mamma.wav   \n",
       "advancedSolution\\S100_hum_3_StarWars.wav            Hum      3  StarWars.wav   \n",
       "advancedSolution\\S100_hum_4_Frozen.wav              Hum      4    Frozen.wav   \n",
       "advancedSolution\\S100_hum_4_StarWars.wav            Hum      4  StarWars.wav   \n",
       "\n",
       "                                                                                       path  \\\n",
       "file_id                                                                                       \n",
       "advancedSolution\\S100_hum_1_Hakuna.wav    C:/Masters/ML/ML Assignment/advancedSolution\\S...   \n",
       "advancedSolution\\S100_hum_1_Potter.wav    C:/Masters/ML/ML Assignment/advancedSolution\\S...   \n",
       "advancedSolution\\S100_hum_2_Frozen.wav    C:/Masters/ML/ML Assignment/advancedSolution\\S...   \n",
       "advancedSolution\\S100_hum_2_Hakuna.wav    C:/Masters/ML/ML Assignment/advancedSolution\\S...   \n",
       "advancedSolution\\S100_hum_2_Mamma.wav     C:/Masters/ML/ML Assignment/advancedSolution\\S...   \n",
       "advancedSolution\\S100_hum_2_Potter.wav    C:/Masters/ML/ML Assignment/advancedSolution\\S...   \n",
       "advancedSolution\\S100_hum_3_Mamma.wav     C:/Masters/ML/ML Assignment/advancedSolution\\S...   \n",
       "advancedSolution\\S100_hum_3_StarWars.wav  C:/Masters/ML/ML Assignment/advancedSolution\\S...   \n",
       "advancedSolution\\S100_hum_4_Frozen.wav    C:/Masters/ML/ML Assignment/advancedSolution\\S...   \n",
       "advancedSolution\\S100_hum_4_StarWars.wav  C:/Masters/ML/ML Assignment/advancedSolution\\S...   \n",
       "\n",
       "                                              Genre  \n",
       "file_id                                              \n",
       "advancedSolution\\S100_hum_1_Hakuna.wav    Animation  \n",
       "advancedSolution\\S100_hum_1_Potter.wav       Sci-Fi  \n",
       "advancedSolution\\S100_hum_2_Frozen.wav    Animation  \n",
       "advancedSolution\\S100_hum_2_Hakuna.wav    Animation  \n",
       "advancedSolution\\S100_hum_2_Mamma.wav           Pop  \n",
       "advancedSolution\\S100_hum_2_Potter.wav       Sci-Fi  \n",
       "advancedSolution\\S100_hum_3_Mamma.wav           Pop  \n",
       "advancedSolution\\S100_hum_3_StarWars.wav     Sci-Fi  \n",
       "advancedSolution\\S100_hum_4_Frozen.wav    Animation  \n",
       "advancedSolution\\S100_hum_4_StarWars.wav     Sci-Fi  "
      ]
     },
     "execution_count": 7,
     "metadata": {},
     "output_type": "execute_result"
    }
   ],
   "source": [
    "\"\"\"\n",
    "Genre is assigned to each song in the 'Genre column' \n",
    "a) Potter.wav will be represented by 'Sci-Fi' \n",
    "b) Starwars.wav will be represented by 'Sci-Fi' \n",
    "c) Hakuna.wav will be represented by 'Animation' \n",
    "d) Frozen.wav will be represented by 'Animation'\n",
    "e) Mamma.wav will be represented by 'Pop'\n",
    "f) Showman.wav will be represented by 'Pop'\n",
    "\"\"\"\n",
    "\n",
    "ml_df['Genre'] = ' '\n",
    "for i in range(0,len(ml_df)):\n",
    "    if 'Potter.wav' in ml_df['song'][i] :\n",
    "        ml_df['Genre'][i] = 'Sci-Fi'\n",
    "    if 'StarWars.wav' in ml_df['song'][i] :\n",
    "        ml_df['Genre'][i] = 'Sci-Fi'\n",
    "    if 'Hakuna.wav' in ml_df['song'][i] :\n",
    "        ml_df['Genre'][i] = 'Animation'\n",
    "    if 'Frozen.wav' in ml_df['song'][i] :\n",
    "        ml_df['Genre'][i] = 'Animation'\n",
    "    if 'Mamma.wav' in ml_df['song'][i] :\n",
    "        ml_df['Genre'][i] = 'Pop'\n",
    "    if 'Showman.wav' in ml_df['song'][i] :\n",
    "        ml_df['Genre'][i] = 'Pop'\n",
    "\n",
    "        \n",
    "ml_df[0:10]\n"
   ]
  },
  {
   "cell_type": "code",
   "execution_count": 18,
   "metadata": {
    "scrolled": true
   },
   "outputs": [
    {
     "data": {
      "image/png": "[encoded data removed]",
      "text/plain": [
       "<Figure size 432x288 with 2 Axes>"
      ]
     },
     "metadata": {
      "needs_background": "light"
     },
     "output_type": "display_data"
    }
   ],
   "source": [
    "import librosa.display\n",
    "\n",
    "y, sr = librosa.load(ml_df['path'][0])\n",
    "data_h, data_p = librosa.effects.hpss(y)\n",
    "spec_h = librosa.feature.melspectrogram(data_h, sr=sr)\n",
    "db_spec_h = librosa.power_to_db(spec_h,ref=np.max)\n",
    "librosa.display.specshow(db_spec,y_axis='mel', x_axis='s', sr=sr)\n",
    "plt.colorbar();"
   ]
  },
  {
   "cell_type": "markdown",
   "metadata": {
    "id": "2qf7GN1aeXJI"
   },
   "source": [
    "# 8 Results\n",
    "\n",
    "In this section, I have played with the hyperparameters for the both the models to see which combination would give better results. \n",
    "\n",
    "***Random Forest Classifier*** :\n",
    "I have adjusted the n_estimators (n_estimators indicates the number of decision trees that will be used for the model) value for the random forest classifier and have noted the score respectively. The default value of n_estimators is 100, i have updated the values to 50 and 200 and noted that it decreased the performance of the model. When n_estimators is set to 100 we get the highest accuracy of 0.473.\n",
    "\n",
    "***knn*** :\n",
    "For knn (‘k’ in k-NN is the number of nearest neighbors used to classify (or predict in case of continuous variable) a test observation sample), I calculated the score of the model for value of k ranging from 2 to 12 with an interval of 2. Here k is the hyperparameter. From the numerous values of k we can determine that the model works efficently compared to others when k is 8. The accuracy when k = 8 is 0.430\n",
    "\n",
    "Here, the accuracy for random forest classifier is the highest between both the classifiers.\n",
    "\n",
    "Therefore, we can conclude that random forest classifier is a better model for the data-set with an accuracy of 0.473."
   ]
  },
  {
   "cell_type": "code",
   "execution_count": 46,
   "metadata": {},
   "outputs": [
    {
     "name": "stdout",
     "output_type": "stream",
     "text": [
      "Model Accuracy using Random Forest Classifier is : 0.464\n"
     ]
    }
   ],
   "source": [
    "pipeline_rf1 = Pipeline([('scaler_1', StandardScaler()),('rf1', RandomForestClassifier(n_estimators = 50))])\n",
    "pipeline_rf1.fit(X_genre_train, Y_genre_train)\n",
    "print('Model Accuracy using Random Forest Classifier is : %.3f' % pipeline_rf1.score(X_genre_test, Y_genre_test))"
   ]
  },
  {
   "cell_type": "code",
   "execution_count": 49,
   "metadata": {},
   "outputs": [
    {
     "name": "stdout",
     "output_type": "stream",
     "text": [
      "Model Accuracy using Random Forest Classifier is : 0.460\n"
     ]
    }
   ],
   "source": [
    "pipeline_rf2 = Pipeline([('scaler_2', StandardScaler()),('rf2', RandomForestClassifier(n_estimators = 150))])\n",
    "pipeline_rf2.fit(X_genre_train, Y_genre_train)\n",
    "print('Model Accuracy using Random Forest Classifier is : %.3f' % pipeline_rf2.score(X_genre_test, Y_genre_test))   "
   ]
  },
  {
   "cell_type": "code",
   "execution_count": 50,
   "metadata": {},
   "outputs": [
    {
     "name": "stdout",
     "output_type": "stream",
     "text": [
      "Model Accuracy using Random Forest Classifier is : 0.451\n"
     ]
    }
   ],
   "source": [
    "pipeline_rf3 = Pipeline([('scaler_3', StandardScaler()),('rf3', RandomForestClassifier(n_estimators = 200))])\n",
    "pipeline_rf3.fit(X_genre_train, Y_genre_train)\n",
    "print('Model Accuracy using Random Forest Classifier is : %.3f' % pipeline_rf3.score(X_genre_test, Y_genre_test))   "
   ]
  },
  {
   "cell_type": "code",
   "execution_count": 55,
   "metadata": {},
   "outputs": [
    {
     "name": "stdout",
     "output_type": "stream",
     "text": [
      "Model Accuracy for genre classification using RandomForest Classifier : 0.473\n"
     ]
    }
   ],
   "source": [
    "pipeline_rf_genre = Pipeline([('scaler1_genre', StandardScaler()),\n",
    "                             ('rand_forest_genre' , RandomForestClassifier(n_estimators = 100))])\n",
    "pipeline_rf_genre.fit(X_genre_train, Y_genre_train)\n",
    "print('Model Accuracy for genre classification using RandomForest Classifier : %.3f' % pipeline_rf_genre.score(X_genre_test, \n",
    "                                                                                                             Y_genre_test))"
   ]
  },
  {
   "cell_type": "code",
   "execution_count": 51,
   "metadata": {},
   "outputs": [
    {
     "name": "stdout",
     "output_type": "stream",
     "text": [
      "The training accuracy for k= 2 is  0.7126436781609196\n",
      "The validation accuracy for k= 2 is  0.40401785714285715\n",
      "\n",
      "\n",
      "The training accuracy for k= 4 is  0.6340996168582376\n",
      "The validation accuracy for k= 4 is  0.40625\n",
      "\n",
      "\n",
      "The training accuracy for k= 6 is  0.5795019157088123\n",
      "The validation accuracy for k= 6 is  0.4107142857142857\n",
      "\n",
      "\n",
      "The training accuracy for k= 8 is  0.5517241379310345\n",
      "The validation accuracy for k= 8 is  0.43080357142857145\n",
      "\n",
      "\n",
      "The training accuracy for k= 10 is  0.5555555555555556\n",
      "The validation accuracy for k= 10 is  0.421875\n",
      "\n",
      "\n"
     ]
    }
   ],
   "source": [
    "k_values1 = range(2,12,2)\n",
    "\n",
    "accuracy_t1 = dict.fromkeys(k_values1)\n",
    "accuracy_v1 = dict.fromkeys(k_values1)\n",
    "\n",
    "for k1 in k_values1:\n",
    "    pipeline_knn_genre = Pipeline([('scaler2_genre', StandardScaler()),\n",
    "                             ('knn_class_genre' , neighbors.KNeighborsClassifier(n_neighbors=k1))])\n",
    "    pipeline_knn_genre.fit(X_genre_train,Y_genre_train)\n",
    "    \n",
    "    y_val_pred1 = pipeline_knn_genre.predict(X_genre_test)\n",
    "    accuracy_v1[k1] = np.sum(Y_genre_test==y_val_pred1)/len(Y_genre_test)\n",
    "\n",
    "    # Training accuracy\n",
    "    y_train_pred1 = pipeline_knn_genre.predict(X_genre_train)\n",
    "    accuracy_t1[k1] = np.sum(Y_genre_train==y_train_pred1)/len(Y_genre_train)\n",
    "\n",
    "    print(\"The training accuracy for k=\", k1, \"is \", accuracy_t1[k1])\n",
    "    print(\"The validation accuracy for k=\", k1, \"is \", accuracy_v1[k1])\n",
    "    print(\"\\n\")"
   ]
  },
  {
   "cell_type": "markdown",
   "metadata": {
    "id": "fSrJCR_cekPO"
   },
   "source": [
    "# 9 Conclusions\n",
    "\n",
    "For the given data-set Random Forest Classifier is a better pick for modelling between Random Forest and knn. However, there are many more models like the unsupervised models like knn  or heirarcal clustering that can be used and tested for a better fit. I believe a more deeper knowledge on the features could help in increasing the efficiency and performance of the model. The features i have used are not enough for classifying the audios and more features like Zero-crossing rate, spectral centroid or spectral-roll off can be used to reduce the misclassification. \n",
    "\n",
    "The idea here was to implement a multi-label classification model which would take the song-name and genre as labels for classification. On reading about it over the internet i stumbled on Multi-Label Classification with Deep Learning which can be one of the methods for implementing, however as i do have the required knowledge for deep learning, i was a bit hesistant to try this approach. I believe by using multi-label classification, we can classify based on both the genre and song and create a data-set which will have the songs segregated as per the genre.  "
   ]
  },
  {
   "cell_type": "code",
   "execution_count": null,
   "metadata": {},
   "outputs": [],
   "source": []
  }
 ],
 "metadata": {
  "colab": {
   "collapsed_sections": [],
   "name": "ECS7020P_miniproject_submission.ipynb",
   "provenance": []
  },
  "kernelspec": {
   "display_name": "Python 3",
   "language": "python",
   "name": "python3"
  },
  "language_info": {
   "codemirror_mode": {
    "name": "ipython",
    "version": 3
   },
   "file_extension": ".py",
   "mimetype": "text/x-python",
   "name": "python",
   "nbconvert_exporter": "python",
   "pygments_lexer": "ipython3",
   "version": "3.8.8"
  }
 },
 "nbformat": 4,
 "nbformat_minor": 1
}
